{
  "cells": [
    {
      "cell_type": "markdown",
      "metadata": {
        "id": "view-in-github",
        "colab_type": "text"
      },
      "source": [
        "<a href=\"https://colab.research.google.com/github/dipsankar-sinha/Wav2Vec2-ASR-Amharic-CV-16.1/blob/main/Fine_Tuning_Wav2Vec2_CV_Amharic.ipynb\" target=\"_parent\"><img src=\"https://colab.research.google.com/assets/colab-badge.svg\" alt=\"Open In Colab\"/></a>"
      ]
    },
    {
      "cell_type": "markdown",
      "metadata": {
        "id": "2aX8OWNUvzmW"
      },
      "source": [
        "**Fine Tuning Wav2Vec2 for bulding an ASR model using Mozila Common Voice Amharic Dataset:16.1**\n",
        "---\n",
        "Date:24/06/2024\n",
        "Created by: Dipsankar Sinha, MCA, KIIT-DU\n",
        "---\n",
        "**Reference: https://huggingface.co/blog/fine-tune-xlsr-wav2vec2**"
      ]
    },
    {
      "cell_type": "code",
      "execution_count": 1,
      "metadata": {
        "id": "wRIKAqdfVNfS"
      },
      "outputs": [],
      "source": [
        "from google.colab import drive\n",
        "drive.mount('/content/drive')"
      ]
    },
    {
      "cell_type": "code",
      "execution_count": 2,
      "metadata": {
        "id": "ySUQKFe1V1Y0"
      },
      "outputs": [],
      "source": [
        "%%capture\n",
        "!pip install huggingface_hub\n",
        "!pip install librosa\n",
        "!pip install jiwer\n",
        "!pip install --upgrade pyarrow\n",
        "!pip install --upgrade huggingface_hub\n",
        "!pip install transformers==4.42.0\n",
        "!pip install torch==2.3.0+cu121 -f https://download.pytorch.org/whl/cu121/torch_stable.html\n",
        "!pip install datasets==2.20.0\n",
        "!pip install tokenizers==0.19.1"
      ]
    },
    {
      "cell_type": "code",
      "execution_count": 3,
      "metadata": {
        "colab": {
          "base_uri": "https://localhost:8080/"
        },
        "id": "8ACdGyQ_D1Aa",
        "outputId": "e1657f54-8a1e-42c0-f1c3-f9bfa675abc7"
      },
      "outputs": [
        {
          "output_type": "stream",
          "name": "stdout",
          "text": [
            "Collecting torchvision==0.18\n",
            "  Downloading torchvision-0.18.0-cp310-cp310-manylinux1_x86_64.whl.metadata (6.6 kB)\n",
            "Requirement already satisfied: numpy in /usr/local/lib/python3.10/dist-packages (from torchvision==0.18) (1.26.4)\n",
            "Requirement already satisfied: torch==2.3.0 in /usr/local/lib/python3.10/dist-packages (from torchvision==0.18) (2.3.0+cu121)\n",
            "Requirement already satisfied: pillow!=8.3.*,>=5.3.0 in /usr/local/lib/python3.10/dist-packages (from torchvision==0.18) (9.4.0)\n",
            "Requirement already satisfied: filelock in /usr/local/lib/python3.10/dist-packages (from torch==2.3.0->torchvision==0.18) (3.16.0)\n",
            "Requirement already satisfied: typing-extensions>=4.8.0 in /usr/local/lib/python3.10/dist-packages (from torch==2.3.0->torchvision==0.18) (4.12.2)\n",
            "Requirement already satisfied: sympy in /usr/local/lib/python3.10/dist-packages (from torch==2.3.0->torchvision==0.18) (1.13.2)\n",
            "Requirement already satisfied: networkx in /usr/local/lib/python3.10/dist-packages (from torch==2.3.0->torchvision==0.18) (3.3)\n",
            "Requirement already satisfied: jinja2 in /usr/local/lib/python3.10/dist-packages (from torch==2.3.0->torchvision==0.18) (3.1.4)\n",
            "Requirement already satisfied: fsspec in /usr/local/lib/python3.10/dist-packages (from torch==2.3.0->torchvision==0.18) (2024.5.0)\n",
            "Requirement already satisfied: nvidia-cuda-nvrtc-cu12==12.1.105 in /usr/local/lib/python3.10/dist-packages (from torch==2.3.0->torchvision==0.18) (12.1.105)\n",
            "Requirement already satisfied: nvidia-cuda-runtime-cu12==12.1.105 in /usr/local/lib/python3.10/dist-packages (from torch==2.3.0->torchvision==0.18) (12.1.105)\n",
            "Requirement already satisfied: nvidia-cuda-cupti-cu12==12.1.105 in /usr/local/lib/python3.10/dist-packages (from torch==2.3.0->torchvision==0.18) (12.1.105)\n",
            "Requirement already satisfied: nvidia-cudnn-cu12==8.9.2.26 in /usr/local/lib/python3.10/dist-packages (from torch==2.3.0->torchvision==0.18) (8.9.2.26)\n",
            "Requirement already satisfied: nvidia-cublas-cu12==12.1.3.1 in /usr/local/lib/python3.10/dist-packages (from torch==2.3.0->torchvision==0.18) (12.1.3.1)\n",
            "Requirement already satisfied: nvidia-cufft-cu12==11.0.2.54 in /usr/local/lib/python3.10/dist-packages (from torch==2.3.0->torchvision==0.18) (11.0.2.54)\n",
            "Requirement already satisfied: nvidia-curand-cu12==10.3.2.106 in /usr/local/lib/python3.10/dist-packages (from torch==2.3.0->torchvision==0.18) (10.3.2.106)\n",
            "Requirement already satisfied: nvidia-cusolver-cu12==11.4.5.107 in /usr/local/lib/python3.10/dist-packages (from torch==2.3.0->torchvision==0.18) (11.4.5.107)\n",
            "Requirement already satisfied: nvidia-cusparse-cu12==12.1.0.106 in /usr/local/lib/python3.10/dist-packages (from torch==2.3.0->torchvision==0.18) (12.1.0.106)\n",
            "Requirement already satisfied: nvidia-nccl-cu12==2.20.5 in /usr/local/lib/python3.10/dist-packages (from torch==2.3.0->torchvision==0.18) (2.20.5)\n",
            "Requirement already satisfied: nvidia-nvtx-cu12==12.1.105 in /usr/local/lib/python3.10/dist-packages (from torch==2.3.0->torchvision==0.18) (12.1.105)\n",
            "Requirement already satisfied: triton==2.3.0 in /usr/local/lib/python3.10/dist-packages (from torch==2.3.0->torchvision==0.18) (2.3.0)\n",
            "Requirement already satisfied: nvidia-nvjitlink-cu12 in /usr/local/lib/python3.10/dist-packages (from nvidia-cusolver-cu12==11.4.5.107->torch==2.3.0->torchvision==0.18) (12.6.68)\n",
            "Requirement already satisfied: MarkupSafe>=2.0 in /usr/local/lib/python3.10/dist-packages (from jinja2->torch==2.3.0->torchvision==0.18) (2.1.5)\n",
            "Requirement already satisfied: mpmath<1.4,>=1.1.0 in /usr/local/lib/python3.10/dist-packages (from sympy->torch==2.3.0->torchvision==0.18) (1.3.0)\n",
            "Downloading torchvision-0.18.0-cp310-cp310-manylinux1_x86_64.whl (7.0 MB)\n",
            "\u001b[2K   \u001b[90m━━━━━━━━━━━━━━━━━━━━━━━━━━━━━━━━━━━━━━━━\u001b[0m \u001b[32m7.0/7.0 MB\u001b[0m \u001b[31m60.7 MB/s\u001b[0m eta \u001b[36m0:00:00\u001b[0m\n",
            "\u001b[?25hInstalling collected packages: torchvision\n",
            "  Attempting uninstall: torchvision\n",
            "    Found existing installation: torchvision 0.19.0+cu121\n",
            "    Uninstalling torchvision-0.19.0+cu121:\n",
            "      Successfully uninstalled torchvision-0.19.0+cu121\n",
            "Successfully installed torchvision-0.18.0\n",
            "Collecting torchaudio==2.3.0\n",
            "  Downloading torchaudio-2.3.0-cp310-cp310-manylinux1_x86_64.whl.metadata (6.4 kB)\n",
            "Requirement already satisfied: torch==2.3.0 in /usr/local/lib/python3.10/dist-packages (from torchaudio==2.3.0) (2.3.0+cu121)\n",
            "Requirement already satisfied: filelock in /usr/local/lib/python3.10/dist-packages (from torch==2.3.0->torchaudio==2.3.0) (3.16.0)\n",
            "Requirement already satisfied: typing-extensions>=4.8.0 in /usr/local/lib/python3.10/dist-packages (from torch==2.3.0->torchaudio==2.3.0) (4.12.2)\n",
            "Requirement already satisfied: sympy in /usr/local/lib/python3.10/dist-packages (from torch==2.3.0->torchaudio==2.3.0) (1.13.2)\n",
            "Requirement already satisfied: networkx in /usr/local/lib/python3.10/dist-packages (from torch==2.3.0->torchaudio==2.3.0) (3.3)\n",
            "Requirement already satisfied: jinja2 in /usr/local/lib/python3.10/dist-packages (from torch==2.3.0->torchaudio==2.3.0) (3.1.4)\n",
            "Requirement already satisfied: fsspec in /usr/local/lib/python3.10/dist-packages (from torch==2.3.0->torchaudio==2.3.0) (2024.5.0)\n",
            "Requirement already satisfied: nvidia-cuda-nvrtc-cu12==12.1.105 in /usr/local/lib/python3.10/dist-packages (from torch==2.3.0->torchaudio==2.3.0) (12.1.105)\n",
            "Requirement already satisfied: nvidia-cuda-runtime-cu12==12.1.105 in /usr/local/lib/python3.10/dist-packages (from torch==2.3.0->torchaudio==2.3.0) (12.1.105)\n",
            "Requirement already satisfied: nvidia-cuda-cupti-cu12==12.1.105 in /usr/local/lib/python3.10/dist-packages (from torch==2.3.0->torchaudio==2.3.0) (12.1.105)\n",
            "Requirement already satisfied: nvidia-cudnn-cu12==8.9.2.26 in /usr/local/lib/python3.10/dist-packages (from torch==2.3.0->torchaudio==2.3.0) (8.9.2.26)\n",
            "Requirement already satisfied: nvidia-cublas-cu12==12.1.3.1 in /usr/local/lib/python3.10/dist-packages (from torch==2.3.0->torchaudio==2.3.0) (12.1.3.1)\n",
            "Requirement already satisfied: nvidia-cufft-cu12==11.0.2.54 in /usr/local/lib/python3.10/dist-packages (from torch==2.3.0->torchaudio==2.3.0) (11.0.2.54)\n",
            "Requirement already satisfied: nvidia-curand-cu12==10.3.2.106 in /usr/local/lib/python3.10/dist-packages (from torch==2.3.0->torchaudio==2.3.0) (10.3.2.106)\n",
            "Requirement already satisfied: nvidia-cusolver-cu12==11.4.5.107 in /usr/local/lib/python3.10/dist-packages (from torch==2.3.0->torchaudio==2.3.0) (11.4.5.107)\n",
            "Requirement already satisfied: nvidia-cusparse-cu12==12.1.0.106 in /usr/local/lib/python3.10/dist-packages (from torch==2.3.0->torchaudio==2.3.0) (12.1.0.106)\n",
            "Requirement already satisfied: nvidia-nccl-cu12==2.20.5 in /usr/local/lib/python3.10/dist-packages (from torch==2.3.0->torchaudio==2.3.0) (2.20.5)\n",
            "Requirement already satisfied: nvidia-nvtx-cu12==12.1.105 in /usr/local/lib/python3.10/dist-packages (from torch==2.3.0->torchaudio==2.3.0) (12.1.105)\n",
            "Requirement already satisfied: triton==2.3.0 in /usr/local/lib/python3.10/dist-packages (from torch==2.3.0->torchaudio==2.3.0) (2.3.0)\n",
            "Requirement already satisfied: nvidia-nvjitlink-cu12 in /usr/local/lib/python3.10/dist-packages (from nvidia-cusolver-cu12==11.4.5.107->torch==2.3.0->torchaudio==2.3.0) (12.6.68)\n",
            "Requirement already satisfied: MarkupSafe>=2.0 in /usr/local/lib/python3.10/dist-packages (from jinja2->torch==2.3.0->torchaudio==2.3.0) (2.1.5)\n",
            "Requirement already satisfied: mpmath<1.4,>=1.1.0 in /usr/local/lib/python3.10/dist-packages (from sympy->torch==2.3.0->torchaudio==2.3.0) (1.3.0)\n",
            "Downloading torchaudio-2.3.0-cp310-cp310-manylinux1_x86_64.whl (3.3 MB)\n",
            "\u001b[2K   \u001b[90m━━━━━━━━━━━━━━━━━━━━━━━━━━━━━━━━━━━━━━━━\u001b[0m \u001b[32m3.3/3.3 MB\u001b[0m \u001b[31m27.9 MB/s\u001b[0m eta \u001b[36m0:00:00\u001b[0m\n",
            "\u001b[?25hInstalling collected packages: torchaudio\n",
            "  Attempting uninstall: torchaudio\n",
            "    Found existing installation: torchaudio 2.4.0+cu121\n",
            "    Uninstalling torchaudio-2.4.0+cu121:\n",
            "      Successfully uninstalled torchaudio-2.4.0+cu121\n",
            "Successfully installed torchaudio-2.3.0\n"
          ]
        }
      ],
      "source": [
        "!pip install torchvision==0.18\n",
        "!pip install torchaudio==2.3.0"
      ]
    },
    {
      "cell_type": "code",
      "execution_count": 4,
      "metadata": {
        "colab": {
          "base_uri": "https://localhost:8080/"
        },
        "id": "YELVqGxMxnbG",
        "outputId": "a78605eb-335a-4562-b8fa-0cbea7afa7e8"
      },
      "outputs": [
        {
          "output_type": "stream",
          "name": "stdout",
          "text": [
            "Sun Sep 15 16:57:41 2024       \n",
            "+---------------------------------------------------------------------------------------+\n",
            "| NVIDIA-SMI 535.104.05             Driver Version: 535.104.05   CUDA Version: 12.2     |\n",
            "|-----------------------------------------+----------------------+----------------------+\n",
            "| GPU  Name                 Persistence-M | Bus-Id        Disp.A | Volatile Uncorr. ECC |\n",
            "| Fan  Temp   Perf          Pwr:Usage/Cap |         Memory-Usage | GPU-Util  Compute M. |\n",
            "|                                         |                      |               MIG M. |\n",
            "|=========================================+======================+======================|\n",
            "|   0  Tesla T4                       Off | 00000000:00:04.0 Off |                    0 |\n",
            "| N/A   41C    P8               9W /  70W |      0MiB / 15360MiB |      0%      Default |\n",
            "|                                         |                      |                  N/A |\n",
            "+-----------------------------------------+----------------------+----------------------+\n",
            "                                                                                         \n",
            "+---------------------------------------------------------------------------------------+\n",
            "| Processes:                                                                            |\n",
            "|  GPU   GI   CI        PID   Type   Process name                            GPU Memory |\n",
            "|        ID   ID                                                             Usage      |\n",
            "|=======================================================================================|\n",
            "|  No running processes found                                                           |\n",
            "+---------------------------------------------------------------------------------------+\n"
          ]
        }
      ],
      "source": [
        "gpu_info = !nvidia-smi\n",
        "gpu_info = '\\n'.join(gpu_info)\n",
        "if gpu_info.find('failed') >= 0:\n",
        "  print('Not connected to a GPU')\n",
        "else:\n",
        "  print(gpu_info)"
      ]
    },
    {
      "cell_type": "code",
      "execution_count": 5,
      "metadata": {
        "colab": {
          "base_uri": "https://localhost:8080/",
          "height": 145,
          "referenced_widgets": [
            "6854bc1473f94ca1b501bb704c239028",
            "42a312fad87043be9d85c6c4c5e23645",
            "4e4fb6553847498aa21c8d34bfd790a4",
            "b75fd9823493487eaf707e640e7264c5",
            "eaba5df11d4d47b6bf17e4e51df03add",
            "bd73c77c074e4395b641dc21dd614d09",
            "9b8dbaab2fb14b7283ce672ef7c520f3",
            "d424167de2774006837cbd5f0ed7b149",
            "d11a8ba438c34902b11e6d70be3ce33f",
            "dcf7a224430d424f95ee34a5103c413d",
            "5339bb0d61e8498a9ad23f093cc7027b",
            "ee9a0118932948198c768060477d9cbc",
            "9f6a1565674a44cf874c54edd6ea25a6",
            "c33c791f1789476584e9b08f4c25ba05",
            "e404472c2ad848cb8667ac4a9f0f8264",
            "e5910680f7e14d3c8e10050660560786",
            "2b1d7c424e3d4ff6a67f6b2ae12bdd74",
            "f62ef9b68b2c4f7fb1ffd51348a668d8",
            "04d6ecba3d0441db9be3fb41d8451068",
            "a390878f56dc44aaa81a93d3fed71a10",
            "c02acb934ad14a668490298599bccb76",
            "d8328ecbb1634b848725ab2e6d9db6f1",
            "e72e372fc89f4aa4b494aeb41bea383c",
            "1303e9460fe54c0ca9936fa96dc645fe",
            "bd4ff895384c4ff7abb8d0897e644669",
            "f193180057d3476793dc05df0d4a8e8f",
            "0146c80c3fd24599aeff0c1053160384",
            "334775ef57e94592beb1807c1fc26216",
            "255722bfef2f4afdaa028a61d264790e",
            "81925e1fa1654e6bba43ca2abb36fee2",
            "0aaa39f4125343109ed2c07d9729c1de",
            "97ebd05407f9485c833789ff2d354800"
          ]
        },
        "id": "rhJCRhaAY-N_",
        "outputId": "294b13e9-3bc2-4ecb-b04e-fdac8da78839"
      },
      "outputs": [
        {
          "output_type": "display_data",
          "data": {
            "text/plain": [
              "VBox(children=(HTML(value='<center> <img\\nsrc=https://huggingface.co/front/assets/huggingface_logo-noborder.sv…"
            ],
            "application/vnd.jupyter.widget-view+json": {
              "version_major": 2,
              "version_minor": 0,
              "model_id": "6854bc1473f94ca1b501bb704c239028"
            }
          },
          "metadata": {}
        }
      ],
      "source": [
        "from huggingface_hub import notebook_login\n",
        "\n",
        "notebook_login()\n"
      ]
    },
    {
      "cell_type": "code",
      "execution_count": 52,
      "metadata": {
        "colab": {
          "base_uri": "https://localhost:8080/"
        },
        "id": "PuaRtNNMZW7n",
        "outputId": "5f0be958-302a-403f-d535-fb9232cd7355"
      },
      "outputs": [
        {
          "output_type": "stream",
          "name": "stdout",
          "text": [
            "Reading package lists... Done\n",
            "Building dependency tree... Done\n",
            "Reading state information... Done\n",
            "git-lfs is already the newest version (3.0.2-1ubuntu0.2).\n",
            "0 upgraded, 0 newly installed, 0 to remove and 49 not upgraded.\n"
          ]
        }
      ],
      "source": [
        "!apt install git-lfs"
      ]
    },
    {
      "cell_type": "code",
      "execution_count": 53,
      "metadata": {
        "id": "FA4LCUZaZe-Z"
      },
      "outputs": [],
      "source": [
        "from datasets import load_dataset, load_metric, Audio\n",
        "\n",
        "common_voice_train = load_dataset(\"mozilla-foundation/common_voice_16_1\",\"am\",split=\"train+validation\")\n",
        "common_voice_test = load_dataset(\"mozilla-foundation/common_voice_16_1\",\"am\",split=\"test\")"
      ]
    },
    {
      "cell_type": "code",
      "execution_count": 54,
      "metadata": {
        "colab": {
          "base_uri": "https://localhost:8080/"
        },
        "id": "D81r_uSib-ik",
        "outputId": "1367e7dc-cd07-4404-de50-fb5216c4183e"
      },
      "outputs": [
        {
          "output_type": "execute_result",
          "data": {
            "text/plain": [
              "Dataset({\n",
              "    features: ['client_id', 'path', 'audio', 'sentence', 'up_votes', 'down_votes', 'age', 'gender', 'accent', 'locale', 'segment', 'variant'],\n",
              "    num_rows: 638\n",
              "})"
            ]
          },
          "metadata": {},
          "execution_count": 54
        }
      ],
      "source": [
        "common_voice_train"
      ]
    },
    {
      "cell_type": "code",
      "execution_count": 55,
      "metadata": {
        "id": "tszGQHQEcHYq"
      },
      "outputs": [],
      "source": [
        "common_voice_train = common_voice_train.remove_columns([\"accent\", \"age\", \"client_id\", \"down_votes\", \"gender\", \"locale\", \"segment\", \"up_votes\",\"variant\"])\n",
        "common_voice_test = common_voice_test.remove_columns([\"accent\", \"age\", \"client_id\", \"down_votes\", \"gender\", \"locale\", \"segment\", \"up_votes\",\"variant\"])"
      ]
    },
    {
      "cell_type": "code",
      "execution_count": 56,
      "metadata": {
        "colab": {
          "base_uri": "https://localhost:8080/"
        },
        "id": "_pBS8j7qdlHU",
        "outputId": "4835007f-db76-477d-d1d5-c93a1aa2322a"
      },
      "outputs": [
        {
          "output_type": "execute_result",
          "data": {
            "text/plain": [
              "Dataset({\n",
              "    features: ['path', 'audio', 'sentence'],\n",
              "    num_rows: 162\n",
              "})"
            ]
          },
          "metadata": {},
          "execution_count": 56
        }
      ],
      "source": [
        "common_voice_test"
      ]
    },
    {
      "cell_type": "code",
      "execution_count": 57,
      "metadata": {
        "id": "YyhP-14QceU3"
      },
      "outputs": [],
      "source": [
        "from datasets import ClassLabel\n",
        "import random\n",
        "import pandas as pd\n",
        "from IPython.display import display, HTML\n",
        "\n",
        "def show_random_elements(dataset, num_examples=10):\n",
        "    assert num_examples <= len(dataset), \"Can't pick more elements than there are in the dataset.\"\n",
        "    picks = []\n",
        "    for _ in range(num_examples):\n",
        "        pick = random.randint(0, len(dataset)-1)\n",
        "        while pick in picks:\n",
        "            pick = random.randint(0, len(dataset)-1)\n",
        "        picks.append(pick)\n",
        "\n",
        "    df = pd.DataFrame(dataset[picks])\n",
        "    display(HTML(df.to_html()))\n"
      ]
    },
    {
      "cell_type": "code",
      "execution_count": 58,
      "metadata": {
        "colab": {
          "base_uri": "https://localhost:8080/",
          "height": 363
        },
        "id": "J4gc8Ut9cpI5",
        "outputId": "ddf5e0fd-1be8-4618-c75c-579c1ff7d034"
      },
      "outputs": [
        {
          "output_type": "display_data",
          "data": {
            "text/plain": [
              "<IPython.core.display.HTML object>"
            ],
            "text/html": [
              "<table border=\"1\" class=\"dataframe\">\n",
              "  <thead>\n",
              "    <tr style=\"text-align: right;\">\n",
              "      <th></th>\n",
              "      <th>sentence</th>\n",
              "    </tr>\n",
              "  </thead>\n",
              "  <tbody>\n",
              "    <tr>\n",
              "      <th>0</th>\n",
              "      <td>በቀዳሚዎቹ ዘመናት አባታችን አዳም አትብላ የተባለውን ዕጸ በለስ በልቶ የፈጣሪን ትእዛዝ ተላለፈ</td>\n",
              "    </tr>\n",
              "    <tr>\n",
              "      <th>1</th>\n",
              "      <td>ነገር ግን ሚኒስትሩ ለቢቢሲ እንደገለጹት ጄነራሎቹ የአገሪቷን የመሪነት ስፍራ ይቆናጠጣሉ የሚል ግምት እንዳልነበራቸው ነው።</td>\n",
              "    </tr>\n",
              "    <tr>\n",
              "      <th>2</th>\n",
              "      <td>ትኩረትን መስጠት መንፈሳዊነትን ማጎልበት በጥሞና ዘለግ ላለ ሰዓት መቆየት እና ራስን ማሻሻል ነው ይላሉ በመጽሐፋቸው።</td>\n",
              "    </tr>\n",
              "    <tr>\n",
              "      <th>3</th>\n",
              "      <td>በወንዶች የማራቶን ውድድር ቀነኒሳ በቀለን ጨምሮ በርቀቱ የዓለማችን ፈጣን የሆኑ አራት አትሎቶች ተሳታፊ ይሆናሉ።</td>\n",
              "    </tr>\n",
              "    <tr>\n",
              "      <th>4</th>\n",
              "      <td>የብረት ባለሙያ የነበሩት ሉላ ሲልቫ አምስት መቶ ሰማኒያ ቀናትን በእስር አሰልፈዋል።</td>\n",
              "    </tr>\n",
              "    <tr>\n",
              "      <th>5</th>\n",
              "      <td>የቤተሰብ አባላት ቀብራቸውን ለመፈፀም የሚያስችል ፈቃድ ከሚመለከታቸው የመንግሥት ኃላፊዎች ማግኘት አልቻሉም።</td>\n",
              "    </tr>\n",
              "    <tr>\n",
              "      <th>6</th>\n",
              "      <td>በረመዳን ወቅት ልምምድ ስታደርግ የነበረችው ሲፈን በመጀመሪያ የማራቶን ውድድሯ ታሸንፋለች ተብሎ አልተጠብቅም ነበር።</td>\n",
              "    </tr>\n",
              "    <tr>\n",
              "      <th>7</th>\n",
              "      <td>ለምን የተለዩ እንደሆኑ ገና አልታወቀም ይላሉ ፕሮፌሰሯ።</td>\n",
              "    </tr>\n",
              "    <tr>\n",
              "      <th>8</th>\n",
              "      <td>በተለይ በጠዋቱ ክፍለ ጊዜ የሰውነት እንቅስቃሴ ማድረግ ከባድ ሊመስል ይችላል።</td>\n",
              "    </tr>\n",
              "    <tr>\n",
              "      <th>9</th>\n",
              "      <td>ነገር ግን መጠኑን መወሰን ተገቢ ነው ሲሉ ይመክራሉ።</td>\n",
              "    </tr>\n",
              "  </tbody>\n",
              "</table>"
            ]
          },
          "metadata": {}
        }
      ],
      "source": [
        "show_random_elements(common_voice_train.remove_columns([\"path\",\"audio\"]), num_examples=10)"
      ]
    },
    {
      "cell_type": "code",
      "execution_count": 59,
      "metadata": {
        "id": "vh8Cj3LEfcIa"
      },
      "outputs": [],
      "source": [
        "import re\n",
        "chars_to_ignore_regex = '[\\,\\?\\.\\!\\-\\;\\:\\\"፡።፣፤፦፧፨፠]'\n",
        "\n",
        "def remove_special_characters(batch):\n",
        "    batch[\"sentence\"] = re.sub(chars_to_ignore_regex, '', batch[\"sentence\"]) + \" \"\n",
        "    return batch"
      ]
    },
    {
      "cell_type": "code",
      "execution_count": 60,
      "metadata": {
        "id": "2n3TjyGxjI_A"
      },
      "outputs": [],
      "source": [
        "common_voice_train = common_voice_train.map(remove_special_characters)\n",
        "common_voice_test = common_voice_test.map(remove_special_characters)"
      ]
    },
    {
      "cell_type": "code",
      "execution_count": 61,
      "metadata": {
        "colab": {
          "base_uri": "https://localhost:8080/",
          "height": 363
        },
        "id": "PS4BGipvf4En",
        "outputId": "b9a043b5-cce8-4f7c-a702-c3946e1cf1c5"
      },
      "outputs": [
        {
          "output_type": "display_data",
          "data": {
            "text/plain": [
              "<IPython.core.display.HTML object>"
            ],
            "text/html": [
              "<table border=\"1\" class=\"dataframe\">\n",
              "  <thead>\n",
              "    <tr style=\"text-align: right;\">\n",
              "      <th></th>\n",
              "      <th>sentence</th>\n",
              "    </tr>\n",
              "  </thead>\n",
              "  <tbody>\n",
              "    <tr>\n",
              "      <th>0</th>\n",
              "      <td>በተለይ ሲጋራ ስጡኝ ማለት ሲያቆሙ ቤተሰቡ ግራ ተጋብቷል</td>\n",
              "    </tr>\n",
              "    <tr>\n",
              "      <th>1</th>\n",
              "      <td>ይኽ የሚሆነው ግን እንደ ኒቆዲሞስ ተስፋን ሰንቀው ወደ ትንሣኤው ብርሃን የሚገሠግሡ ናቸው</td>\n",
              "    </tr>\n",
              "    <tr>\n",
              "      <th>2</th>\n",
              "      <td>ፓስተር ማኬንዚ ከአንድ ሳምንት በፊት በቁጥጥር ሥር ውሏል</td>\n",
              "    </tr>\n",
              "    <tr>\n",
              "      <th>3</th>\n",
              "      <td>በኋላ ታዲያ አገረ ገዢው ኪሱ ሲገባ ቦርሳው እንደጠፋበት አወቀ</td>\n",
              "    </tr>\n",
              "    <tr>\n",
              "      <th>4</th>\n",
              "      <td>አንድ ምሥል ደግሞ ሕንጻ ጣሪያ ላይ የወጣ መኪና ያሳያል</td>\n",
              "    </tr>\n",
              "    <tr>\n",
              "      <th>5</th>\n",
              "      <td>የማኅበረሰብ አንቂዎችን ዒላማ ያደረገ እስር እና ወከባ በእጅጉ አሳሳስቦኛል ብሎ ነበር</td>\n",
              "    </tr>\n",
              "    <tr>\n",
              "      <th>6</th>\n",
              "      <td>የማሪዩፖል ከተማ ለወራት ከዘለቀው መራራ ጦርነት በኋላ በሩሲያ ወታደሮች ቁጥጥር ስር ውስጥ ገብታለች</td>\n",
              "    </tr>\n",
              "    <tr>\n",
              "      <th>7</th>\n",
              "      <td>ቾይ የፕሬዝደንት ፓርክን መልካም ግንኙነት ተጠቅመው ከባለሃብቶች ጋር ሚሊዮን ዶላሮችን በእርዳታ መልክ ማግኘት ችለዋል</td>\n",
              "    </tr>\n",
              "    <tr>\n",
              "      <th>8</th>\n",
              "      <td>እርሷም አዎ አለችው</td>\n",
              "    </tr>\n",
              "    <tr>\n",
              "      <th>9</th>\n",
              "      <td>እያዩ መሰወር እዛው ሆኖ ማጣት</td>\n",
              "    </tr>\n",
              "  </tbody>\n",
              "</table>"
            ]
          },
          "metadata": {}
        }
      ],
      "source": [
        "show_random_elements(common_voice_train.remove_columns([\"path\",\"audio\"]))"
      ]
    },
    {
      "cell_type": "code",
      "execution_count": 62,
      "metadata": {
        "id": "B4oRyhh8ieNo"
      },
      "outputs": [],
      "source": [
        "def extract_all_chars(batch):\n",
        "  all_text = \" \".join(batch[\"sentence\"])\n",
        "  vocab = list(set(all_text))\n",
        "  return {\"vocab\": [vocab], \"all_text\": [all_text]}\n"
      ]
    },
    {
      "cell_type": "code",
      "execution_count": 63,
      "metadata": {
        "colab": {
          "base_uri": "https://localhost:8080/",
          "height": 81,
          "referenced_widgets": [
            "5b0f98233a3649c4b454cd2c82fd1e49",
            "c52f7d2a9d3f4cc9ac456363a819890e",
            "61a5e94162be4725b96495863441e8d5",
            "b48de728723240aea9429d5a0ace3580",
            "ca2be0f7972c4895932192180c6bd060",
            "3904f79f9d6f45eebf320580d1dd5325",
            "f974068976ba4f9d8ce5d83481bc5a93",
            "525ed065206446ca9a7797c963b10ebe",
            "c0b24623696246e3b552f58f38d30f55",
            "824bb9d199034945aea548adda537c5a",
            "a6f366c957ea4c608faf51dc47b15c1b",
            "98827e562fc44506a090ef7fb3cb8e54",
            "ab0cdd5da06845428d3df709c76a00dd",
            "636e88b492e947dd8a2ab0f9552256c1",
            "44f51017628f4f09ac8ec2620e79130f",
            "bb493846a9f74a948a3aaa8c98b9cd36",
            "46756df2b9e0457cb4657693b48d3b3c",
            "82dc36ae8d6140789940ca96093ce6dc",
            "d752568ee4aa4425b836a20472f9c8e1",
            "5353658d13ff4c538d916c4ab6bdaf4b",
            "5e72eb1fbd58416aa9d3e7109f28e5f3",
            "357a2a2c9e2a4da48dd6d8bd5a12b785"
          ]
        },
        "id": "GeNvAxE4j3gZ",
        "outputId": "0231e9b7-c1ca-4bf6-817b-8cc6b3f36c57"
      },
      "outputs": [
        {
          "output_type": "display_data",
          "data": {
            "text/plain": [
              "Map:   0%|          | 0/638 [00:00<?, ? examples/s]"
            ],
            "application/vnd.jupyter.widget-view+json": {
              "version_major": 2,
              "version_minor": 0,
              "model_id": "5b0f98233a3649c4b454cd2c82fd1e49"
            }
          },
          "metadata": {}
        },
        {
          "output_type": "display_data",
          "data": {
            "text/plain": [
              "Map:   0%|          | 0/162 [00:00<?, ? examples/s]"
            ],
            "application/vnd.jupyter.widget-view+json": {
              "version_major": 2,
              "version_minor": 0,
              "model_id": "98827e562fc44506a090ef7fb3cb8e54"
            }
          },
          "metadata": {}
        }
      ],
      "source": [
        "vocab_train = common_voice_train.map(extract_all_chars, batched=True, batch_size=-1, keep_in_memory=True, remove_columns=common_voice_train.column_names)\n",
        "vocab_test = common_voice_test.map(extract_all_chars, batched=True, batch_size=-1, keep_in_memory=True, remove_columns=common_voice_test.column_names)\n"
      ]
    },
    {
      "cell_type": "code",
      "execution_count": 64,
      "metadata": {
        "colab": {
          "base_uri": "https://localhost:8080/"
        },
        "id": "59asOrz6j69u",
        "outputId": "70178881-9264-4d32-ec77-ede786dc1734"
      },
      "outputs": [
        {
          "output_type": "execute_result",
          "data": {
            "text/plain": [
              "{'ፕ': 0,\n",
              " 'ዑ': 1,\n",
              " 'እ': 2,\n",
              " 'ዳ': 3,\n",
              " 'ሠ': 4,\n",
              " 'ቀ': 5,\n",
              " 'ቧ': 6,\n",
              " 'ፉ': 7,\n",
              " 'ዤ': 8,\n",
              " 'ጲ': 9,\n",
              " 'ው': 10,\n",
              " 'ዙ': 11,\n",
              " 'ሬ': 12,\n",
              " 'ሳ': 13,\n",
              " 'ቼ': 14,\n",
              " 'ጄ': 15,\n",
              " 'ሚ': 16,\n",
              " 'ቦ': 17,\n",
              " 'ጁ': 18,\n",
              " 'ዛ': 19,\n",
              " 'ባ': 20,\n",
              " 'ጶ': 21,\n",
              " 'ዣ': 22,\n",
              " 'ጧ': 23,\n",
              " 'ጪ': 24,\n",
              " 'ን': 25,\n",
              " 'ኔ': 26,\n",
              " 'ቫ': 27,\n",
              " 'ሸ': 28,\n",
              " 'ጠ': 29,\n",
              " 'ኢ': 30,\n",
              " 'ኪ': 31,\n",
              " 'ላ': 32,\n",
              " 'ብ': 33,\n",
              " 'ቾ': 34,\n",
              " 'ገ': 35,\n",
              " 'ሽ': 36,\n",
              " 'ሾ': 37,\n",
              " 'ቅ': 38,\n",
              " 'ጮ': 39,\n",
              " 'ቸ': 40,\n",
              " 'ጸ': 41,\n",
              " 'ቹ': 42,\n",
              " 'ኖ': 43,\n",
              " 'ሄ': 44,\n",
              " 'ሯ': 45,\n",
              " 'ና': 46,\n",
              " 'ኤ': 47,\n",
              " 'ዟ': 48,\n",
              " 'ኑ': 49,\n",
              " 'ጣ': 50,\n",
              " 'ዮ': 51,\n",
              " 'ቶ': 52,\n",
              " 'ዐ': 53,\n",
              " 'ሙ': 54,\n",
              " 'ዞ': 55,\n",
              " 'ጤ': 56,\n",
              " 'ማ': 57,\n",
              " '“': 58,\n",
              " 'ኃ': 59,\n",
              " 'ሔ': 60,\n",
              " 'አ': 61,\n",
              " 'ታ': 62,\n",
              " 'ሑ': 63,\n",
              " 'ተ': 64,\n",
              " 'ጊ': 65,\n",
              " 'ጹ': 66,\n",
              " 'ሎ': 67,\n",
              " 'ኛ': 68,\n",
              " 'ኩ': 69,\n",
              " 'ቃ': 70,\n",
              " 'ቡ': 71,\n",
              " 'ት': 72,\n",
              " 'ዒ': 73,\n",
              " 'ጌ': 74,\n",
              " 'ኬ': 75,\n",
              " 'ሮ': 76,\n",
              " 'ቷ': 77,\n",
              " 'ሼ': 78,\n",
              " 'ጿ': 79,\n",
              " 'ስ': 80,\n",
              " 'ጉ': 81,\n",
              " 'ጾ': 82,\n",
              " 'ኳ': 83,\n",
              " 'ጂ': 84,\n",
              " 'ጽ': 85,\n",
              " 'ህ': 86,\n",
              " 'ዚ': 87,\n",
              " 'በ': 88,\n",
              " 'ር': 89,\n",
              " 'ሞ': 90,\n",
              " 'ፖ': 91,\n",
              " 'ች': 92,\n",
              " 'ዜ': 93,\n",
              " 'ቆ': 94,\n",
              " 'ፋ': 95,\n",
              " 'ቴ': 96,\n",
              " 'ፍ': 97,\n",
              " 'ፈ': 98,\n",
              " 'ፑ': 99,\n",
              " 'ኙ': 100,\n",
              " 'ሩ': 101,\n",
              " '”': 102,\n",
              " 'ጎ': 103,\n",
              " 'ነ': 104,\n",
              " 'ሉ': 105,\n",
              " 'ወ': 106,\n",
              " 'ሶ': 107,\n",
              " 'ፔ': 108,\n",
              " 'ሷ': 109,\n",
              " 'ጡ': 110,\n",
              " 'ሌ': 111,\n",
              " 'ዩ': 112,\n",
              " 'ኡ': 113,\n",
              " 'ጭ': 114,\n",
              " 'ጆ': 115,\n",
              " 'ጴ': 116,\n",
              " 'ከ': 117,\n",
              " 'ሕ': 118,\n",
              " 'ሜ': 119,\n",
              " 'ፏ': 120,\n",
              " 'ም': 121,\n",
              " 'ራ': 122,\n",
              " 'ይ': 123,\n",
              " 'ጓ': 124,\n",
              " 'ኦ': 125,\n",
              " 'ዕ': 126,\n",
              " 'ሀ': 127,\n",
              " 'ሣ': 128,\n",
              " 'ጢ': 129,\n",
              " 'ዝ': 130,\n",
              " 'ጥ': 131,\n",
              " 'ኟ': 132,\n",
              " 'ፁ': 133,\n",
              " 'ካ': 134,\n",
              " 'ዌ': 135,\n",
              " 'ፌ': 136,\n",
              " 'ዷ': 137,\n",
              " 'ኸ': 138,\n",
              " 'ዎ': 139,\n",
              " 'ሁ': 140,\n",
              " 'ቲ': 141,\n",
              " 'ለ': 142,\n",
              " 'ድ': 143,\n",
              " 'ኀ': 144,\n",
              " 'ቂ': 145,\n",
              " 'ሱ': 146,\n",
              " 'ቄ': 147,\n",
              " 'ኅ': 148,\n",
              " 'ፃ': 149,\n",
              " 'ዋ': 150,\n",
              " 'ጻ': 151,\n",
              " 'ጫ': 152,\n",
              " 'ፅ': 153,\n",
              " 'ሟ': 154,\n",
              " 'ፒ': 155,\n",
              " 'ኒ': 156,\n",
              " 'ጋ': 157,\n",
              " 'ሐ': 158,\n",
              " 'ሓ': 159,\n",
              " 'ቮ': 160,\n",
              " 'ፓ': 161,\n",
              " 'ኘ': 162,\n",
              " 'ጃ': 163,\n",
              " 'ሦ': 164,\n",
              " 'ጦ': 165,\n",
              " 'ሲ': 166,\n",
              " 'ሻ': 167,\n",
              " 'ቢ': 168,\n",
              " 'ሹ': 169,\n",
              " 'ጺ': 170,\n",
              " ' ': 171,\n",
              " 'ል': 172,\n",
              " 'ኮ': 173,\n",
              " 'ዱ': 174,\n",
              " 'ሥ': 175,\n",
              " 'ቻ': 176,\n",
              " 'ዴ': 177,\n",
              " 'ሰ': 178,\n",
              " 'ጀ': 179,\n",
              " 'ሆ': 180,\n",
              " 'ፀ': 181,\n",
              " 'ዬ': 182,\n",
              " 'ፎ': 183,\n",
              " 'ቤ': 184,\n",
              " 'ቋ': 185,\n",
              " 'ጩ': 186,\n",
              " 'ዦ': 187,\n",
              " 'ቱ': 188,\n",
              " 'ዶ': 189,\n",
              " 'ኞ': 190,\n",
              " 'ረ': 191,\n",
              " 'ኗ': 192,\n",
              " 'ጬ': 193,\n",
              " 'ክ': 194,\n",
              " 'ዊ': 195,\n",
              " 'ቭ': 196,\n",
              " 'ቺ': 197,\n",
              " 'ሺ': 198,\n",
              " 'ሃ': 199,\n",
              " 'ዓ': 200,\n",
              " 'ኽ': 201,\n",
              " 'ያ': 202,\n",
              " 'መ': 203,\n",
              " 'ግ': 204,\n",
              " 'ዘ': 205,\n",
              " 'ኝ': 206,\n",
              " 'ሏ': 207,\n",
              " 'ዲ': 208,\n",
              " 'ሡ': 209,\n",
              " 'ጵ': 210,\n",
              " 'ሂ': 211,\n",
              " 'ዢ': 212,\n",
              " 'ሊ': 213,\n",
              " 'ጨ': 214,\n",
              " 'ቿ': 215,\n",
              " 'ቁ': 216,\n",
              " 'ኋ': 217,\n",
              " 'ቨ': 218,\n",
              " 'ሴ': 219,\n",
              " 'ዖ': 220,\n",
              " 'ዥ': 221,\n",
              " 'ቪ': 222,\n",
              " 'ደ': 223,\n",
              " 'ፊ': 224,\n",
              " 'ጅ': 225,\n",
              " 'የ': 226,\n",
              " 'ሪ': 227}"
            ]
          },
          "metadata": {},
          "execution_count": 64
        }
      ],
      "source": [
        "vocab_list = list(set(vocab_train[\"vocab\"][0]) | set(vocab_test[\"vocab\"][0]))\n",
        "vocab_dict = {v: k for k, v in enumerate(vocab_list)}\n",
        "vocab_dict"
      ]
    },
    {
      "cell_type": "code",
      "execution_count": 65,
      "metadata": {
        "id": "zRPNNTsNkHd7"
      },
      "outputs": [],
      "source": [
        "vocab_dict[\"|\"] = vocab_dict[\" \"]\n",
        "del vocab_dict[\" \"]"
      ]
    },
    {
      "cell_type": "code",
      "execution_count": 66,
      "metadata": {
        "colab": {
          "base_uri": "https://localhost:8080/"
        },
        "id": "WBNIHcktlXdd",
        "outputId": "f9bd978d-1504-46c9-a563-2ad6b1a249f8"
      },
      "outputs": [
        {
          "output_type": "execute_result",
          "data": {
            "text/plain": [
              "230"
            ]
          },
          "metadata": {},
          "execution_count": 66
        }
      ],
      "source": [
        "vocab_dict[\"[UNK]\"] = len(vocab_dict)\n",
        "vocab_dict[\"[PAD]\"] = len(vocab_dict)\n",
        "len(vocab_dict)"
      ]
    },
    {
      "cell_type": "code",
      "execution_count": 67,
      "metadata": {
        "id": "Jl2YlrZyle0T"
      },
      "outputs": [],
      "source": [
        "import json\n",
        "with open('vocab.json', 'w') as vocab_file:\n",
        "    json.dump(vocab_dict, vocab_file)"
      ]
    },
    {
      "cell_type": "code",
      "execution_count": 68,
      "metadata": {
        "id": "98rUuPyMlunU"
      },
      "outputs": [],
      "source": [
        "from transformers import Wav2Vec2CTCTokenizer\n",
        "\n",
        "tokenizer = Wav2Vec2CTCTokenizer.from_pretrained(\"./\", unk_token=\"[UNK]\", pad_token=\"[PAD]\", word_delimiter_token=\"|\")"
      ]
    },
    {
      "cell_type": "code",
      "execution_count": 69,
      "metadata": {
        "id": "S90KaAH_l5zT"
      },
      "outputs": [],
      "source": [
        "repo_name = \"wav2vec2-large-xls-r-300m-amharic-demo-colab\""
      ]
    },
    {
      "cell_type": "code",
      "execution_count": 70,
      "metadata": {
        "colab": {
          "base_uri": "https://localhost:8080/",
          "height": 136,
          "referenced_widgets": [
            "84a689b81711442a93b8320fe7fd51ab",
            "6112961eee554b7c8264ed1f73a02e76",
            "796a43d751b1414dad62167eda0679c8",
            "144286f9741e49e7b579a20590d8c7d3",
            "388c0bb5bb3b4200ad7cc74139b2ad8c",
            "51f5439eb62e4163a28eed938c9b6c01",
            "4337e34d62dc497d8133a2b36e443a4c",
            "7b546adcbee34d639fa7d5485ed06f63",
            "4fb6ed925dbc484ba5acb2ea001b400e",
            "051f3d7165d349bca2d2dc4683fdaf6c",
            "d89159fa51854b39be4c09efe60e5cfa"
          ]
        },
        "id": "f9RFR14GmHej",
        "outputId": "c99773ab-f6b2-4186-ab06-77004b8be43e"
      },
      "outputs": [
        {
          "output_type": "display_data",
          "data": {
            "text/plain": [
              "README.md:   0%|          | 0.00/2.55k [00:00<?, ?B/s]"
            ],
            "application/vnd.jupyter.widget-view+json": {
              "version_major": 2,
              "version_minor": 0,
              "model_id": "84a689b81711442a93b8320fe7fd51ab"
            }
          },
          "metadata": {}
        },
        {
          "output_type": "stream",
          "name": "stderr",
          "text": [
            "No files have been modified since last commit. Skipping to prevent empty commit.\n",
            "WARNING:huggingface_hub.hf_api:No files have been modified since last commit. Skipping to prevent empty commit.\n"
          ]
        },
        {
          "output_type": "execute_result",
          "data": {
            "text/plain": [
              "CommitInfo(commit_url='https://huggingface.co/DipsankarSinha/wav2vec2-large-xls-r-300m-amharic-demo-colab/commit/530bd5dfdc179ce206121fc460a1427b2c0c3268', commit_message='Upload tokenizer', commit_description='', oid='530bd5dfdc179ce206121fc460a1427b2c0c3268', pr_url=None, pr_revision=None, pr_num=None)"
            ],
            "application/vnd.google.colaboratory.intrinsic+json": {
              "type": "string"
            }
          },
          "metadata": {},
          "execution_count": 70
        }
      ],
      "source": [
        "tokenizer.push_to_hub(repo_name)"
      ]
    },
    {
      "cell_type": "code",
      "execution_count": 71,
      "metadata": {
        "id": "DRllwFNwmffl"
      },
      "outputs": [],
      "source": [
        "from transformers import Wav2Vec2FeatureExtractor\n",
        "\n",
        "feature_extractor = Wav2Vec2FeatureExtractor(feature_size=1, sampling_rate=16000, padding_value=0.0, do_normalize=True, return_attention_mask=True)\n"
      ]
    },
    {
      "cell_type": "code",
      "execution_count": 72,
      "metadata": {
        "id": "1egjsejBmsFq"
      },
      "outputs": [],
      "source": [
        "from transformers import Wav2Vec2Processor\n",
        "\n",
        "processor = Wav2Vec2Processor(feature_extractor=feature_extractor, tokenizer=tokenizer)\n"
      ]
    },
    {
      "cell_type": "code",
      "execution_count": 73,
      "metadata": {
        "colab": {
          "base_uri": "https://localhost:8080/",
          "height": 52
        },
        "id": "-Mi0lihmm0cL",
        "outputId": "045a255f-4794-4ce8-a26b-cc7d8439da19"
      },
      "outputs": [
        {
          "output_type": "execute_result",
          "data": {
            "text/plain": [
              "'/root/.cache/huggingface/datasets/downloads/extracted/9fd4b5e65c558d66e65957babf9ed97d68641d9ebd55b629a42ac01f925914d7/am_train_0/common_voice_am_37761292.mp3'"
            ],
            "application/vnd.google.colaboratory.intrinsic+json": {
              "type": "string"
            }
          },
          "metadata": {},
          "execution_count": 73
        }
      ],
      "source": [
        "common_voice_train[0][\"path\"]"
      ]
    },
    {
      "cell_type": "code",
      "execution_count": 74,
      "metadata": {
        "colab": {
          "base_uri": "https://localhost:8080/"
        },
        "id": "T_lJjxXSnQzs",
        "outputId": "6fd0ffc4-f186-4629-8502-a0c28ff9cb05"
      },
      "outputs": [
        {
          "output_type": "execute_result",
          "data": {
            "text/plain": [
              "{'path': '/root/.cache/huggingface/datasets/downloads/extracted/9fd4b5e65c558d66e65957babf9ed97d68641d9ebd55b629a42ac01f925914d7/am_train_0/common_voice_am_37761292.mp3',\n",
              " 'array': array([ 0.00000000e+00,  0.00000000e+00,  0.00000000e+00, ...,\n",
              "         1.17188138e-05,  3.26943336e-06, -1.98085672e-06]),\n",
              " 'sampling_rate': 48000}"
            ]
          },
          "metadata": {},
          "execution_count": 74
        }
      ],
      "source": [
        "common_voice_train[0][\"audio\"]"
      ]
    },
    {
      "cell_type": "code",
      "execution_count": 75,
      "metadata": {
        "id": "XjALK5I3nVuR"
      },
      "outputs": [],
      "source": [
        "common_voice_train = common_voice_train.cast_column(\"audio\", Audio(sampling_rate=16_000))\n",
        "common_voice_test = common_voice_test.cast_column(\"audio\", Audio(sampling_rate=16_000))"
      ]
    },
    {
      "cell_type": "code",
      "execution_count": 76,
      "metadata": {
        "colab": {
          "base_uri": "https://localhost:8080/"
        },
        "id": "GfiOA_hXnZw1",
        "outputId": "5b980dad-823a-4c98-d1e4-dd8e91c96461"
      },
      "outputs": [
        {
          "output_type": "execute_result",
          "data": {
            "text/plain": [
              "{'path': '/root/.cache/huggingface/datasets/downloads/extracted/9fd4b5e65c558d66e65957babf9ed97d68641d9ebd55b629a42ac01f925914d7/am_train_0/common_voice_am_37761292.mp3',\n",
              " 'array': array([ 0.00000000e+00,  0.00000000e+00,  0.00000000e+00, ...,\n",
              "        -1.02513113e-05,  3.72633804e-06,  6.73267641e-06]),\n",
              " 'sampling_rate': 16000}"
            ]
          },
          "metadata": {},
          "execution_count": 76
        }
      ],
      "source": [
        "common_voice_train[0][\"audio\"]"
      ]
    },
    {
      "cell_type": "code",
      "execution_count": 77,
      "metadata": {
        "colab": {
          "base_uri": "https://localhost:8080/",
          "height": 92
        },
        "id": "1AHydxo7ncgd",
        "outputId": "5e081127-c643-4a48-a111-6db6918a707c"
      },
      "outputs": [
        {
          "output_type": "stream",
          "name": "stdout",
          "text": [
            "በኢትዮጵያ ማኅበራዊ ሚዲያዎች ላይ የተጣለው ገደብ እንዲነሳ አምነስቲ ጠየቀ \n"
          ]
        },
        {
          "output_type": "execute_result",
          "data": {
            "text/plain": [
              "<IPython.lib.display.Audio object>"
            ],
            "text/html": [
              "\n",
              "                <audio  controls=\"controls\" autoplay=\"autoplay\">\n",
              "                    <source src=\"data:audio/wav;base64,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\" type=\"audio/wav\" />\n",
              "                    Your browser does not support the audio element.\n",
              "                </audio>\n",
              "              "
            ]
          },
          "metadata": {},
          "execution_count": 77
        }
      ],
      "source": [
        "import IPython.display as ipd\n",
        "import numpy as np\n",
        "import random\n",
        "\n",
        "rand_int = random.randint(0, len(common_voice_train)-1)\n",
        "\n",
        "print(common_voice_train[rand_int][\"sentence\"])\n",
        "ipd.Audio(data=common_voice_train[rand_int][\"audio\"][\"array\"], autoplay=True, rate=16000)\n"
      ]
    },
    {
      "cell_type": "code",
      "execution_count": 78,
      "metadata": {
        "colab": {
          "base_uri": "https://localhost:8080/"
        },
        "id": "Xsxizs-qnjB6",
        "outputId": "696b3d59-a7fb-4def-b06a-d6ae1a2dbd25"
      },
      "outputs": [
        {
          "output_type": "stream",
          "name": "stdout",
          "text": [
            "Target text: ለምን የተለዩ እንደሆኑ ገና አልታወቀም ይላሉ ፕሮፌሰሯ \n",
            "Input array shape: (86976,)\n",
            "Sampling rate: 16000\n"
          ]
        }
      ],
      "source": [
        "rand_int = random.randint(0, len(common_voice_train)-1)\n",
        "\n",
        "print(\"Target text:\", common_voice_train[rand_int][\"sentence\"])\n",
        "print(\"Input array shape:\", common_voice_train[rand_int][\"audio\"][\"array\"].shape)\n",
        "print(\"Sampling rate:\", common_voice_train[rand_int][\"audio\"][\"sampling_rate\"])\n"
      ]
    },
    {
      "cell_type": "code",
      "execution_count": 79,
      "metadata": {
        "id": "iRwrp6pYn1e4"
      },
      "outputs": [],
      "source": [
        "def prepare_dataset(batch):\n",
        "    audio = batch[\"audio\"]\n",
        "\n",
        "    # batched output is \"un-batched\"\n",
        "    batch[\"input_values\"] = processor(audio[\"array\"], sampling_rate=audio[\"sampling_rate\"]).input_values[0]\n",
        "    batch[\"input_length\"] = len(batch[\"input_values\"])\n",
        "\n",
        "    with processor.as_target_processor():\n",
        "        batch[\"labels\"] = processor(batch[\"sentence\"]).input_ids\n",
        "    return batch\n"
      ]
    },
    {
      "cell_type": "code",
      "execution_count": 80,
      "metadata": {
        "id": "3on5Ry5aoEQX"
      },
      "outputs": [],
      "source": [
        "common_voice_train = common_voice_train.map(prepare_dataset, remove_columns=common_voice_train.column_names)\n",
        "common_voice_test = common_voice_test.map(prepare_dataset, remove_columns=common_voice_test.column_names)\n"
      ]
    },
    {
      "cell_type": "code",
      "execution_count": 81,
      "metadata": {
        "id": "ol-drULmoKAZ"
      },
      "outputs": [],
      "source": [
        "import torch\n",
        "\n",
        "from dataclasses import dataclass, field\n",
        "from typing import Any, Dict, List, Optional, Union\n",
        "\n",
        "@dataclass\n",
        "class DataCollatorCTCWithPadding:\n",
        "    \"\"\"\n",
        "    Data collator that will dynamically pad the inputs received.\n",
        "    Args:\n",
        "        processor (:class:`~transformers.Wav2Vec2Processor`)\n",
        "            The processor used for proccessing the data.\n",
        "        padding (:obj:`bool`, :obj:`str` or :class:`~transformers.tokenization_utils_base.PaddingStrategy`, `optional`, defaults to :obj:`True`):\n",
        "            Select a strategy to pad the returned sequences (according to the model's padding side and padding index)\n",
        "            among:\n",
        "            * :obj:`True` or :obj:`'longest'`: Pad to the longest sequence in the batch (or no padding if only a single\n",
        "              sequence if provided).\n",
        "            * :obj:`'max_length'`: Pad to a maximum length specified with the argument :obj:`max_length` or to the\n",
        "              maximum acceptable input length for the model if that argument is not provided.\n",
        "            * :obj:`False` or :obj:`'do_not_pad'` (default): No padding (i.e., can output a batch with sequences of\n",
        "              different lengths).\n",
        "    \"\"\"\n",
        "\n",
        "    processor: Wav2Vec2Processor\n",
        "    padding: Union[bool, str] = True\n",
        "\n",
        "    def __call__(self, features: List[Dict[str, Union[List[int], torch.Tensor]]]) -> Dict[str, torch.Tensor]:\n",
        "        # split inputs and labels since they have to be of different lengths and need\n",
        "        # different padding methods\n",
        "        input_features = [{\"input_values\": feature[\"input_values\"]} for feature in features]\n",
        "        label_features = [{\"input_ids\": feature[\"labels\"]} for feature in features]\n",
        "\n",
        "        batch = self.processor.pad(\n",
        "            input_features,\n",
        "            padding=self.padding,\n",
        "            return_tensors=\"pt\",\n",
        "        )\n",
        "        with self.processor.as_target_processor():\n",
        "            labels_batch = self.processor.pad(\n",
        "                label_features,\n",
        "                padding=self.padding,\n",
        "                return_tensors=\"pt\",\n",
        "            )\n",
        "\n",
        "        # replace padding with -100 to ignore loss correctly\n",
        "        labels = labels_batch[\"input_ids\"].masked_fill(labels_batch.attention_mask.ne(1), -100)\n",
        "\n",
        "        batch[\"labels\"] = labels\n",
        "\n",
        "        return batch\n"
      ]
    },
    {
      "cell_type": "code",
      "execution_count": 82,
      "metadata": {
        "id": "l0Npvtq-pBJX"
      },
      "outputs": [],
      "source": [
        "data_collator = DataCollatorCTCWithPadding(processor=processor, padding=True)"
      ]
    },
    {
      "cell_type": "code",
      "execution_count": 83,
      "metadata": {
        "id": "c8Av_ybWpEvT"
      },
      "outputs": [],
      "source": [
        "%%capture\n",
        "!pip install evaluate"
      ]
    },
    {
      "cell_type": "code",
      "execution_count": 84,
      "metadata": {
        "id": "of6PytGGFu5J"
      },
      "outputs": [],
      "source": [
        "import evaluate\n",
        "\n",
        "# Load the WER metric\n",
        "wer_metric = evaluate.load(\"wer\")"
      ]
    },
    {
      "cell_type": "code",
      "execution_count": 85,
      "metadata": {
        "id": "MuQpa7HqpVXH"
      },
      "outputs": [],
      "source": [
        "def compute_metrics(pred):\n",
        "    pred_logits = pred.predictions\n",
        "    pred_ids = np.argmax(pred_logits, axis=-1)\n",
        "\n",
        "    pred.label_ids[pred.label_ids == -100] = processor.tokenizer.pad_token_id\n",
        "\n",
        "    pred_str = processor.batch_decode(pred_ids)\n",
        "    # we do not want to group tokens when computing the metrics\n",
        "    label_str = processor.batch_decode(pred.label_ids, group_tokens=False)\n",
        "\n",
        "    wer = wer_metric.compute(predictions=pred_str, references=label_str)\n",
        "\n",
        "    return {\"wer\": wer}\n"
      ]
    },
    {
      "cell_type": "code",
      "execution_count": 86,
      "metadata": {
        "colab": {
          "base_uri": "https://localhost:8080/"
        },
        "id": "GwVQHwl7paFk",
        "outputId": "1e2a2d06-24c2-4ab2-a3f8-b63e5315abc8"
      },
      "outputs": [
        {
          "output_type": "stream",
          "name": "stderr",
          "text": [
            "Some weights of Wav2Vec2ForCTC were not initialized from the model checkpoint at facebook/wav2vec2-xls-r-300m and are newly initialized: ['lm_head.bias', 'lm_head.weight', 'wav2vec2.encoder.pos_conv_embed.conv.parametrizations.weight.original0', 'wav2vec2.encoder.pos_conv_embed.conv.parametrizations.weight.original1']\n",
            "You should probably TRAIN this model on a down-stream task to be able to use it for predictions and inference.\n"
          ]
        }
      ],
      "source": [
        "from transformers import Wav2Vec2ForCTC\n",
        "\n",
        "model = Wav2Vec2ForCTC.from_pretrained(\n",
        "    \"facebook/wav2vec2-xls-r-300m\",\n",
        "    attention_dropout=0.0,\n",
        "    hidden_dropout=0.0,\n",
        "    feat_proj_dropout=0.0,\n",
        "    mask_time_prob=0.05,\n",
        "    layerdrop=0.0,\n",
        "    ctc_loss_reduction=\"mean\",\n",
        "    pad_token_id=processor.tokenizer.pad_token_id,\n",
        "    vocab_size=len(processor.tokenizer),\n",
        ")\n"
      ]
    },
    {
      "cell_type": "code",
      "execution_count": 87,
      "metadata": {
        "id": "3MUOYlp4piom",
        "colab": {
          "base_uri": "https://localhost:8080/"
        },
        "outputId": "3884220f-0085-41c2-ea89-36b4ecf947b4"
      },
      "outputs": [
        {
          "output_type": "stream",
          "name": "stderr",
          "text": [
            "/usr/local/lib/python3.10/dist-packages/transformers/models/wav2vec2/modeling_wav2vec2.py:2284: FutureWarning: The method `freeze_feature_extractor` is deprecated and will be removed in Transformers v5. Please use the equivalent `freeze_feature_encoder` method instead.\n",
            "  warnings.warn(\n"
          ]
        }
      ],
      "source": [
        "model.freeze_feature_extractor()"
      ]
    },
    {
      "cell_type": "code",
      "execution_count": 88,
      "metadata": {
        "colab": {
          "base_uri": "https://localhost:8080/"
        },
        "id": "dbNc8HDMptW6",
        "outputId": "4035ac97-cca1-4730-9a94-13bda0ee3e2c"
      },
      "outputs": [
        {
          "output_type": "stream",
          "name": "stderr",
          "text": [
            "/usr/local/lib/python3.10/dist-packages/transformers/training_args.py:1494: FutureWarning: `evaluation_strategy` is deprecated and will be removed in version 4.46 of 🤗 Transformers. Use `eval_strategy` instead\n",
            "  warnings.warn(\n"
          ]
        }
      ],
      "source": [
        "from transformers import TrainingArguments\n",
        "\n",
        "training_args = TrainingArguments(\n",
        "  output_dir=repo_name,\n",
        "  group_by_length=True,\n",
        "  per_device_train_batch_size=16,\n",
        "  gradient_accumulation_steps=2,\n",
        "  evaluation_strategy=\"steps\",\n",
        "  num_train_epochs=60,\n",
        "  gradient_checkpointing=True,\n",
        "  fp16=True,\n",
        "  save_steps=100,\n",
        "  eval_steps=100,\n",
        "  logging_steps=100,\n",
        "  learning_rate=3e-4,\n",
        "  warmup_steps=100,\n",
        "  save_total_limit=2,\n",
        "  push_to_hub=True,\n",
        ")\n"
      ]
    },
    {
      "cell_type": "code",
      "execution_count": 89,
      "metadata": {
        "colab": {
          "base_uri": "https://localhost:8080/"
        },
        "id": "Vcn5U-LWtR49",
        "outputId": "ce6b5fde-ac45-4f3b-a14e-eef1646b74f8"
      },
      "outputs": [
        {
          "output_type": "stream",
          "name": "stderr",
          "text": [
            "/usr/local/lib/python3.10/dist-packages/transformers/models/wav2vec2/modeling_wav2vec2.py:2284: FutureWarning: The method `freeze_feature_extractor` is deprecated and will be removed in Transformers v5. Please use the equivalent `freeze_feature_encoder` method instead.\n",
            "  warnings.warn(\n"
          ]
        }
      ],
      "source": [
        "model.freeze_feature_extractor()"
      ]
    },
    {
      "cell_type": "code",
      "execution_count": 90,
      "metadata": {
        "id": "31fHwGWptbX_"
      },
      "outputs": [],
      "source": [
        "from transformers import Trainer\n",
        "\n",
        "trainer = Trainer(\n",
        "    model=model,\n",
        "    data_collator=data_collator,\n",
        "    args=training_args,\n",
        "    compute_metrics=compute_metrics,\n",
        "    train_dataset=common_voice_train,\n",
        "    eval_dataset=common_voice_test,\n",
        "    tokenizer=processor.feature_extractor,\n",
        ")"
      ]
    },
    {
      "cell_type": "code",
      "execution_count": 91,
      "metadata": {
        "colab": {
          "base_uri": "https://localhost:8080/",
          "height": 1000
        },
        "id": "6HFMc5EUtuFO",
        "outputId": "504f660c-27c7-484a-a8bf-666511b9da6a"
      },
      "outputs": [
        {
          "output_type": "stream",
          "name": "stderr",
          "text": [
            "/usr/local/lib/python3.10/dist-packages/transformers/models/wav2vec2/processing_wav2vec2.py:157: UserWarning: `as_target_processor` is deprecated and will be removed in v5 of Transformers. You can process your labels by using the argument `text` of the regular `__call__` method (either in the same call as your audio inputs, or in a separate call.\n",
            "  warnings.warn(\n",
            "/usr/local/lib/python3.10/dist-packages/torch/utils/checkpoint.py:464: UserWarning: torch.utils.checkpoint: the use_reentrant parameter should be passed explicitly. In version 2.4 we will raise an exception if use_reentrant is not passed. use_reentrant=False is recommended, but if you need to preserve the current default behavior, you can pass use_reentrant=True. Refer to docs for more details on the differences between the two variants.\n",
            "  warnings.warn(\n"
          ]
        },
        {
          "output_type": "display_data",
          "data": {
            "text/plain": [
              "<IPython.core.display.HTML object>"
            ],
            "text/html": [
              "\n",
              "    <div>\n",
              "      \n",
              "      <progress value='1200' max='1200' style='width:300px; height:20px; vertical-align: middle;'></progress>\n",
              "      [1200/1200 1:38:35, Epoch 60/60]\n",
              "    </div>\n",
              "    <table border=\"1\" class=\"dataframe\">\n",
              "  <thead>\n",
              " <tr style=\"text-align: left;\">\n",
              "      <th>Step</th>\n",
              "      <th>Training Loss</th>\n",
              "      <th>Validation Loss</th>\n",
              "      <th>Wer</th>\n",
              "    </tr>\n",
              "  </thead>\n",
              "  <tbody>\n",
              "    <tr>\n",
              "      <td>100</td>\n",
              "      <td>12.694800</td>\n",
              "      <td>4.162145</td>\n",
              "      <td>1.000000</td>\n",
              "    </tr>\n",
              "    <tr>\n",
              "      <td>200</td>\n",
              "      <td>4.102600</td>\n",
              "      <td>4.036461</td>\n",
              "      <td>1.000000</td>\n",
              "    </tr>\n",
              "    <tr>\n",
              "      <td>300</td>\n",
              "      <td>4.003700</td>\n",
              "      <td>3.972565</td>\n",
              "      <td>1.000667</td>\n",
              "    </tr>\n",
              "    <tr>\n",
              "      <td>400</td>\n",
              "      <td>3.948500</td>\n",
              "      <td>3.952430</td>\n",
              "      <td>1.000667</td>\n",
              "    </tr>\n",
              "    <tr>\n",
              "      <td>500</td>\n",
              "      <td>3.463500</td>\n",
              "      <td>2.438361</td>\n",
              "      <td>0.997999</td>\n",
              "    </tr>\n",
              "    <tr>\n",
              "      <td>600</td>\n",
              "      <td>1.170900</td>\n",
              "      <td>1.698669</td>\n",
              "      <td>0.945297</td>\n",
              "    </tr>\n",
              "    <tr>\n",
              "      <td>700</td>\n",
              "      <td>0.495500</td>\n",
              "      <td>1.592720</td>\n",
              "      <td>0.907272</td>\n",
              "    </tr>\n",
              "    <tr>\n",
              "      <td>800</td>\n",
              "      <td>0.316300</td>\n",
              "      <td>1.674962</td>\n",
              "      <td>0.883256</td>\n",
              "    </tr>\n",
              "    <tr>\n",
              "      <td>900</td>\n",
              "      <td>0.237200</td>\n",
              "      <td>1.668306</td>\n",
              "      <td>0.881254</td>\n",
              "    </tr>\n",
              "    <tr>\n",
              "      <td>1000</td>\n",
              "      <td>0.189600</td>\n",
              "      <td>1.655454</td>\n",
              "      <td>0.877919</td>\n",
              "    </tr>\n",
              "    <tr>\n",
              "      <td>1100</td>\n",
              "      <td>0.161900</td>\n",
              "      <td>1.631182</td>\n",
              "      <td>0.881921</td>\n",
              "    </tr>\n",
              "    <tr>\n",
              "      <td>1200</td>\n",
              "      <td>0.147300</td>\n",
              "      <td>1.633310</td>\n",
              "      <td>0.863909</td>\n",
              "    </tr>\n",
              "  </tbody>\n",
              "</table><p>"
            ]
          },
          "metadata": {}
        },
        {
          "output_type": "stream",
          "name": "stderr",
          "text": [
            "/usr/local/lib/python3.10/dist-packages/torch/utils/checkpoint.py:464: UserWarning: torch.utils.checkpoint: the use_reentrant parameter should be passed explicitly. In version 2.4 we will raise an exception if use_reentrant is not passed. use_reentrant=False is recommended, but if you need to preserve the current default behavior, you can pass use_reentrant=True. Refer to docs for more details on the differences between the two variants.\n",
            "  warnings.warn(\n",
            "/usr/local/lib/python3.10/dist-packages/transformers/models/wav2vec2/processing_wav2vec2.py:157: UserWarning: `as_target_processor` is deprecated and will be removed in v5 of Transformers. You can process your labels by using the argument `text` of the regular `__call__` method (either in the same call as your audio inputs, or in a separate call.\n",
            "  warnings.warn(\n",
            "/usr/local/lib/python3.10/dist-packages/torch/utils/checkpoint.py:464: UserWarning: torch.utils.checkpoint: the use_reentrant parameter should be passed explicitly. In version 2.4 we will raise an exception if use_reentrant is not passed. use_reentrant=False is recommended, but if you need to preserve the current default behavior, you can pass use_reentrant=True. Refer to docs for more details on the differences between the two variants.\n",
            "  warnings.warn(\n",
            "/usr/local/lib/python3.10/dist-packages/transformers/models/wav2vec2/processing_wav2vec2.py:157: UserWarning: `as_target_processor` is deprecated and will be removed in v5 of Transformers. You can process your labels by using the argument `text` of the regular `__call__` method (either in the same call as your audio inputs, or in a separate call.\n",
            "  warnings.warn(\n",
            "/usr/local/lib/python3.10/dist-packages/torch/utils/checkpoint.py:464: UserWarning: torch.utils.checkpoint: the use_reentrant parameter should be passed explicitly. In version 2.4 we will raise an exception if use_reentrant is not passed. use_reentrant=False is recommended, but if you need to preserve the current default behavior, you can pass use_reentrant=True. Refer to docs for more details on the differences between the two variants.\n",
            "  warnings.warn(\n",
            "/usr/local/lib/python3.10/dist-packages/transformers/models/wav2vec2/processing_wav2vec2.py:157: UserWarning: `as_target_processor` is deprecated and will be removed in v5 of Transformers. You can process your labels by using the argument `text` of the regular `__call__` method (either in the same call as your audio inputs, or in a separate call.\n",
            "  warnings.warn(\n",
            "/usr/local/lib/python3.10/dist-packages/torch/utils/checkpoint.py:464: UserWarning: torch.utils.checkpoint: the use_reentrant parameter should be passed explicitly. In version 2.4 we will raise an exception if use_reentrant is not passed. use_reentrant=False is recommended, but if you need to preserve the current default behavior, you can pass use_reentrant=True. Refer to docs for more details on the differences between the two variants.\n",
            "  warnings.warn(\n",
            "/usr/local/lib/python3.10/dist-packages/transformers/models/wav2vec2/processing_wav2vec2.py:157: UserWarning: `as_target_processor` is deprecated and will be removed in v5 of Transformers. You can process your labels by using the argument `text` of the regular `__call__` method (either in the same call as your audio inputs, or in a separate call.\n",
            "  warnings.warn(\n",
            "/usr/local/lib/python3.10/dist-packages/torch/utils/checkpoint.py:464: UserWarning: torch.utils.checkpoint: the use_reentrant parameter should be passed explicitly. In version 2.4 we will raise an exception if use_reentrant is not passed. use_reentrant=False is recommended, but if you need to preserve the current default behavior, you can pass use_reentrant=True. Refer to docs for more details on the differences between the two variants.\n",
            "  warnings.warn(\n",
            "/usr/local/lib/python3.10/dist-packages/transformers/models/wav2vec2/processing_wav2vec2.py:157: UserWarning: `as_target_processor` is deprecated and will be removed in v5 of Transformers. You can process your labels by using the argument `text` of the regular `__call__` method (either in the same call as your audio inputs, or in a separate call.\n",
            "  warnings.warn(\n",
            "/usr/local/lib/python3.10/dist-packages/torch/utils/checkpoint.py:464: UserWarning: torch.utils.checkpoint: the use_reentrant parameter should be passed explicitly. In version 2.4 we will raise an exception if use_reentrant is not passed. use_reentrant=False is recommended, but if you need to preserve the current default behavior, you can pass use_reentrant=True. Refer to docs for more details on the differences between the two variants.\n",
            "  warnings.warn(\n",
            "/usr/local/lib/python3.10/dist-packages/transformers/models/wav2vec2/processing_wav2vec2.py:157: UserWarning: `as_target_processor` is deprecated and will be removed in v5 of Transformers. You can process your labels by using the argument `text` of the regular `__call__` method (either in the same call as your audio inputs, or in a separate call.\n",
            "  warnings.warn(\n",
            "/usr/local/lib/python3.10/dist-packages/torch/utils/checkpoint.py:464: UserWarning: torch.utils.checkpoint: the use_reentrant parameter should be passed explicitly. In version 2.4 we will raise an exception if use_reentrant is not passed. use_reentrant=False is recommended, but if you need to preserve the current default behavior, you can pass use_reentrant=True. Refer to docs for more details on the differences between the two variants.\n",
            "  warnings.warn(\n",
            "/usr/local/lib/python3.10/dist-packages/transformers/models/wav2vec2/processing_wav2vec2.py:157: UserWarning: `as_target_processor` is deprecated and will be removed in v5 of Transformers. You can process your labels by using the argument `text` of the regular `__call__` method (either in the same call as your audio inputs, or in a separate call.\n",
            "  warnings.warn(\n",
            "/usr/local/lib/python3.10/dist-packages/torch/utils/checkpoint.py:464: UserWarning: torch.utils.checkpoint: the use_reentrant parameter should be passed explicitly. In version 2.4 we will raise an exception if use_reentrant is not passed. use_reentrant=False is recommended, but if you need to preserve the current default behavior, you can pass use_reentrant=True. Refer to docs for more details on the differences between the two variants.\n",
            "  warnings.warn(\n",
            "/usr/local/lib/python3.10/dist-packages/transformers/models/wav2vec2/processing_wav2vec2.py:157: UserWarning: `as_target_processor` is deprecated and will be removed in v5 of Transformers. You can process your labels by using the argument `text` of the regular `__call__` method (either in the same call as your audio inputs, or in a separate call.\n",
            "  warnings.warn(\n",
            "/usr/local/lib/python3.10/dist-packages/torch/utils/checkpoint.py:464: UserWarning: torch.utils.checkpoint: the use_reentrant parameter should be passed explicitly. In version 2.4 we will raise an exception if use_reentrant is not passed. use_reentrant=False is recommended, but if you need to preserve the current default behavior, you can pass use_reentrant=True. Refer to docs for more details on the differences between the two variants.\n",
            "  warnings.warn(\n",
            "/usr/local/lib/python3.10/dist-packages/torch/utils/checkpoint.py:464: UserWarning: torch.utils.checkpoint: the use_reentrant parameter should be passed explicitly. In version 2.4 we will raise an exception if use_reentrant is not passed. use_reentrant=False is recommended, but if you need to preserve the current default behavior, you can pass use_reentrant=True. Refer to docs for more details on the differences between the two variants.\n",
            "  warnings.warn(\n",
            "/usr/local/lib/python3.10/dist-packages/transformers/models/wav2vec2/processing_wav2vec2.py:157: UserWarning: `as_target_processor` is deprecated and will be removed in v5 of Transformers. You can process your labels by using the argument `text` of the regular `__call__` method (either in the same call as your audio inputs, or in a separate call.\n",
            "  warnings.warn(\n",
            "/usr/local/lib/python3.10/dist-packages/torch/utils/checkpoint.py:464: UserWarning: torch.utils.checkpoint: the use_reentrant parameter should be passed explicitly. In version 2.4 we will raise an exception if use_reentrant is not passed. use_reentrant=False is recommended, but if you need to preserve the current default behavior, you can pass use_reentrant=True. Refer to docs for more details on the differences between the two variants.\n",
            "  warnings.warn(\n"
          ]
        },
        {
          "output_type": "execute_result",
          "data": {
            "text/plain": [
              "TrainOutput(global_step=1200, training_loss=2.5776540406545005, metrics={'train_runtime': 5921.022, 'train_samples_per_second': 6.465, 'train_steps_per_second': 0.203, 'total_flos': 7.42468605180586e+18, 'train_loss': 2.5776540406545005, 'epoch': 60.0})"
            ]
          },
          "metadata": {},
          "execution_count": 91
        }
      ],
      "source": [
        "trainer.train()"
      ]
    },
    {
      "cell_type": "code",
      "execution_count": 92,
      "metadata": {
        "id": "5-WLwMvH4iQ-",
        "colab": {
          "base_uri": "https://localhost:8080/",
          "height": 69
        },
        "outputId": "8035078b-cb58-4cf2-aba1-b66e06f5f6a8"
      },
      "outputs": [
        {
          "output_type": "execute_result",
          "data": {
            "text/plain": [
              "CommitInfo(commit_url='https://huggingface.co/DipsankarSinha/wav2vec2-large-xls-r-300m-amharic-demo-colab/commit/69c7a7d44f82f9b31d757e272fc6ce7acf32be2c', commit_message='End of training', commit_description='', oid='69c7a7d44f82f9b31d757e272fc6ce7acf32be2c', pr_url=None, pr_revision=None, pr_num=None)"
            ],
            "application/vnd.google.colaboratory.intrinsic+json": {
              "type": "string"
            }
          },
          "metadata": {},
          "execution_count": 92
        }
      ],
      "source": [
        "trainer.push_to_hub()"
      ]
    },
    {
      "cell_type": "code",
      "execution_count": 93,
      "metadata": {
        "id": "j6Ya4cYI5YK1",
        "colab": {
          "base_uri": "https://localhost:8080/",
          "height": 258,
          "referenced_widgets": [
            "a165551fb9474fcd9ade8663973bbef4",
            "f8b6f536e0314a60818501d4f92affa2",
            "a887f2ff65144c8b8183875b81c54cf9",
            "62700a7cc88548c798ab9c474a6ba9ac",
            "9511f93c18324c78a40479dc6644188f",
            "4923c67a6dbb410d850be61b11ee0af9",
            "45669ceae8ca41c0ae15e78e3e3c0d37",
            "8d7f3b01228e461dbd81a349fadf9012",
            "c65f2eb0a3bf4a9ba7bd0bf5dbbd7199",
            "c2534f117e5546ff9a259e9663856308",
            "39de1dd2ce0c439086d4fddebf827eb7",
            "0e3cc325176a4a2c9de71603535e7508",
            "e5f7166534a547729549942fdb7c1529",
            "dee2dad614824d56b116d8e703d6ad45",
            "28c38cfb9da14a0d9afed635f3beda26",
            "eff17b74c08a4f20a210516c9f3be9e5",
            "afc6268bf6a947efaa9320528d0ec682",
            "65645aab847f45459b169f218b654775",
            "ec3b2fb87db74262b9f09802acad3e60",
            "926f2308b4284ad7a1008efe59d34742",
            "c1130e2762b44487ab5b0f85b6410421",
            "89a98facc6ff46e69a3c337de9f29a95",
            "47e94b3ed5024addad572e207a9f9844",
            "1b7b21d95794400dacb6fc68a5e52ccc",
            "177d290f7cf04673a484314b4abde4ad",
            "0e834b00fa5641e8bd4d419fe5952fb8",
            "d0285ed93d2c4502a0332a73d0c90d2b",
            "1b276ed832a14d0fb8385379658ced3b",
            "37d8116a973a437381c48d46a55e9f3c",
            "00eb70e01b2640d9ba4e349ad9778c10",
            "9e400506a977403cb10c867caec4b030",
            "f70a2baf2c1d4eb8893602ca56a3e1c2",
            "08e3f125e0f0451e8efe74942988e8fe",
            "c1f2b3fb734442a5b102f9edac8ea3ef",
            "382af4aa750743018c690f071622640a",
            "99771f089a7a46889b9f79b9fc96078e",
            "bb8474999ccc4eb980c60b1e3cbfb044",
            "c43af00bd4c944b4af0962a53bea22db",
            "d5bda97067f1414294423622d1eeac10",
            "846b03994dee4c4e9c4597a7e39151bd",
            "b4ccd9bfb84040d09fbcc4f20964bf2a",
            "d6d9113ccc8a4944a4df55d304774815",
            "073083347096480f8825c20c3d1b9bbd",
            "26faf95e6be94237866e240282fe874a",
            "db49307807e34bb389c0e9c20c26dddf",
            "09a1174736124527ae57c6087c9fdee3",
            "1520fac7ccee4d7f8d3a02de15576a98",
            "254e3e3d027d487bbe8cac945f4f32e7",
            "e45f59927dfd446d843c6663ae53e518",
            "90f763175cdd4134b23b46f6579ff165",
            "d1383012f3b14428ba51fc24a7a17c8b",
            "6b5930f4b9bf42ca8cf3555ba5122fa1",
            "1e88580cc31247379b4ddd923256763f",
            "22de7a72e4fb42f39e6a32e956008497",
            "bdc5ec24600347e98663899cf9450d71",
            "8b3ddc35125e40479eedb352f97bd135",
            "fab8e18e61a641f7849afa0fae3985a1",
            "99664e50276a48d78828868b16b03cbb",
            "b8f873601b24414b9cd25192f5a2a087",
            "a9b4413f03cf46d0b50c3c6dbf3ea1a6",
            "f969a6fcf1b049fd9e325c9b422306c2",
            "9938e87fa7694b3da3793499cf7fc262",
            "06c70816399c4f85863b3c63221224e4",
            "416feee89b7249829659923b91139595",
            "615a0455aa064a43920e8da9ea26f0d5",
            "97fbc6fd4a544a4f8bcd9a0417678452",
            "138af5158db64d669c431f2b0253a8d8",
            "e58a997759b3458c9d13d4cc98888be3",
            "588b7157ed804ca3998526c1fee666b4",
            "b3fab0afd3094ab8ad93f7423348ec0b",
            "0e2facdcc226488caa7d5ab130131890",
            "c0f678a3e10d483db3d351926dcb1b83",
            "2e2f4a30dbcb493a9893dcbca3d6ef0c",
            "dc3c0d25bfea4df49cc556abdbdbf8b8",
            "6993589b1a21499eab3f26618f9dc69e",
            "5799a1b1734447b0a33336048148cdb5",
            "b806a588331b4db1909b3f5c320f1005"
          ]
        },
        "outputId": "16ef805a-4c86-413e-be0b-d9fcb2db04db"
      },
      "outputs": [
        {
          "output_type": "display_data",
          "data": {
            "text/plain": [
              "config.json:   0%|          | 0.00/2.09k [00:00<?, ?B/s]"
            ],
            "application/vnd.jupyter.widget-view+json": {
              "version_major": 2,
              "version_minor": 0,
              "model_id": "a165551fb9474fcd9ade8663973bbef4"
            }
          },
          "metadata": {}
        },
        {
          "output_type": "display_data",
          "data": {
            "text/plain": [
              "model.safetensors:   0%|          | 0.00/1.26G [00:00<?, ?B/s]"
            ],
            "application/vnd.jupyter.widget-view+json": {
              "version_major": 2,
              "version_minor": 0,
              "model_id": "0e3cc325176a4a2c9de71603535e7508"
            }
          },
          "metadata": {}
        },
        {
          "output_type": "display_data",
          "data": {
            "text/plain": [
              "preprocessor_config.json:   0%|          | 0.00/214 [00:00<?, ?B/s]"
            ],
            "application/vnd.jupyter.widget-view+json": {
              "version_major": 2,
              "version_minor": 0,
              "model_id": "47e94b3ed5024addad572e207a9f9844"
            }
          },
          "metadata": {}
        },
        {
          "output_type": "display_data",
          "data": {
            "text/plain": [
              "tokenizer_config.json:   0%|          | 0.00/1.06k [00:00<?, ?B/s]"
            ],
            "application/vnd.jupyter.widget-view+json": {
              "version_major": 2,
              "version_minor": 0,
              "model_id": "c1f2b3fb734442a5b102f9edac8ea3ef"
            }
          },
          "metadata": {}
        },
        {
          "output_type": "display_data",
          "data": {
            "text/plain": [
              "vocab.json:   0%|          | 0.00/3.12k [00:00<?, ?B/s]"
            ],
            "application/vnd.jupyter.widget-view+json": {
              "version_major": 2,
              "version_minor": 0,
              "model_id": "db49307807e34bb389c0e9c20c26dddf"
            }
          },
          "metadata": {}
        },
        {
          "output_type": "display_data",
          "data": {
            "text/plain": [
              "added_tokens.json:   0%|          | 0.00/32.0 [00:00<?, ?B/s]"
            ],
            "application/vnd.jupyter.widget-view+json": {
              "version_major": 2,
              "version_minor": 0,
              "model_id": "8b3ddc35125e40479eedb352f97bd135"
            }
          },
          "metadata": {}
        },
        {
          "output_type": "display_data",
          "data": {
            "text/plain": [
              "special_tokens_map.json:   0%|          | 0.00/96.0 [00:00<?, ?B/s]"
            ],
            "application/vnd.jupyter.widget-view+json": {
              "version_major": 2,
              "version_minor": 0,
              "model_id": "138af5158db64d669c431f2b0253a8d8"
            }
          },
          "metadata": {}
        },
        {
          "output_type": "stream",
          "name": "stderr",
          "text": [
            "Special tokens have been added in the vocabulary, make sure the associated word embeddings are fine-tuned or trained.\n"
          ]
        }
      ],
      "source": [
        "from transformers import AutoModelForCTC, Wav2Vec2Processor\n",
        "\n",
        "model = AutoModelForCTC.from_pretrained(\"DipsankarSinha/wav2vec2-large-xls-r-300m-amharic-demo-colab\").to(\"cuda\")\n",
        "processor = Wav2Vec2Processor.from_pretrained(\"DipsankarSinha/wav2vec2-large-xls-r-300m-amharic-demo-colab\")\n"
      ]
    },
    {
      "cell_type": "code",
      "execution_count": 94,
      "metadata": {
        "id": "Q3EP2Iun5IW2",
        "colab": {
          "base_uri": "https://localhost:8080/"
        },
        "outputId": "af679b07-4998-49ef-ee69-31cd76599daf"
      },
      "outputs": [
        {
          "output_type": "stream",
          "name": "stderr",
          "text": [
            "It is strongly recommended to pass the ``sampling_rate`` argument to this function. Failing to do so can result in silent errors that might be hard to debug.\n"
          ]
        }
      ],
      "source": [
        "input_dict = processor(common_voice_test[0][\"input_values\"], return_tensors=\"pt\", padding=True)\n",
        "\n",
        "logits = model(input_dict.input_values.to(\"cuda\")).logits\n",
        "\n",
        "pred_ids = torch.argmax(logits, dim=-1)[0]\n"
      ]
    },
    {
      "cell_type": "code",
      "execution_count": 95,
      "metadata": {
        "id": "gPPQs9uH5KiX"
      },
      "outputs": [],
      "source": [
        "common_voice_test_transcription = load_dataset(\"mozilla-foundation/common_voice_16_1\",\"am\", split=\"test\")"
      ]
    },
    {
      "cell_type": "code",
      "execution_count": 96,
      "metadata": {
        "id": "veJJE-Em7n9b",
        "colab": {
          "base_uri": "https://localhost:8080/"
        },
        "outputId": "81a90cd2-60a7-4b2b-e26d-a4490b7161c9"
      },
      "outputs": [
        {
          "output_type": "stream",
          "name": "stdout",
          "text": [
            "Prediction:\n",
            "ተከታዮቹም በተነገራቸው መሠራት የተባሉትን ካደረጉ በኋላ በራኅ ብይወታቸዋልፏል\n",
            "\n",
            "Reference:\n",
            "ተከታዮቹም በተነገራቸው መሠረት የተባሉትን ካደረጉ በኋላ በረሃብ ሕይወታቸው አልፏል።\n"
          ]
        }
      ],
      "source": [
        "print(\"Prediction:\")\n",
        "print(processor.decode(pred_ids))\n",
        "\n",
        "print(\"\\nReference:\")\n",
        "print(common_voice_test_transcription[0][\"sentence\"].lower())\n"
      ]
    },
    {
      "cell_type": "code",
      "execution_count": 97,
      "metadata": {
        "id": "1kxCbENJGs9y"
      },
      "outputs": [],
      "source": [
        "# from transformers import AutoModelForCTC, Wav2Vec2Processor\n",
        "\n",
        "# model = AutoModelForCTC.from_pretrained(\"DipsankarSinha/wav2vec2-large-xls-r-300m-amharic-demo-colab\").to(\"cuda\")\n",
        "# processor = Wav2Vec2Processor.from_pretrained(\"DipsankarSinha/wav2vec2-large-xls-r-300m-amharic-demo-colab\")"
      ]
    },
    {
      "cell_type": "code",
      "execution_count": 98,
      "metadata": {
        "id": "8LlhxGIFf4XT"
      },
      "outputs": [],
      "source": [
        "import torch\n",
        "import pickle\n",
        "torch.save(model.state_dict(), \"amharic_fine_tuned_wav2vec2.pth\")\n",
        "with open(\"amharic_fine_tuned_wav2vec2_processor.pkl\", \"wb\") as f:\n",
        "  pickle.dump(processor, f)"
      ]
    },
    {
      "cell_type": "code",
      "execution_count": 99,
      "metadata": {
        "id": "Y6aieFQKHUPi",
        "colab": {
          "base_uri": "https://localhost:8080/",
          "height": 104,
          "referenced_widgets": [
            "6fe8c9ce2c304a389f185f26430fb08d",
            "e4088c59e43e40f780b4da6edbd8cd20",
            "1084fad400dc45099a9fa08b892c60c6",
            "0f7f673339fd4807ac59dfb83295f8cf",
            "580c66765e004c0aa12fe41422f015cf",
            "802a11f349074ff683438f935254e222",
            "da64205b78744f81944871444ab53429",
            "e2cc327fb75241a9b9d0409374e4d929",
            "b8c1488ac6f64c21a2e1d833be22b76c",
            "657559d685874c0f87e913067b3b4740",
            "7ef5d6804ddf461f83bdbbbc11313d6e"
          ]
        },
        "outputId": "80be2adb-8a3c-4335-8452-d793b4b1ef3f"
      },
      "outputs": [
        {
          "output_type": "stream",
          "name": "stderr",
          "text": [
            "Parameter 'function'=<function map_to_result at 0x7801754caef0> of the transform datasets.arrow_dataset.Dataset._map_single couldn't be hashed properly, a random hash was used instead. Make sure your transforms and parameters are serializable with pickle or dill for the dataset fingerprinting and caching to work. If you reuse this transform, the caching mechanism will consider it to be different from the previous calls and recompute everything. This warning is only showed once. Subsequent hashing failures won't be showed.\n",
            "WARNING:datasets.fingerprint:Parameter 'function'=<function map_to_result at 0x7801754caef0> of the transform datasets.arrow_dataset.Dataset._map_single couldn't be hashed properly, a random hash was used instead. Make sure your transforms and parameters are serializable with pickle or dill for the dataset fingerprinting and caching to work. If you reuse this transform, the caching mechanism will consider it to be different from the previous calls and recompute everything. This warning is only showed once. Subsequent hashing failures won't be showed.\n"
          ]
        },
        {
          "output_type": "display_data",
          "data": {
            "text/plain": [
              "Map:   0%|          | 0/162 [00:00<?, ? examples/s]"
            ],
            "application/vnd.jupyter.widget-view+json": {
              "version_major": 2,
              "version_minor": 0,
              "model_id": "6fe8c9ce2c304a389f185f26430fb08d"
            }
          },
          "metadata": {}
        }
      ],
      "source": [
        "def map_to_result(batch):\n",
        "  with torch.no_grad():\n",
        "    input_values = torch.tensor(batch[\"input_values\"], device=\"cuda\").unsqueeze(0)\n",
        "    logits = model(input_values).logits\n",
        "\n",
        "  pred_ids = torch.argmax(logits, dim=-1)\n",
        "  batch[\"pred_str\"] = processor.batch_decode(pred_ids)[0]\n",
        "  batch[\"text\"] = processor.decode(batch[\"labels\"], group_tokens=False)\n",
        "\n",
        "  return batch\n",
        "\n",
        "results = common_voice_test.map(map_to_result, remove_columns=common_voice_test.column_names)"
      ]
    },
    {
      "cell_type": "code",
      "execution_count": 100,
      "metadata": {
        "id": "tG92tDe_Jlap",
        "colab": {
          "base_uri": "https://localhost:8080/"
        },
        "outputId": "ad69607b-72c8-4322-b4d4-270c6c90b326"
      },
      "outputs": [
        {
          "output_type": "stream",
          "name": "stdout",
          "text": [
            "Test WER: 0.7805203468979319\n"
          ]
        }
      ],
      "source": [
        "print(\"Test WER:\",wer_metric.compute(predictions=results[\"pred_str\"], references=results[\"text\"]))"
      ]
    },
    {
      "cell_type": "code",
      "execution_count": 101,
      "metadata": {
        "id": "v6ZkXU-MJEQ6",
        "colab": {
          "base_uri": "https://localhost:8080/",
          "height": 432
        },
        "outputId": "cad83e81-52db-40f9-b6a1-e878037a9c14"
      },
      "outputs": [
        {
          "output_type": "display_data",
          "data": {
            "text/plain": [
              "<IPython.core.display.HTML object>"
            ],
            "text/html": [
              "<table border=\"1\" class=\"dataframe\">\n",
              "  <thead>\n",
              "    <tr style=\"text-align: right;\">\n",
              "      <th></th>\n",
              "      <th>pred_str</th>\n",
              "      <th>text</th>\n",
              "    </tr>\n",
              "  </thead>\n",
              "  <tbody>\n",
              "    <tr>\n",
              "      <th>0</th>\n",
              "      <td>ልክየሱስ ክርስቶስ እንዳደረገው የመስከሉ እናግዳሚ እንጨተሸክም ወደ መስካያው ስፍራ እንዲወስጥ ይገደዳል</td>\n",
              "      <td>ልክ ኢየሱስ ክርስቶስ እንዳደረገው የመስቀሉን አግዳሚ እንጨት ተሸክሞ ወደ መሰቀያው ስፍራ እንዲወስድ ይገደዳል</td>\n",
              "    </tr>\n",
              "    <tr>\n",
              "      <th>1</th>\n",
              "      <td>ጀነራሎች ሱዳንን የማስተዳድርስልጣለ ሲቪል አስትዳደር ለማስጠላላፍ ጠስማምተናብለዋል</td>\n",
              "      <td>ጀነራሎቹ ሱዳንን የማስተዳደር ስልጣን ለሲቪል አስተዳደር ለማስተላለፍ ተስማምተናል ብለዋል</td>\n",
              "    </tr>\n",
              "    <tr>\n",
              "      <th>2</th>\n",
              "      <td>በባህሉ መሰረት ስጋ የሚበለው መጨረሻ ላይ</td>\n",
              "      <td>በባህሉ መሰረት ስጋ የሚበላው መጨረሻ ላይ ነው</td>\n",
              "    </tr>\n",
              "    <tr>\n",
              "      <th>3</th>\n",
              "      <td>ድምጽዊው ለረጅም ግዜ በአደርበ ትመም በህክም ና ሴረዳቆይቷል</td>\n",
              "      <td>ድምፃዊው ለረዥም ጊዜ ባደረበት ህመም በህክምና ሲረዳ ቆይቷል</td>\n",
              "    </tr>\n",
              "    <tr>\n",
              "      <th>4</th>\n",
              "      <td>ዳያ አሁን የየኒቨርስቲት ምህርቷ ለመጀመር ዋዜ ማወረይበት ሆነም አሁንም በተላዩ ተግባራት ተጠምዳለች</td>\n",
              "      <td>ዳያ አሁን የዩኒቨርስቲ ትምህርቷን ለመጀመር ዋዜማው ላይ ብትሆንም አሁንም በተለያዩ ተግባራት ተጠምዳለች</td>\n",
              "    </tr>\n",
              "    <tr>\n",
              "      <th>5</th>\n",
              "      <td>የታለጵ የኢትዮጵያዳ ሲ ግድብየኢትዮጵያ ግስተም እራብ ከሱዳን እጋር በሉ ፕቦ አሰንበት ጎቢዮን ሻንጉል ጉሙስክልል በጉባ ወረ ዳ ይቀኛል</td>\n",
              "      <td>የታላቁ የኢትዮጵያ ሕዳሴ ግድብ ኢትዮጵያ በስተምዕራብ ከሱዳን ጋር በምትዋሰንበት የቤኒሻንጉል ጉሙዝ ክልል በጉባ ወረዳ ይገኛል</td>\n",
              "    </tr>\n",
              "    <tr>\n",
              "      <th>6</th>\n",
              "      <td>እነርሱም አዎ አሉት</td>\n",
              "      <td>እነርሱም አዎ አሉት</td>\n",
              "    </tr>\n",
              "    <tr>\n",
              "      <th>7</th>\n",
              "      <td>ዜጎች እለማስወጣህም ወሰኑን አንድ ሰማቸው ያተገልቀ ያሜ ሪካመራ ለአሶሽ ይትርፕረሥ ተነግረዋል</td>\n",
              "      <td>ዜጎችን ለማስወጣት መወሰኑን አንድ ስማቸው ያልተገለጸ የአሜሪካ አመራር ለአሶሽየትድ ፕረስ ተናግረዋል</td>\n",
              "    </tr>\n",
              "    <tr>\n",
              "      <th>8</th>\n",
              "      <td>እንግስትተወጡ ድርጅት ሰብዋዊ መውቶችን ምክር በይታባልጥሆነምየሰብኋዊ መብቶችንና የእምንህ ንጻረተን በመጥስት ከስሳለች</td>\n",
              "      <td>የመንግሥታቱ ድርጅት የሰብአዊ መብቶች ምክር ቤት አባል ብትሆንም የሰብአዊ መብቶችን እና የእምነት ነፃነትን በመጣስ ትከሰሳለች</td>\n",
              "    </tr>\n",
              "    <tr>\n",
              "      <th>9</th>\n",
              "      <td>የሲኒያውሽ እና አተልብሻችው ዩበር አብበባምን ካቱ ከፓላማ ንጅወጦ ተነረጉ</td>\n",
              "      <td>የኬንያዋ ሴናተር ልብሳቸው የወር አበባ በመንካቱ ከፓርላማ እንዲወጡ ተደረጉ</td>\n",
              "    </tr>\n",
              "  </tbody>\n",
              "</table>"
            ]
          },
          "metadata": {}
        }
      ],
      "source": [
        "show_random_elements(results)"
      ]
    },
    {
      "cell_type": "markdown",
      "metadata": {
        "id": "2oKReHDu8rhf"
      },
      "source": [
        "# **Creating an Web App Using Gradio to check and test the model**\n",
        "---\n",
        "Date:31/07/2024\n",
        "Created by: Dipsankar Sinha, MCA, KIIT-DU\n",
        "---\n",
        "Reference: https://www.youtube.com/watch?v=jG52ot4njNs"
      ]
    },
    {
      "cell_type": "code",
      "execution_count": 102,
      "metadata": {
        "id": "wYB74ODd8sKS"
      },
      "outputs": [],
      "source": [
        "%%capture\n",
        "!pip install gradio -q"
      ]
    },
    {
      "cell_type": "code",
      "execution_count": 103,
      "metadata": {
        "id": "tBdcLwxNLcaw"
      },
      "outputs": [],
      "source": [
        "import gradio as gr\n",
        "import torch\n",
        "from transformers import AutoModelForCTC, Wav2Vec2Processor\n",
        "import librosa\n",
        "import pickle"
      ]
    },
    {
      "cell_type": "code",
      "execution_count": 104,
      "metadata": {
        "id": "ukxXYjQZkKei"
      },
      "outputs": [],
      "source": [
        "# Load your saved model and processor\n",
        "model = AutoModelForCTC.from_pretrained(\"DipsankarSinha/wav2vec2-large-xls-r-300m-amharic-demo-colab\")\n",
        "model.load_state_dict(torch.load(\"amharic_fine_tuned_wav2vec2.pth\"))\n",
        "model.eval()  # Set the model to evaluation mode\n",
        "model.to(\"cuda\")  # Move the model to GPU if available\n",
        "with open(\"amharic_fine_tuned_wav2vec2_processor.pkl\", \"rb\") as f:\n",
        "    processor = pickle.load(f)"
      ]
    },
    {
      "cell_type": "code",
      "execution_count": 105,
      "metadata": {
        "id": "jZiaKs_hkrt5"
      },
      "outputs": [],
      "source": [
        "# Define the ASR function\n",
        "def transcribe(audio):\n",
        "    # Load audio file\n",
        "    audio_input, _ = librosa.load(audio, sr=16000)\n",
        "\n",
        "    # Preprocess audio\n",
        "    input_values = processor(audio_input, return_tensors=\"pt\", padding=\"longest\").input_values.to(\"cuda\")\n",
        "\n",
        "    # Get model predictions\n",
        "    with torch.no_grad():\n",
        "        logits = model(input_values).logits\n",
        "\n",
        "    # Decode predictions\n",
        "    predicted_ids = torch.argmax(logits, dim=-1)\n",
        "    transcription = processor.batch_decode(predicted_ids)[0]\n",
        "    return transcription"
      ]
    },
    {
      "cell_type": "code",
      "execution_count": 106,
      "metadata": {
        "colab": {
          "base_uri": "https://localhost:8080/",
          "height": 645
        },
        "id": "HR7AOGzwk6FJ",
        "outputId": "c1dde942-3e79-435e-b2f5-02b3bc1c3474"
      },
      "outputs": [
        {
          "output_type": "stream",
          "name": "stdout",
          "text": [
            "Setting queue=True in a Colab notebook requires sharing enabled. Setting `share=True` (you can turn this off by setting `share=False` in `launch()` explicitly).\n",
            "\n",
            "Colab notebook detected. To show errors in colab notebook, set debug=True in launch()\n",
            "Running on public URL: https://5143f20c7c09983b73.gradio.live\n",
            "\n",
            "This share link expires in 72 hours. For free permanent hosting and GPU upgrades, run `gradio deploy` from Terminal to deploy to Spaces (https://huggingface.co/spaces)\n"
          ]
        },
        {
          "output_type": "display_data",
          "data": {
            "text/plain": [
              "<IPython.core.display.HTML object>"
            ],
            "text/html": [
              "<div><iframe src=\"https://5143f20c7c09983b73.gradio.live\" width=\"100%\" height=\"500\" allow=\"autoplay; camera; microphone; clipboard-read; clipboard-write;\" frameborder=\"0\" allowfullscreen></iframe></div>"
            ]
          },
          "metadata": {}
        },
        {
          "output_type": "execute_result",
          "data": {
            "text/plain": []
          },
          "metadata": {},
          "execution_count": 106
        }
      ],
      "source": [
        "# Create the Gradio interface\n",
        "inputs = gr.Audio(type=\"filepath\")\n",
        "outputs = gr.Textbox(label=\"Transcription\")\n",
        "\n",
        "gr_interface = gr.Interface(\n",
        "    fn=transcribe,\n",
        "    inputs=inputs,\n",
        "    outputs=outputs,\n",
        "    title=\"Amharic Automatic Speech Recognition\",\n",
        "    description=\"Transcribe Amharic speech using a fine-tuned Wav2Vec2 model.\"\n",
        ")\n",
        "\n",
        "gr_interface.launch()"
      ]
    }
  ],
  "metadata": {
    "accelerator": "GPU",
    "colab": {
      "gpuType": "T4",
      "provenance": [],
      "include_colab_link": true
    },
    "kernelspec": {
      "display_name": "Python 3",
      "name": "python3"
    },
    "language_info": {
      "name": "python"
    },
    "widgets": {
      "application/vnd.jupyter.widget-state+json": {
        "6854bc1473f94ca1b501bb704c239028": {
          "model_module": "@jupyter-widgets/controls",
          "model_name": "VBoxModel",
          "model_module_version": "1.5.0",
          "state": {
            "_dom_classes": [],
            "_model_module": "@jupyter-widgets/controls",
            "_model_module_version": "1.5.0",
            "_model_name": "VBoxModel",
            "_view_count": null,
            "_view_module": "@jupyter-widgets/controls",
            "_view_module_version": "1.5.0",
            "_view_name": "VBoxView",
            "box_style": "",
            "children": [
              "IPY_MODEL_c02acb934ad14a668490298599bccb76",
              "IPY_MODEL_d8328ecbb1634b848725ab2e6d9db6f1",
              "IPY_MODEL_e72e372fc89f4aa4b494aeb41bea383c",
              "IPY_MODEL_1303e9460fe54c0ca9936fa96dc645fe"
            ],
            "layout": "IPY_MODEL_9b8dbaab2fb14b7283ce672ef7c520f3"
          }
        },
        "42a312fad87043be9d85c6c4c5e23645": {
          "model_module": "@jupyter-widgets/controls",
          "model_name": "HTMLModel",
          "model_module_version": "1.5.0",
          "state": {
            "_dom_classes": [],
            "_model_module": "@jupyter-widgets/controls",
            "_model_module_version": "1.5.0",
            "_model_name": "HTMLModel",
            "_view_count": null,
            "_view_module": "@jupyter-widgets/controls",
            "_view_module_version": "1.5.0",
            "_view_name": "HTMLView",
            "description": "",
            "description_tooltip": null,
            "layout": "IPY_MODEL_d424167de2774006837cbd5f0ed7b149",
            "placeholder": "​",
            "style": "IPY_MODEL_d11a8ba438c34902b11e6d70be3ce33f",
            "value": "<center> <img\nsrc=https://huggingface.co/front/assets/huggingface_logo-noborder.svg\nalt='Hugging Face'> <br> Copy a token from <a\nhref=\"https://huggingface.co/settings/tokens\" target=\"_blank\">your Hugging Face\ntokens page</a> and paste it below. <br> Immediately click login after copying\nyour token or it might be stored in plain text in this notebook file. </center>"
          }
        },
        "4e4fb6553847498aa21c8d34bfd790a4": {
          "model_module": "@jupyter-widgets/controls",
          "model_name": "PasswordModel",
          "model_module_version": "1.5.0",
          "state": {
            "_dom_classes": [],
            "_model_module": "@jupyter-widgets/controls",
            "_model_module_version": "1.5.0",
            "_model_name": "PasswordModel",
            "_view_count": null,
            "_view_module": "@jupyter-widgets/controls",
            "_view_module_version": "1.5.0",
            "_view_name": "PasswordView",
            "continuous_update": true,
            "description": "Token:",
            "description_tooltip": null,
            "disabled": false,
            "layout": "IPY_MODEL_dcf7a224430d424f95ee34a5103c413d",
            "placeholder": "​",
            "style": "IPY_MODEL_5339bb0d61e8498a9ad23f093cc7027b",
            "value": ""
          }
        },
        "b75fd9823493487eaf707e640e7264c5": {
          "model_module": "@jupyter-widgets/controls",
          "model_name": "CheckboxModel",
          "model_module_version": "1.5.0",
          "state": {
            "_dom_classes": [],
            "_model_module": "@jupyter-widgets/controls",
            "_model_module_version": "1.5.0",
            "_model_name": "CheckboxModel",
            "_view_count": null,
            "_view_module": "@jupyter-widgets/controls",
            "_view_module_version": "1.5.0",
            "_view_name": "CheckboxView",
            "description": "Add token as git credential?",
            "description_tooltip": null,
            "disabled": false,
            "indent": true,
            "layout": "IPY_MODEL_ee9a0118932948198c768060477d9cbc",
            "style": "IPY_MODEL_9f6a1565674a44cf874c54edd6ea25a6",
            "value": true
          }
        },
        "eaba5df11d4d47b6bf17e4e51df03add": {
          "model_module": "@jupyter-widgets/controls",
          "model_name": "ButtonModel",
          "model_module_version": "1.5.0",
          "state": {
            "_dom_classes": [],
            "_model_module": "@jupyter-widgets/controls",
            "_model_module_version": "1.5.0",
            "_model_name": "ButtonModel",
            "_view_count": null,
            "_view_module": "@jupyter-widgets/controls",
            "_view_module_version": "1.5.0",
            "_view_name": "ButtonView",
            "button_style": "",
            "description": "Login",
            "disabled": false,
            "icon": "",
            "layout": "IPY_MODEL_c33c791f1789476584e9b08f4c25ba05",
            "style": "IPY_MODEL_e404472c2ad848cb8667ac4a9f0f8264",
            "tooltip": ""
          }
        },
        "bd73c77c074e4395b641dc21dd614d09": {
          "model_module": "@jupyter-widgets/controls",
          "model_name": "HTMLModel",
          "model_module_version": "1.5.0",
          "state": {
            "_dom_classes": [],
            "_model_module": "@jupyter-widgets/controls",
            "_model_module_version": "1.5.0",
            "_model_name": "HTMLModel",
            "_view_count": null,
            "_view_module": "@jupyter-widgets/controls",
            "_view_module_version": "1.5.0",
            "_view_name": "HTMLView",
            "description": "",
            "description_tooltip": null,
            "layout": "IPY_MODEL_e5910680f7e14d3c8e10050660560786",
            "placeholder": "​",
            "style": "IPY_MODEL_2b1d7c424e3d4ff6a67f6b2ae12bdd74",
            "value": "\n<b>Pro Tip:</b> If you don't already have one, you can create a dedicated\n'notebooks' token with 'write' access, that you can then easily reuse for all\nnotebooks. </center>"
          }
        },
        "9b8dbaab2fb14b7283ce672ef7c520f3": {
          "model_module": "@jupyter-widgets/base",
          "model_name": "LayoutModel",
          "model_module_version": "1.2.0",
          "state": {
            "_model_module": "@jupyter-widgets/base",
            "_model_module_version": "1.2.0",
            "_model_name": "LayoutModel",
            "_view_count": null,
            "_view_module": "@jupyter-widgets/base",
            "_view_module_version": "1.2.0",
            "_view_name": "LayoutView",
            "align_content": null,
            "align_items": "center",
            "align_self": null,
            "border": null,
            "bottom": null,
            "display": "flex",
            "flex": null,
            "flex_flow": "column",
            "grid_area": null,
            "grid_auto_columns": null,
            "grid_auto_flow": null,
            "grid_auto_rows": null,
            "grid_column": null,
            "grid_gap": null,
            "grid_row": null,
            "grid_template_areas": null,
            "grid_template_columns": null,
            "grid_template_rows": null,
            "height": null,
            "justify_content": null,
            "justify_items": null,
            "left": null,
            "margin": null,
            "max_height": null,
            "max_width": null,
            "min_height": null,
            "min_width": null,
            "object_fit": null,
            "object_position": null,
            "order": null,
            "overflow": null,
            "overflow_x": null,
            "overflow_y": null,
            "padding": null,
            "right": null,
            "top": null,
            "visibility": null,
            "width": "50%"
          }
        },
        "d424167de2774006837cbd5f0ed7b149": {
          "model_module": "@jupyter-widgets/base",
          "model_name": "LayoutModel",
          "model_module_version": "1.2.0",
          "state": {
            "_model_module": "@jupyter-widgets/base",
            "_model_module_version": "1.2.0",
            "_model_name": "LayoutModel",
            "_view_count": null,
            "_view_module": "@jupyter-widgets/base",
            "_view_module_version": "1.2.0",
            "_view_name": "LayoutView",
            "align_content": null,
            "align_items": null,
            "align_self": null,
            "border": null,
            "bottom": null,
            "display": null,
            "flex": null,
            "flex_flow": null,
            "grid_area": null,
            "grid_auto_columns": null,
            "grid_auto_flow": null,
            "grid_auto_rows": null,
            "grid_column": null,
            "grid_gap": null,
            "grid_row": null,
            "grid_template_areas": null,
            "grid_template_columns": null,
            "grid_template_rows": null,
            "height": null,
            "justify_content": null,
            "justify_items": null,
            "left": null,
            "margin": null,
            "max_height": null,
            "max_width": null,
            "min_height": null,
            "min_width": null,
            "object_fit": null,
            "object_position": null,
            "order": null,
            "overflow": null,
            "overflow_x": null,
            "overflow_y": null,
            "padding": null,
            "right": null,
            "top": null,
            "visibility": null,
            "width": null
          }
        },
        "d11a8ba438c34902b11e6d70be3ce33f": {
          "model_module": "@jupyter-widgets/controls",
          "model_name": "DescriptionStyleModel",
          "model_module_version": "1.5.0",
          "state": {
            "_model_module": "@jupyter-widgets/controls",
            "_model_module_version": "1.5.0",
            "_model_name": "DescriptionStyleModel",
            "_view_count": null,
            "_view_module": "@jupyter-widgets/base",
            "_view_module_version": "1.2.0",
            "_view_name": "StyleView",
            "description_width": ""
          }
        },
        "dcf7a224430d424f95ee34a5103c413d": {
          "model_module": "@jupyter-widgets/base",
          "model_name": "LayoutModel",
          "model_module_version": "1.2.0",
          "state": {
            "_model_module": "@jupyter-widgets/base",
            "_model_module_version": "1.2.0",
            "_model_name": "LayoutModel",
            "_view_count": null,
            "_view_module": "@jupyter-widgets/base",
            "_view_module_version": "1.2.0",
            "_view_name": "LayoutView",
            "align_content": null,
            "align_items": null,
            "align_self": null,
            "border": null,
            "bottom": null,
            "display": null,
            "flex": null,
            "flex_flow": null,
            "grid_area": null,
            "grid_auto_columns": null,
            "grid_auto_flow": null,
            "grid_auto_rows": null,
            "grid_column": null,
            "grid_gap": null,
            "grid_row": null,
            "grid_template_areas": null,
            "grid_template_columns": null,
            "grid_template_rows": null,
            "height": null,
            "justify_content": null,
            "justify_items": null,
            "left": null,
            "margin": null,
            "max_height": null,
            "max_width": null,
            "min_height": null,
            "min_width": null,
            "object_fit": null,
            "object_position": null,
            "order": null,
            "overflow": null,
            "overflow_x": null,
            "overflow_y": null,
            "padding": null,
            "right": null,
            "top": null,
            "visibility": null,
            "width": null
          }
        },
        "5339bb0d61e8498a9ad23f093cc7027b": {
          "model_module": "@jupyter-widgets/controls",
          "model_name": "DescriptionStyleModel",
          "model_module_version": "1.5.0",
          "state": {
            "_model_module": "@jupyter-widgets/controls",
            "_model_module_version": "1.5.0",
            "_model_name": "DescriptionStyleModel",
            "_view_count": null,
            "_view_module": "@jupyter-widgets/base",
            "_view_module_version": "1.2.0",
            "_view_name": "StyleView",
            "description_width": ""
          }
        },
        "ee9a0118932948198c768060477d9cbc": {
          "model_module": "@jupyter-widgets/base",
          "model_name": "LayoutModel",
          "model_module_version": "1.2.0",
          "state": {
            "_model_module": "@jupyter-widgets/base",
            "_model_module_version": "1.2.0",
            "_model_name": "LayoutModel",
            "_view_count": null,
            "_view_module": "@jupyter-widgets/base",
            "_view_module_version": "1.2.0",
            "_view_name": "LayoutView",
            "align_content": null,
            "align_items": null,
            "align_self": null,
            "border": null,
            "bottom": null,
            "display": null,
            "flex": null,
            "flex_flow": null,
            "grid_area": null,
            "grid_auto_columns": null,
            "grid_auto_flow": null,
            "grid_auto_rows": null,
            "grid_column": null,
            "grid_gap": null,
            "grid_row": null,
            "grid_template_areas": null,
            "grid_template_columns": null,
            "grid_template_rows": null,
            "height": null,
            "justify_content": null,
            "justify_items": null,
            "left": null,
            "margin": null,
            "max_height": null,
            "max_width": null,
            "min_height": null,
            "min_width": null,
            "object_fit": null,
            "object_position": null,
            "order": null,
            "overflow": null,
            "overflow_x": null,
            "overflow_y": null,
            "padding": null,
            "right": null,
            "top": null,
            "visibility": null,
            "width": null
          }
        },
        "9f6a1565674a44cf874c54edd6ea25a6": {
          "model_module": "@jupyter-widgets/controls",
          "model_name": "DescriptionStyleModel",
          "model_module_version": "1.5.0",
          "state": {
            "_model_module": "@jupyter-widgets/controls",
            "_model_module_version": "1.5.0",
            "_model_name": "DescriptionStyleModel",
            "_view_count": null,
            "_view_module": "@jupyter-widgets/base",
            "_view_module_version": "1.2.0",
            "_view_name": "StyleView",
            "description_width": ""
          }
        },
        "c33c791f1789476584e9b08f4c25ba05": {
          "model_module": "@jupyter-widgets/base",
          "model_name": "LayoutModel",
          "model_module_version": "1.2.0",
          "state": {
            "_model_module": "@jupyter-widgets/base",
            "_model_module_version": "1.2.0",
            "_model_name": "LayoutModel",
            "_view_count": null,
            "_view_module": "@jupyter-widgets/base",
            "_view_module_version": "1.2.0",
            "_view_name": "LayoutView",
            "align_content": null,
            "align_items": null,
            "align_self": null,
            "border": null,
            "bottom": null,
            "display": null,
            "flex": null,
            "flex_flow": null,
            "grid_area": null,
            "grid_auto_columns": null,
            "grid_auto_flow": null,
            "grid_auto_rows": null,
            "grid_column": null,
            "grid_gap": null,
            "grid_row": null,
            "grid_template_areas": null,
            "grid_template_columns": null,
            "grid_template_rows": null,
            "height": null,
            "justify_content": null,
            "justify_items": null,
            "left": null,
            "margin": null,
            "max_height": null,
            "max_width": null,
            "min_height": null,
            "min_width": null,
            "object_fit": null,
            "object_position": null,
            "order": null,
            "overflow": null,
            "overflow_x": null,
            "overflow_y": null,
            "padding": null,
            "right": null,
            "top": null,
            "visibility": null,
            "width": null
          }
        },
        "e404472c2ad848cb8667ac4a9f0f8264": {
          "model_module": "@jupyter-widgets/controls",
          "model_name": "ButtonStyleModel",
          "model_module_version": "1.5.0",
          "state": {
            "_model_module": "@jupyter-widgets/controls",
            "_model_module_version": "1.5.0",
            "_model_name": "ButtonStyleModel",
            "_view_count": null,
            "_view_module": "@jupyter-widgets/base",
            "_view_module_version": "1.2.0",
            "_view_name": "StyleView",
            "button_color": null,
            "font_weight": ""
          }
        },
        "e5910680f7e14d3c8e10050660560786": {
          "model_module": "@jupyter-widgets/base",
          "model_name": "LayoutModel",
          "model_module_version": "1.2.0",
          "state": {
            "_model_module": "@jupyter-widgets/base",
            "_model_module_version": "1.2.0",
            "_model_name": "LayoutModel",
            "_view_count": null,
            "_view_module": "@jupyter-widgets/base",
            "_view_module_version": "1.2.0",
            "_view_name": "LayoutView",
            "align_content": null,
            "align_items": null,
            "align_self": null,
            "border": null,
            "bottom": null,
            "display": null,
            "flex": null,
            "flex_flow": null,
            "grid_area": null,
            "grid_auto_columns": null,
            "grid_auto_flow": null,
            "grid_auto_rows": null,
            "grid_column": null,
            "grid_gap": null,
            "grid_row": null,
            "grid_template_areas": null,
            "grid_template_columns": null,
            "grid_template_rows": null,
            "height": null,
            "justify_content": null,
            "justify_items": null,
            "left": null,
            "margin": null,
            "max_height": null,
            "max_width": null,
            "min_height": null,
            "min_width": null,
            "object_fit": null,
            "object_position": null,
            "order": null,
            "overflow": null,
            "overflow_x": null,
            "overflow_y": null,
            "padding": null,
            "right": null,
            "top": null,
            "visibility": null,
            "width": null
          }
        },
        "2b1d7c424e3d4ff6a67f6b2ae12bdd74": {
          "model_module": "@jupyter-widgets/controls",
          "model_name": "DescriptionStyleModel",
          "model_module_version": "1.5.0",
          "state": {
            "_model_module": "@jupyter-widgets/controls",
            "_model_module_version": "1.5.0",
            "_model_name": "DescriptionStyleModel",
            "_view_count": null,
            "_view_module": "@jupyter-widgets/base",
            "_view_module_version": "1.2.0",
            "_view_name": "StyleView",
            "description_width": ""
          }
        },
        "f62ef9b68b2c4f7fb1ffd51348a668d8": {
          "model_module": "@jupyter-widgets/controls",
          "model_name": "LabelModel",
          "model_module_version": "1.5.0",
          "state": {
            "_dom_classes": [],
            "_model_module": "@jupyter-widgets/controls",
            "_model_module_version": "1.5.0",
            "_model_name": "LabelModel",
            "_view_count": null,
            "_view_module": "@jupyter-widgets/controls",
            "_view_module_version": "1.5.0",
            "_view_name": "LabelView",
            "description": "",
            "description_tooltip": null,
            "layout": "IPY_MODEL_04d6ecba3d0441db9be3fb41d8451068",
            "placeholder": "​",
            "style": "IPY_MODEL_a390878f56dc44aaa81a93d3fed71a10",
            "value": "Connecting..."
          }
        },
        "04d6ecba3d0441db9be3fb41d8451068": {
          "model_module": "@jupyter-widgets/base",
          "model_name": "LayoutModel",
          "model_module_version": "1.2.0",
          "state": {
            "_model_module": "@jupyter-widgets/base",
            "_model_module_version": "1.2.0",
            "_model_name": "LayoutModel",
            "_view_count": null,
            "_view_module": "@jupyter-widgets/base",
            "_view_module_version": "1.2.0",
            "_view_name": "LayoutView",
            "align_content": null,
            "align_items": null,
            "align_self": null,
            "border": null,
            "bottom": null,
            "display": null,
            "flex": null,
            "flex_flow": null,
            "grid_area": null,
            "grid_auto_columns": null,
            "grid_auto_flow": null,
            "grid_auto_rows": null,
            "grid_column": null,
            "grid_gap": null,
            "grid_row": null,
            "grid_template_areas": null,
            "grid_template_columns": null,
            "grid_template_rows": null,
            "height": null,
            "justify_content": null,
            "justify_items": null,
            "left": null,
            "margin": null,
            "max_height": null,
            "max_width": null,
            "min_height": null,
            "min_width": null,
            "object_fit": null,
            "object_position": null,
            "order": null,
            "overflow": null,
            "overflow_x": null,
            "overflow_y": null,
            "padding": null,
            "right": null,
            "top": null,
            "visibility": null,
            "width": null
          }
        },
        "a390878f56dc44aaa81a93d3fed71a10": {
          "model_module": "@jupyter-widgets/controls",
          "model_name": "DescriptionStyleModel",
          "model_module_version": "1.5.0",
          "state": {
            "_model_module": "@jupyter-widgets/controls",
            "_model_module_version": "1.5.0",
            "_model_name": "DescriptionStyleModel",
            "_view_count": null,
            "_view_module": "@jupyter-widgets/base",
            "_view_module_version": "1.2.0",
            "_view_name": "StyleView",
            "description_width": ""
          }
        },
        "c02acb934ad14a668490298599bccb76": {
          "model_module": "@jupyter-widgets/controls",
          "model_name": "LabelModel",
          "model_module_version": "1.5.0",
          "state": {
            "_dom_classes": [],
            "_model_module": "@jupyter-widgets/controls",
            "_model_module_version": "1.5.0",
            "_model_name": "LabelModel",
            "_view_count": null,
            "_view_module": "@jupyter-widgets/controls",
            "_view_module_version": "1.5.0",
            "_view_name": "LabelView",
            "description": "",
            "description_tooltip": null,
            "layout": "IPY_MODEL_bd4ff895384c4ff7abb8d0897e644669",
            "placeholder": "​",
            "style": "IPY_MODEL_f193180057d3476793dc05df0d4a8e8f",
            "value": "Token is valid (permission: write)."
          }
        },
        "d8328ecbb1634b848725ab2e6d9db6f1": {
          "model_module": "@jupyter-widgets/controls",
          "model_name": "LabelModel",
          "model_module_version": "1.5.0",
          "state": {
            "_dom_classes": [],
            "_model_module": "@jupyter-widgets/controls",
            "_model_module_version": "1.5.0",
            "_model_name": "LabelModel",
            "_view_count": null,
            "_view_module": "@jupyter-widgets/controls",
            "_view_module_version": "1.5.0",
            "_view_name": "LabelView",
            "description": "",
            "description_tooltip": null,
            "layout": "IPY_MODEL_0146c80c3fd24599aeff0c1053160384",
            "placeholder": "​",
            "style": "IPY_MODEL_334775ef57e94592beb1807c1fc26216",
            "value": "Your token has been saved in your configured git credential helpers (store)."
          }
        },
        "e72e372fc89f4aa4b494aeb41bea383c": {
          "model_module": "@jupyter-widgets/controls",
          "model_name": "LabelModel",
          "model_module_version": "1.5.0",
          "state": {
            "_dom_classes": [],
            "_model_module": "@jupyter-widgets/controls",
            "_model_module_version": "1.5.0",
            "_model_name": "LabelModel",
            "_view_count": null,
            "_view_module": "@jupyter-widgets/controls",
            "_view_module_version": "1.5.0",
            "_view_name": "LabelView",
            "description": "",
            "description_tooltip": null,
            "layout": "IPY_MODEL_255722bfef2f4afdaa028a61d264790e",
            "placeholder": "​",
            "style": "IPY_MODEL_81925e1fa1654e6bba43ca2abb36fee2",
            "value": "Your token has been saved to /root/.cache/huggingface/token"
          }
        },
        "1303e9460fe54c0ca9936fa96dc645fe": {
          "model_module": "@jupyter-widgets/controls",
          "model_name": "LabelModel",
          "model_module_version": "1.5.0",
          "state": {
            "_dom_classes": [],
            "_model_module": "@jupyter-widgets/controls",
            "_model_module_version": "1.5.0",
            "_model_name": "LabelModel",
            "_view_count": null,
            "_view_module": "@jupyter-widgets/controls",
            "_view_module_version": "1.5.0",
            "_view_name": "LabelView",
            "description": "",
            "description_tooltip": null,
            "layout": "IPY_MODEL_0aaa39f4125343109ed2c07d9729c1de",
            "placeholder": "​",
            "style": "IPY_MODEL_97ebd05407f9485c833789ff2d354800",
            "value": "Login successful"
          }
        },
        "bd4ff895384c4ff7abb8d0897e644669": {
          "model_module": "@jupyter-widgets/base",
          "model_name": "LayoutModel",
          "model_module_version": "1.2.0",
          "state": {
            "_model_module": "@jupyter-widgets/base",
            "_model_module_version": "1.2.0",
            "_model_name": "LayoutModel",
            "_view_count": null,
            "_view_module": "@jupyter-widgets/base",
            "_view_module_version": "1.2.0",
            "_view_name": "LayoutView",
            "align_content": null,
            "align_items": null,
            "align_self": null,
            "border": null,
            "bottom": null,
            "display": null,
            "flex": null,
            "flex_flow": null,
            "grid_area": null,
            "grid_auto_columns": null,
            "grid_auto_flow": null,
            "grid_auto_rows": null,
            "grid_column": null,
            "grid_gap": null,
            "grid_row": null,
            "grid_template_areas": null,
            "grid_template_columns": null,
            "grid_template_rows": null,
            "height": null,
            "justify_content": null,
            "justify_items": null,
            "left": null,
            "margin": null,
            "max_height": null,
            "max_width": null,
            "min_height": null,
            "min_width": null,
            "object_fit": null,
            "object_position": null,
            "order": null,
            "overflow": null,
            "overflow_x": null,
            "overflow_y": null,
            "padding": null,
            "right": null,
            "top": null,
            "visibility": null,
            "width": null
          }
        },
        "f193180057d3476793dc05df0d4a8e8f": {
          "model_module": "@jupyter-widgets/controls",
          "model_name": "DescriptionStyleModel",
          "model_module_version": "1.5.0",
          "state": {
            "_model_module": "@jupyter-widgets/controls",
            "_model_module_version": "1.5.0",
            "_model_name": "DescriptionStyleModel",
            "_view_count": null,
            "_view_module": "@jupyter-widgets/base",
            "_view_module_version": "1.2.0",
            "_view_name": "StyleView",
            "description_width": ""
          }
        },
        "0146c80c3fd24599aeff0c1053160384": {
          "model_module": "@jupyter-widgets/base",
          "model_name": "LayoutModel",
          "model_module_version": "1.2.0",
          "state": {
            "_model_module": "@jupyter-widgets/base",
            "_model_module_version": "1.2.0",
            "_model_name": "LayoutModel",
            "_view_count": null,
            "_view_module": "@jupyter-widgets/base",
            "_view_module_version": "1.2.0",
            "_view_name": "LayoutView",
            "align_content": null,
            "align_items": null,
            "align_self": null,
            "border": null,
            "bottom": null,
            "display": null,
            "flex": null,
            "flex_flow": null,
            "grid_area": null,
            "grid_auto_columns": null,
            "grid_auto_flow": null,
            "grid_auto_rows": null,
            "grid_column": null,
            "grid_gap": null,
            "grid_row": null,
            "grid_template_areas": null,
            "grid_template_columns": null,
            "grid_template_rows": null,
            "height": null,
            "justify_content": null,
            "justify_items": null,
            "left": null,
            "margin": null,
            "max_height": null,
            "max_width": null,
            "min_height": null,
            "min_width": null,
            "object_fit": null,
            "object_position": null,
            "order": null,
            "overflow": null,
            "overflow_x": null,
            "overflow_y": null,
            "padding": null,
            "right": null,
            "top": null,
            "visibility": null,
            "width": null
          }
        },
        "334775ef57e94592beb1807c1fc26216": {
          "model_module": "@jupyter-widgets/controls",
          "model_name": "DescriptionStyleModel",
          "model_module_version": "1.5.0",
          "state": {
            "_model_module": "@jupyter-widgets/controls",
            "_model_module_version": "1.5.0",
            "_model_name": "DescriptionStyleModel",
            "_view_count": null,
            "_view_module": "@jupyter-widgets/base",
            "_view_module_version": "1.2.0",
            "_view_name": "StyleView",
            "description_width": ""
          }
        },
        "255722bfef2f4afdaa028a61d264790e": {
          "model_module": "@jupyter-widgets/base",
          "model_name": "LayoutModel",
          "model_module_version": "1.2.0",
          "state": {
            "_model_module": "@jupyter-widgets/base",
            "_model_module_version": "1.2.0",
            "_model_name": "LayoutModel",
            "_view_count": null,
            "_view_module": "@jupyter-widgets/base",
            "_view_module_version": "1.2.0",
            "_view_name": "LayoutView",
            "align_content": null,
            "align_items": null,
            "align_self": null,
            "border": null,
            "bottom": null,
            "display": null,
            "flex": null,
            "flex_flow": null,
            "grid_area": null,
            "grid_auto_columns": null,
            "grid_auto_flow": null,
            "grid_auto_rows": null,
            "grid_column": null,
            "grid_gap": null,
            "grid_row": null,
            "grid_template_areas": null,
            "grid_template_columns": null,
            "grid_template_rows": null,
            "height": null,
            "justify_content": null,
            "justify_items": null,
            "left": null,
            "margin": null,
            "max_height": null,
            "max_width": null,
            "min_height": null,
            "min_width": null,
            "object_fit": null,
            "object_position": null,
            "order": null,
            "overflow": null,
            "overflow_x": null,
            "overflow_y": null,
            "padding": null,
            "right": null,
            "top": null,
            "visibility": null,
            "width": null
          }
        },
        "81925e1fa1654e6bba43ca2abb36fee2": {
          "model_module": "@jupyter-widgets/controls",
          "model_name": "DescriptionStyleModel",
          "model_module_version": "1.5.0",
          "state": {
            "_model_module": "@jupyter-widgets/controls",
            "_model_module_version": "1.5.0",
            "_model_name": "DescriptionStyleModel",
            "_view_count": null,
            "_view_module": "@jupyter-widgets/base",
            "_view_module_version": "1.2.0",
            "_view_name": "StyleView",
            "description_width": ""
          }
        },
        "0aaa39f4125343109ed2c07d9729c1de": {
          "model_module": "@jupyter-widgets/base",
          "model_name": "LayoutModel",
          "model_module_version": "1.2.0",
          "state": {
            "_model_module": "@jupyter-widgets/base",
            "_model_module_version": "1.2.0",
            "_model_name": "LayoutModel",
            "_view_count": null,
            "_view_module": "@jupyter-widgets/base",
            "_view_module_version": "1.2.0",
            "_view_name": "LayoutView",
            "align_content": null,
            "align_items": null,
            "align_self": null,
            "border": null,
            "bottom": null,
            "display": null,
            "flex": null,
            "flex_flow": null,
            "grid_area": null,
            "grid_auto_columns": null,
            "grid_auto_flow": null,
            "grid_auto_rows": null,
            "grid_column": null,
            "grid_gap": null,
            "grid_row": null,
            "grid_template_areas": null,
            "grid_template_columns": null,
            "grid_template_rows": null,
            "height": null,
            "justify_content": null,
            "justify_items": null,
            "left": null,
            "margin": null,
            "max_height": null,
            "max_width": null,
            "min_height": null,
            "min_width": null,
            "object_fit": null,
            "object_position": null,
            "order": null,
            "overflow": null,
            "overflow_x": null,
            "overflow_y": null,
            "padding": null,
            "right": null,
            "top": null,
            "visibility": null,
            "width": null
          }
        },
        "97ebd05407f9485c833789ff2d354800": {
          "model_module": "@jupyter-widgets/controls",
          "model_name": "DescriptionStyleModel",
          "model_module_version": "1.5.0",
          "state": {
            "_model_module": "@jupyter-widgets/controls",
            "_model_module_version": "1.5.0",
            "_model_name": "DescriptionStyleModel",
            "_view_count": null,
            "_view_module": "@jupyter-widgets/base",
            "_view_module_version": "1.2.0",
            "_view_name": "StyleView",
            "description_width": ""
          }
        },
        "5b0f98233a3649c4b454cd2c82fd1e49": {
          "model_module": "@jupyter-widgets/controls",
          "model_name": "HBoxModel",
          "model_module_version": "1.5.0",
          "state": {
            "_dom_classes": [],
            "_model_module": "@jupyter-widgets/controls",
            "_model_module_version": "1.5.0",
            "_model_name": "HBoxModel",
            "_view_count": null,
            "_view_module": "@jupyter-widgets/controls",
            "_view_module_version": "1.5.0",
            "_view_name": "HBoxView",
            "box_style": "",
            "children": [
              "IPY_MODEL_c52f7d2a9d3f4cc9ac456363a819890e",
              "IPY_MODEL_61a5e94162be4725b96495863441e8d5",
              "IPY_MODEL_b48de728723240aea9429d5a0ace3580"
            ],
            "layout": "IPY_MODEL_ca2be0f7972c4895932192180c6bd060"
          }
        },
        "c52f7d2a9d3f4cc9ac456363a819890e": {
          "model_module": "@jupyter-widgets/controls",
          "model_name": "HTMLModel",
          "model_module_version": "1.5.0",
          "state": {
            "_dom_classes": [],
            "_model_module": "@jupyter-widgets/controls",
            "_model_module_version": "1.5.0",
            "_model_name": "HTMLModel",
            "_view_count": null,
            "_view_module": "@jupyter-widgets/controls",
            "_view_module_version": "1.5.0",
            "_view_name": "HTMLView",
            "description": "",
            "description_tooltip": null,
            "layout": "IPY_MODEL_3904f79f9d6f45eebf320580d1dd5325",
            "placeholder": "​",
            "style": "IPY_MODEL_f974068976ba4f9d8ce5d83481bc5a93",
            "value": "Map: 100%"
          }
        },
        "61a5e94162be4725b96495863441e8d5": {
          "model_module": "@jupyter-widgets/controls",
          "model_name": "FloatProgressModel",
          "model_module_version": "1.5.0",
          "state": {
            "_dom_classes": [],
            "_model_module": "@jupyter-widgets/controls",
            "_model_module_version": "1.5.0",
            "_model_name": "FloatProgressModel",
            "_view_count": null,
            "_view_module": "@jupyter-widgets/controls",
            "_view_module_version": "1.5.0",
            "_view_name": "ProgressView",
            "bar_style": "success",
            "description": "",
            "description_tooltip": null,
            "layout": "IPY_MODEL_525ed065206446ca9a7797c963b10ebe",
            "max": 638,
            "min": 0,
            "orientation": "horizontal",
            "style": "IPY_MODEL_c0b24623696246e3b552f58f38d30f55",
            "value": 638
          }
        },
        "b48de728723240aea9429d5a0ace3580": {
          "model_module": "@jupyter-widgets/controls",
          "model_name": "HTMLModel",
          "model_module_version": "1.5.0",
          "state": {
            "_dom_classes": [],
            "_model_module": "@jupyter-widgets/controls",
            "_model_module_version": "1.5.0",
            "_model_name": "HTMLModel",
            "_view_count": null,
            "_view_module": "@jupyter-widgets/controls",
            "_view_module_version": "1.5.0",
            "_view_name": "HTMLView",
            "description": "",
            "description_tooltip": null,
            "layout": "IPY_MODEL_824bb9d199034945aea548adda537c5a",
            "placeholder": "​",
            "style": "IPY_MODEL_a6f366c957ea4c608faf51dc47b15c1b",
            "value": " 638/638 [00:00&lt;00:00, 17756.08 examples/s]"
          }
        },
        "ca2be0f7972c4895932192180c6bd060": {
          "model_module": "@jupyter-widgets/base",
          "model_name": "LayoutModel",
          "model_module_version": "1.2.0",
          "state": {
            "_model_module": "@jupyter-widgets/base",
            "_model_module_version": "1.2.0",
            "_model_name": "LayoutModel",
            "_view_count": null,
            "_view_module": "@jupyter-widgets/base",
            "_view_module_version": "1.2.0",
            "_view_name": "LayoutView",
            "align_content": null,
            "align_items": null,
            "align_self": null,
            "border": null,
            "bottom": null,
            "display": null,
            "flex": null,
            "flex_flow": null,
            "grid_area": null,
            "grid_auto_columns": null,
            "grid_auto_flow": null,
            "grid_auto_rows": null,
            "grid_column": null,
            "grid_gap": null,
            "grid_row": null,
            "grid_template_areas": null,
            "grid_template_columns": null,
            "grid_template_rows": null,
            "height": null,
            "justify_content": null,
            "justify_items": null,
            "left": null,
            "margin": null,
            "max_height": null,
            "max_width": null,
            "min_height": null,
            "min_width": null,
            "object_fit": null,
            "object_position": null,
            "order": null,
            "overflow": null,
            "overflow_x": null,
            "overflow_y": null,
            "padding": null,
            "right": null,
            "top": null,
            "visibility": null,
            "width": null
          }
        },
        "3904f79f9d6f45eebf320580d1dd5325": {
          "model_module": "@jupyter-widgets/base",
          "model_name": "LayoutModel",
          "model_module_version": "1.2.0",
          "state": {
            "_model_module": "@jupyter-widgets/base",
            "_model_module_version": "1.2.0",
            "_model_name": "LayoutModel",
            "_view_count": null,
            "_view_module": "@jupyter-widgets/base",
            "_view_module_version": "1.2.0",
            "_view_name": "LayoutView",
            "align_content": null,
            "align_items": null,
            "align_self": null,
            "border": null,
            "bottom": null,
            "display": null,
            "flex": null,
            "flex_flow": null,
            "grid_area": null,
            "grid_auto_columns": null,
            "grid_auto_flow": null,
            "grid_auto_rows": null,
            "grid_column": null,
            "grid_gap": null,
            "grid_row": null,
            "grid_template_areas": null,
            "grid_template_columns": null,
            "grid_template_rows": null,
            "height": null,
            "justify_content": null,
            "justify_items": null,
            "left": null,
            "margin": null,
            "max_height": null,
            "max_width": null,
            "min_height": null,
            "min_width": null,
            "object_fit": null,
            "object_position": null,
            "order": null,
            "overflow": null,
            "overflow_x": null,
            "overflow_y": null,
            "padding": null,
            "right": null,
            "top": null,
            "visibility": null,
            "width": null
          }
        },
        "f974068976ba4f9d8ce5d83481bc5a93": {
          "model_module": "@jupyter-widgets/controls",
          "model_name": "DescriptionStyleModel",
          "model_module_version": "1.5.0",
          "state": {
            "_model_module": "@jupyter-widgets/controls",
            "_model_module_version": "1.5.0",
            "_model_name": "DescriptionStyleModel",
            "_view_count": null,
            "_view_module": "@jupyter-widgets/base",
            "_view_module_version": "1.2.0",
            "_view_name": "StyleView",
            "description_width": ""
          }
        },
        "525ed065206446ca9a7797c963b10ebe": {
          "model_module": "@jupyter-widgets/base",
          "model_name": "LayoutModel",
          "model_module_version": "1.2.0",
          "state": {
            "_model_module": "@jupyter-widgets/base",
            "_model_module_version": "1.2.0",
            "_model_name": "LayoutModel",
            "_view_count": null,
            "_view_module": "@jupyter-widgets/base",
            "_view_module_version": "1.2.0",
            "_view_name": "LayoutView",
            "align_content": null,
            "align_items": null,
            "align_self": null,
            "border": null,
            "bottom": null,
            "display": null,
            "flex": null,
            "flex_flow": null,
            "grid_area": null,
            "grid_auto_columns": null,
            "grid_auto_flow": null,
            "grid_auto_rows": null,
            "grid_column": null,
            "grid_gap": null,
            "grid_row": null,
            "grid_template_areas": null,
            "grid_template_columns": null,
            "grid_template_rows": null,
            "height": null,
            "justify_content": null,
            "justify_items": null,
            "left": null,
            "margin": null,
            "max_height": null,
            "max_width": null,
            "min_height": null,
            "min_width": null,
            "object_fit": null,
            "object_position": null,
            "order": null,
            "overflow": null,
            "overflow_x": null,
            "overflow_y": null,
            "padding": null,
            "right": null,
            "top": null,
            "visibility": null,
            "width": null
          }
        },
        "c0b24623696246e3b552f58f38d30f55": {
          "model_module": "@jupyter-widgets/controls",
          "model_name": "ProgressStyleModel",
          "model_module_version": "1.5.0",
          "state": {
            "_model_module": "@jupyter-widgets/controls",
            "_model_module_version": "1.5.0",
            "_model_name": "ProgressStyleModel",
            "_view_count": null,
            "_view_module": "@jupyter-widgets/base",
            "_view_module_version": "1.2.0",
            "_view_name": "StyleView",
            "bar_color": null,
            "description_width": ""
          }
        },
        "824bb9d199034945aea548adda537c5a": {
          "model_module": "@jupyter-widgets/base",
          "model_name": "LayoutModel",
          "model_module_version": "1.2.0",
          "state": {
            "_model_module": "@jupyter-widgets/base",
            "_model_module_version": "1.2.0",
            "_model_name": "LayoutModel",
            "_view_count": null,
            "_view_module": "@jupyter-widgets/base",
            "_view_module_version": "1.2.0",
            "_view_name": "LayoutView",
            "align_content": null,
            "align_items": null,
            "align_self": null,
            "border": null,
            "bottom": null,
            "display": null,
            "flex": null,
            "flex_flow": null,
            "grid_area": null,
            "grid_auto_columns": null,
            "grid_auto_flow": null,
            "grid_auto_rows": null,
            "grid_column": null,
            "grid_gap": null,
            "grid_row": null,
            "grid_template_areas": null,
            "grid_template_columns": null,
            "grid_template_rows": null,
            "height": null,
            "justify_content": null,
            "justify_items": null,
            "left": null,
            "margin": null,
            "max_height": null,
            "max_width": null,
            "min_height": null,
            "min_width": null,
            "object_fit": null,
            "object_position": null,
            "order": null,
            "overflow": null,
            "overflow_x": null,
            "overflow_y": null,
            "padding": null,
            "right": null,
            "top": null,
            "visibility": null,
            "width": null
          }
        },
        "a6f366c957ea4c608faf51dc47b15c1b": {
          "model_module": "@jupyter-widgets/controls",
          "model_name": "DescriptionStyleModel",
          "model_module_version": "1.5.0",
          "state": {
            "_model_module": "@jupyter-widgets/controls",
            "_model_module_version": "1.5.0",
            "_model_name": "DescriptionStyleModel",
            "_view_count": null,
            "_view_module": "@jupyter-widgets/base",
            "_view_module_version": "1.2.0",
            "_view_name": "StyleView",
            "description_width": ""
          }
        },
        "98827e562fc44506a090ef7fb3cb8e54": {
          "model_module": "@jupyter-widgets/controls",
          "model_name": "HBoxModel",
          "model_module_version": "1.5.0",
          "state": {
            "_dom_classes": [],
            "_model_module": "@jupyter-widgets/controls",
            "_model_module_version": "1.5.0",
            "_model_name": "HBoxModel",
            "_view_count": null,
            "_view_module": "@jupyter-widgets/controls",
            "_view_module_version": "1.5.0",
            "_view_name": "HBoxView",
            "box_style": "",
            "children": [
              "IPY_MODEL_ab0cdd5da06845428d3df709c76a00dd",
              "IPY_MODEL_636e88b492e947dd8a2ab0f9552256c1",
              "IPY_MODEL_44f51017628f4f09ac8ec2620e79130f"
            ],
            "layout": "IPY_MODEL_bb493846a9f74a948a3aaa8c98b9cd36"
          }
        },
        "ab0cdd5da06845428d3df709c76a00dd": {
          "model_module": "@jupyter-widgets/controls",
          "model_name": "HTMLModel",
          "model_module_version": "1.5.0",
          "state": {
            "_dom_classes": [],
            "_model_module": "@jupyter-widgets/controls",
            "_model_module_version": "1.5.0",
            "_model_name": "HTMLModel",
            "_view_count": null,
            "_view_module": "@jupyter-widgets/controls",
            "_view_module_version": "1.5.0",
            "_view_name": "HTMLView",
            "description": "",
            "description_tooltip": null,
            "layout": "IPY_MODEL_46756df2b9e0457cb4657693b48d3b3c",
            "placeholder": "​",
            "style": "IPY_MODEL_82dc36ae8d6140789940ca96093ce6dc",
            "value": "Map: 100%"
          }
        },
        "636e88b492e947dd8a2ab0f9552256c1": {
          "model_module": "@jupyter-widgets/controls",
          "model_name": "FloatProgressModel",
          "model_module_version": "1.5.0",
          "state": {
            "_dom_classes": [],
            "_model_module": "@jupyter-widgets/controls",
            "_model_module_version": "1.5.0",
            "_model_name": "FloatProgressModel",
            "_view_count": null,
            "_view_module": "@jupyter-widgets/controls",
            "_view_module_version": "1.5.0",
            "_view_name": "ProgressView",
            "bar_style": "success",
            "description": "",
            "description_tooltip": null,
            "layout": "IPY_MODEL_d752568ee4aa4425b836a20472f9c8e1",
            "max": 162,
            "min": 0,
            "orientation": "horizontal",
            "style": "IPY_MODEL_5353658d13ff4c538d916c4ab6bdaf4b",
            "value": 162
          }
        },
        "44f51017628f4f09ac8ec2620e79130f": {
          "model_module": "@jupyter-widgets/controls",
          "model_name": "HTMLModel",
          "model_module_version": "1.5.0",
          "state": {
            "_dom_classes": [],
            "_model_module": "@jupyter-widgets/controls",
            "_model_module_version": "1.5.0",
            "_model_name": "HTMLModel",
            "_view_count": null,
            "_view_module": "@jupyter-widgets/controls",
            "_view_module_version": "1.5.0",
            "_view_name": "HTMLView",
            "description": "",
            "description_tooltip": null,
            "layout": "IPY_MODEL_5e72eb1fbd58416aa9d3e7109f28e5f3",
            "placeholder": "​",
            "style": "IPY_MODEL_357a2a2c9e2a4da48dd6d8bd5a12b785",
            "value": " 162/162 [00:00&lt;00:00, 4698.92 examples/s]"
          }
        },
        "bb493846a9f74a948a3aaa8c98b9cd36": {
          "model_module": "@jupyter-widgets/base",
          "model_name": "LayoutModel",
          "model_module_version": "1.2.0",
          "state": {
            "_model_module": "@jupyter-widgets/base",
            "_model_module_version": "1.2.0",
            "_model_name": "LayoutModel",
            "_view_count": null,
            "_view_module": "@jupyter-widgets/base",
            "_view_module_version": "1.2.0",
            "_view_name": "LayoutView",
            "align_content": null,
            "align_items": null,
            "align_self": null,
            "border": null,
            "bottom": null,
            "display": null,
            "flex": null,
            "flex_flow": null,
            "grid_area": null,
            "grid_auto_columns": null,
            "grid_auto_flow": null,
            "grid_auto_rows": null,
            "grid_column": null,
            "grid_gap": null,
            "grid_row": null,
            "grid_template_areas": null,
            "grid_template_columns": null,
            "grid_template_rows": null,
            "height": null,
            "justify_content": null,
            "justify_items": null,
            "left": null,
            "margin": null,
            "max_height": null,
            "max_width": null,
            "min_height": null,
            "min_width": null,
            "object_fit": null,
            "object_position": null,
            "order": null,
            "overflow": null,
            "overflow_x": null,
            "overflow_y": null,
            "padding": null,
            "right": null,
            "top": null,
            "visibility": null,
            "width": null
          }
        },
        "46756df2b9e0457cb4657693b48d3b3c": {
          "model_module": "@jupyter-widgets/base",
          "model_name": "LayoutModel",
          "model_module_version": "1.2.0",
          "state": {
            "_model_module": "@jupyter-widgets/base",
            "_model_module_version": "1.2.0",
            "_model_name": "LayoutModel",
            "_view_count": null,
            "_view_module": "@jupyter-widgets/base",
            "_view_module_version": "1.2.0",
            "_view_name": "LayoutView",
            "align_content": null,
            "align_items": null,
            "align_self": null,
            "border": null,
            "bottom": null,
            "display": null,
            "flex": null,
            "flex_flow": null,
            "grid_area": null,
            "grid_auto_columns": null,
            "grid_auto_flow": null,
            "grid_auto_rows": null,
            "grid_column": null,
            "grid_gap": null,
            "grid_row": null,
            "grid_template_areas": null,
            "grid_template_columns": null,
            "grid_template_rows": null,
            "height": null,
            "justify_content": null,
            "justify_items": null,
            "left": null,
            "margin": null,
            "max_height": null,
            "max_width": null,
            "min_height": null,
            "min_width": null,
            "object_fit": null,
            "object_position": null,
            "order": null,
            "overflow": null,
            "overflow_x": null,
            "overflow_y": null,
            "padding": null,
            "right": null,
            "top": null,
            "visibility": null,
            "width": null
          }
        },
        "82dc36ae8d6140789940ca96093ce6dc": {
          "model_module": "@jupyter-widgets/controls",
          "model_name": "DescriptionStyleModel",
          "model_module_version": "1.5.0",
          "state": {
            "_model_module": "@jupyter-widgets/controls",
            "_model_module_version": "1.5.0",
            "_model_name": "DescriptionStyleModel",
            "_view_count": null,
            "_view_module": "@jupyter-widgets/base",
            "_view_module_version": "1.2.0",
            "_view_name": "StyleView",
            "description_width": ""
          }
        },
        "d752568ee4aa4425b836a20472f9c8e1": {
          "model_module": "@jupyter-widgets/base",
          "model_name": "LayoutModel",
          "model_module_version": "1.2.0",
          "state": {
            "_model_module": "@jupyter-widgets/base",
            "_model_module_version": "1.2.0",
            "_model_name": "LayoutModel",
            "_view_count": null,
            "_view_module": "@jupyter-widgets/base",
            "_view_module_version": "1.2.0",
            "_view_name": "LayoutView",
            "align_content": null,
            "align_items": null,
            "align_self": null,
            "border": null,
            "bottom": null,
            "display": null,
            "flex": null,
            "flex_flow": null,
            "grid_area": null,
            "grid_auto_columns": null,
            "grid_auto_flow": null,
            "grid_auto_rows": null,
            "grid_column": null,
            "grid_gap": null,
            "grid_row": null,
            "grid_template_areas": null,
            "grid_template_columns": null,
            "grid_template_rows": null,
            "height": null,
            "justify_content": null,
            "justify_items": null,
            "left": null,
            "margin": null,
            "max_height": null,
            "max_width": null,
            "min_height": null,
            "min_width": null,
            "object_fit": null,
            "object_position": null,
            "order": null,
            "overflow": null,
            "overflow_x": null,
            "overflow_y": null,
            "padding": null,
            "right": null,
            "top": null,
            "visibility": null,
            "width": null
          }
        },
        "5353658d13ff4c538d916c4ab6bdaf4b": {
          "model_module": "@jupyter-widgets/controls",
          "model_name": "ProgressStyleModel",
          "model_module_version": "1.5.0",
          "state": {
            "_model_module": "@jupyter-widgets/controls",
            "_model_module_version": "1.5.0",
            "_model_name": "ProgressStyleModel",
            "_view_count": null,
            "_view_module": "@jupyter-widgets/base",
            "_view_module_version": "1.2.0",
            "_view_name": "StyleView",
            "bar_color": null,
            "description_width": ""
          }
        },
        "5e72eb1fbd58416aa9d3e7109f28e5f3": {
          "model_module": "@jupyter-widgets/base",
          "model_name": "LayoutModel",
          "model_module_version": "1.2.0",
          "state": {
            "_model_module": "@jupyter-widgets/base",
            "_model_module_version": "1.2.0",
            "_model_name": "LayoutModel",
            "_view_count": null,
            "_view_module": "@jupyter-widgets/base",
            "_view_module_version": "1.2.0",
            "_view_name": "LayoutView",
            "align_content": null,
            "align_items": null,
            "align_self": null,
            "border": null,
            "bottom": null,
            "display": null,
            "flex": null,
            "flex_flow": null,
            "grid_area": null,
            "grid_auto_columns": null,
            "grid_auto_flow": null,
            "grid_auto_rows": null,
            "grid_column": null,
            "grid_gap": null,
            "grid_row": null,
            "grid_template_areas": null,
            "grid_template_columns": null,
            "grid_template_rows": null,
            "height": null,
            "justify_content": null,
            "justify_items": null,
            "left": null,
            "margin": null,
            "max_height": null,
            "max_width": null,
            "min_height": null,
            "min_width": null,
            "object_fit": null,
            "object_position": null,
            "order": null,
            "overflow": null,
            "overflow_x": null,
            "overflow_y": null,
            "padding": null,
            "right": null,
            "top": null,
            "visibility": null,
            "width": null
          }
        },
        "357a2a2c9e2a4da48dd6d8bd5a12b785": {
          "model_module": "@jupyter-widgets/controls",
          "model_name": "DescriptionStyleModel",
          "model_module_version": "1.5.0",
          "state": {
            "_model_module": "@jupyter-widgets/controls",
            "_model_module_version": "1.5.0",
            "_model_name": "DescriptionStyleModel",
            "_view_count": null,
            "_view_module": "@jupyter-widgets/base",
            "_view_module_version": "1.2.0",
            "_view_name": "StyleView",
            "description_width": ""
          }
        },
        "84a689b81711442a93b8320fe7fd51ab": {
          "model_module": "@jupyter-widgets/controls",
          "model_name": "HBoxModel",
          "model_module_version": "1.5.0",
          "state": {
            "_dom_classes": [],
            "_model_module": "@jupyter-widgets/controls",
            "_model_module_version": "1.5.0",
            "_model_name": "HBoxModel",
            "_view_count": null,
            "_view_module": "@jupyter-widgets/controls",
            "_view_module_version": "1.5.0",
            "_view_name": "HBoxView",
            "box_style": "",
            "children": [
              "IPY_MODEL_6112961eee554b7c8264ed1f73a02e76",
              "IPY_MODEL_796a43d751b1414dad62167eda0679c8",
              "IPY_MODEL_144286f9741e49e7b579a20590d8c7d3"
            ],
            "layout": "IPY_MODEL_388c0bb5bb3b4200ad7cc74139b2ad8c"
          }
        },
        "6112961eee554b7c8264ed1f73a02e76": {
          "model_module": "@jupyter-widgets/controls",
          "model_name": "HTMLModel",
          "model_module_version": "1.5.0",
          "state": {
            "_dom_classes": [],
            "_model_module": "@jupyter-widgets/controls",
            "_model_module_version": "1.5.0",
            "_model_name": "HTMLModel",
            "_view_count": null,
            "_view_module": "@jupyter-widgets/controls",
            "_view_module_version": "1.5.0",
            "_view_name": "HTMLView",
            "description": "",
            "description_tooltip": null,
            "layout": "IPY_MODEL_51f5439eb62e4163a28eed938c9b6c01",
            "placeholder": "​",
            "style": "IPY_MODEL_4337e34d62dc497d8133a2b36e443a4c",
            "value": "README.md: 100%"
          }
        },
        "796a43d751b1414dad62167eda0679c8": {
          "model_module": "@jupyter-widgets/controls",
          "model_name": "FloatProgressModel",
          "model_module_version": "1.5.0",
          "state": {
            "_dom_classes": [],
            "_model_module": "@jupyter-widgets/controls",
            "_model_module_version": "1.5.0",
            "_model_name": "FloatProgressModel",
            "_view_count": null,
            "_view_module": "@jupyter-widgets/controls",
            "_view_module_version": "1.5.0",
            "_view_name": "ProgressView",
            "bar_style": "success",
            "description": "",
            "description_tooltip": null,
            "layout": "IPY_MODEL_7b546adcbee34d639fa7d5485ed06f63",
            "max": 2553,
            "min": 0,
            "orientation": "horizontal",
            "style": "IPY_MODEL_4fb6ed925dbc484ba5acb2ea001b400e",
            "value": 2553
          }
        },
        "144286f9741e49e7b579a20590d8c7d3": {
          "model_module": "@jupyter-widgets/controls",
          "model_name": "HTMLModel",
          "model_module_version": "1.5.0",
          "state": {
            "_dom_classes": [],
            "_model_module": "@jupyter-widgets/controls",
            "_model_module_version": "1.5.0",
            "_model_name": "HTMLModel",
            "_view_count": null,
            "_view_module": "@jupyter-widgets/controls",
            "_view_module_version": "1.5.0",
            "_view_name": "HTMLView",
            "description": "",
            "description_tooltip": null,
            "layout": "IPY_MODEL_051f3d7165d349bca2d2dc4683fdaf6c",
            "placeholder": "​",
            "style": "IPY_MODEL_d89159fa51854b39be4c09efe60e5cfa",
            "value": " 2.55k/2.55k [00:00&lt;00:00, 28.3kB/s]"
          }
        },
        "388c0bb5bb3b4200ad7cc74139b2ad8c": {
          "model_module": "@jupyter-widgets/base",
          "model_name": "LayoutModel",
          "model_module_version": "1.2.0",
          "state": {
            "_model_module": "@jupyter-widgets/base",
            "_model_module_version": "1.2.0",
            "_model_name": "LayoutModel",
            "_view_count": null,
            "_view_module": "@jupyter-widgets/base",
            "_view_module_version": "1.2.0",
            "_view_name": "LayoutView",
            "align_content": null,
            "align_items": null,
            "align_self": null,
            "border": null,
            "bottom": null,
            "display": null,
            "flex": null,
            "flex_flow": null,
            "grid_area": null,
            "grid_auto_columns": null,
            "grid_auto_flow": null,
            "grid_auto_rows": null,
            "grid_column": null,
            "grid_gap": null,
            "grid_row": null,
            "grid_template_areas": null,
            "grid_template_columns": null,
            "grid_template_rows": null,
            "height": null,
            "justify_content": null,
            "justify_items": null,
            "left": null,
            "margin": null,
            "max_height": null,
            "max_width": null,
            "min_height": null,
            "min_width": null,
            "object_fit": null,
            "object_position": null,
            "order": null,
            "overflow": null,
            "overflow_x": null,
            "overflow_y": null,
            "padding": null,
            "right": null,
            "top": null,
            "visibility": null,
            "width": null
          }
        },
        "51f5439eb62e4163a28eed938c9b6c01": {
          "model_module": "@jupyter-widgets/base",
          "model_name": "LayoutModel",
          "model_module_version": "1.2.0",
          "state": {
            "_model_module": "@jupyter-widgets/base",
            "_model_module_version": "1.2.0",
            "_model_name": "LayoutModel",
            "_view_count": null,
            "_view_module": "@jupyter-widgets/base",
            "_view_module_version": "1.2.0",
            "_view_name": "LayoutView",
            "align_content": null,
            "align_items": null,
            "align_self": null,
            "border": null,
            "bottom": null,
            "display": null,
            "flex": null,
            "flex_flow": null,
            "grid_area": null,
            "grid_auto_columns": null,
            "grid_auto_flow": null,
            "grid_auto_rows": null,
            "grid_column": null,
            "grid_gap": null,
            "grid_row": null,
            "grid_template_areas": null,
            "grid_template_columns": null,
            "grid_template_rows": null,
            "height": null,
            "justify_content": null,
            "justify_items": null,
            "left": null,
            "margin": null,
            "max_height": null,
            "max_width": null,
            "min_height": null,
            "min_width": null,
            "object_fit": null,
            "object_position": null,
            "order": null,
            "overflow": null,
            "overflow_x": null,
            "overflow_y": null,
            "padding": null,
            "right": null,
            "top": null,
            "visibility": null,
            "width": null
          }
        },
        "4337e34d62dc497d8133a2b36e443a4c": {
          "model_module": "@jupyter-widgets/controls",
          "model_name": "DescriptionStyleModel",
          "model_module_version": "1.5.0",
          "state": {
            "_model_module": "@jupyter-widgets/controls",
            "_model_module_version": "1.5.0",
            "_model_name": "DescriptionStyleModel",
            "_view_count": null,
            "_view_module": "@jupyter-widgets/base",
            "_view_module_version": "1.2.0",
            "_view_name": "StyleView",
            "description_width": ""
          }
        },
        "7b546adcbee34d639fa7d5485ed06f63": {
          "model_module": "@jupyter-widgets/base",
          "model_name": "LayoutModel",
          "model_module_version": "1.2.0",
          "state": {
            "_model_module": "@jupyter-widgets/base",
            "_model_module_version": "1.2.0",
            "_model_name": "LayoutModel",
            "_view_count": null,
            "_view_module": "@jupyter-widgets/base",
            "_view_module_version": "1.2.0",
            "_view_name": "LayoutView",
            "align_content": null,
            "align_items": null,
            "align_self": null,
            "border": null,
            "bottom": null,
            "display": null,
            "flex": null,
            "flex_flow": null,
            "grid_area": null,
            "grid_auto_columns": null,
            "grid_auto_flow": null,
            "grid_auto_rows": null,
            "grid_column": null,
            "grid_gap": null,
            "grid_row": null,
            "grid_template_areas": null,
            "grid_template_columns": null,
            "grid_template_rows": null,
            "height": null,
            "justify_content": null,
            "justify_items": null,
            "left": null,
            "margin": null,
            "max_height": null,
            "max_width": null,
            "min_height": null,
            "min_width": null,
            "object_fit": null,
            "object_position": null,
            "order": null,
            "overflow": null,
            "overflow_x": null,
            "overflow_y": null,
            "padding": null,
            "right": null,
            "top": null,
            "visibility": null,
            "width": null
          }
        },
        "4fb6ed925dbc484ba5acb2ea001b400e": {
          "model_module": "@jupyter-widgets/controls",
          "model_name": "ProgressStyleModel",
          "model_module_version": "1.5.0",
          "state": {
            "_model_module": "@jupyter-widgets/controls",
            "_model_module_version": "1.5.0",
            "_model_name": "ProgressStyleModel",
            "_view_count": null,
            "_view_module": "@jupyter-widgets/base",
            "_view_module_version": "1.2.0",
            "_view_name": "StyleView",
            "bar_color": null,
            "description_width": ""
          }
        },
        "051f3d7165d349bca2d2dc4683fdaf6c": {
          "model_module": "@jupyter-widgets/base",
          "model_name": "LayoutModel",
          "model_module_version": "1.2.0",
          "state": {
            "_model_module": "@jupyter-widgets/base",
            "_model_module_version": "1.2.0",
            "_model_name": "LayoutModel",
            "_view_count": null,
            "_view_module": "@jupyter-widgets/base",
            "_view_module_version": "1.2.0",
            "_view_name": "LayoutView",
            "align_content": null,
            "align_items": null,
            "align_self": null,
            "border": null,
            "bottom": null,
            "display": null,
            "flex": null,
            "flex_flow": null,
            "grid_area": null,
            "grid_auto_columns": null,
            "grid_auto_flow": null,
            "grid_auto_rows": null,
            "grid_column": null,
            "grid_gap": null,
            "grid_row": null,
            "grid_template_areas": null,
            "grid_template_columns": null,
            "grid_template_rows": null,
            "height": null,
            "justify_content": null,
            "justify_items": null,
            "left": null,
            "margin": null,
            "max_height": null,
            "max_width": null,
            "min_height": null,
            "min_width": null,
            "object_fit": null,
            "object_position": null,
            "order": null,
            "overflow": null,
            "overflow_x": null,
            "overflow_y": null,
            "padding": null,
            "right": null,
            "top": null,
            "visibility": null,
            "width": null
          }
        },
        "d89159fa51854b39be4c09efe60e5cfa": {
          "model_module": "@jupyter-widgets/controls",
          "model_name": "DescriptionStyleModel",
          "model_module_version": "1.5.0",
          "state": {
            "_model_module": "@jupyter-widgets/controls",
            "_model_module_version": "1.5.0",
            "_model_name": "DescriptionStyleModel",
            "_view_count": null,
            "_view_module": "@jupyter-widgets/base",
            "_view_module_version": "1.2.0",
            "_view_name": "StyleView",
            "description_width": ""
          }
        },
        "a165551fb9474fcd9ade8663973bbef4": {
          "model_module": "@jupyter-widgets/controls",
          "model_name": "HBoxModel",
          "model_module_version": "1.5.0",
          "state": {
            "_dom_classes": [],
            "_model_module": "@jupyter-widgets/controls",
            "_model_module_version": "1.5.0",
            "_model_name": "HBoxModel",
            "_view_count": null,
            "_view_module": "@jupyter-widgets/controls",
            "_view_module_version": "1.5.0",
            "_view_name": "HBoxView",
            "box_style": "",
            "children": [
              "IPY_MODEL_f8b6f536e0314a60818501d4f92affa2",
              "IPY_MODEL_a887f2ff65144c8b8183875b81c54cf9",
              "IPY_MODEL_62700a7cc88548c798ab9c474a6ba9ac"
            ],
            "layout": "IPY_MODEL_9511f93c18324c78a40479dc6644188f"
          }
        },
        "f8b6f536e0314a60818501d4f92affa2": {
          "model_module": "@jupyter-widgets/controls",
          "model_name": "HTMLModel",
          "model_module_version": "1.5.0",
          "state": {
            "_dom_classes": [],
            "_model_module": "@jupyter-widgets/controls",
            "_model_module_version": "1.5.0",
            "_model_name": "HTMLModel",
            "_view_count": null,
            "_view_module": "@jupyter-widgets/controls",
            "_view_module_version": "1.5.0",
            "_view_name": "HTMLView",
            "description": "",
            "description_tooltip": null,
            "layout": "IPY_MODEL_4923c67a6dbb410d850be61b11ee0af9",
            "placeholder": "​",
            "style": "IPY_MODEL_45669ceae8ca41c0ae15e78e3e3c0d37",
            "value": "config.json: 100%"
          }
        },
        "a887f2ff65144c8b8183875b81c54cf9": {
          "model_module": "@jupyter-widgets/controls",
          "model_name": "FloatProgressModel",
          "model_module_version": "1.5.0",
          "state": {
            "_dom_classes": [],
            "_model_module": "@jupyter-widgets/controls",
            "_model_module_version": "1.5.0",
            "_model_name": "FloatProgressModel",
            "_view_count": null,
            "_view_module": "@jupyter-widgets/controls",
            "_view_module_version": "1.5.0",
            "_view_name": "ProgressView",
            "bar_style": "success",
            "description": "",
            "description_tooltip": null,
            "layout": "IPY_MODEL_8d7f3b01228e461dbd81a349fadf9012",
            "max": 2092,
            "min": 0,
            "orientation": "horizontal",
            "style": "IPY_MODEL_c65f2eb0a3bf4a9ba7bd0bf5dbbd7199",
            "value": 2092
          }
        },
        "62700a7cc88548c798ab9c474a6ba9ac": {
          "model_module": "@jupyter-widgets/controls",
          "model_name": "HTMLModel",
          "model_module_version": "1.5.0",
          "state": {
            "_dom_classes": [],
            "_model_module": "@jupyter-widgets/controls",
            "_model_module_version": "1.5.0",
            "_model_name": "HTMLModel",
            "_view_count": null,
            "_view_module": "@jupyter-widgets/controls",
            "_view_module_version": "1.5.0",
            "_view_name": "HTMLView",
            "description": "",
            "description_tooltip": null,
            "layout": "IPY_MODEL_c2534f117e5546ff9a259e9663856308",
            "placeholder": "​",
            "style": "IPY_MODEL_39de1dd2ce0c439086d4fddebf827eb7",
            "value": " 2.09k/2.09k [00:00&lt;00:00, 154kB/s]"
          }
        },
        "9511f93c18324c78a40479dc6644188f": {
          "model_module": "@jupyter-widgets/base",
          "model_name": "LayoutModel",
          "model_module_version": "1.2.0",
          "state": {
            "_model_module": "@jupyter-widgets/base",
            "_model_module_version": "1.2.0",
            "_model_name": "LayoutModel",
            "_view_count": null,
            "_view_module": "@jupyter-widgets/base",
            "_view_module_version": "1.2.0",
            "_view_name": "LayoutView",
            "align_content": null,
            "align_items": null,
            "align_self": null,
            "border": null,
            "bottom": null,
            "display": null,
            "flex": null,
            "flex_flow": null,
            "grid_area": null,
            "grid_auto_columns": null,
            "grid_auto_flow": null,
            "grid_auto_rows": null,
            "grid_column": null,
            "grid_gap": null,
            "grid_row": null,
            "grid_template_areas": null,
            "grid_template_columns": null,
            "grid_template_rows": null,
            "height": null,
            "justify_content": null,
            "justify_items": null,
            "left": null,
            "margin": null,
            "max_height": null,
            "max_width": null,
            "min_height": null,
            "min_width": null,
            "object_fit": null,
            "object_position": null,
            "order": null,
            "overflow": null,
            "overflow_x": null,
            "overflow_y": null,
            "padding": null,
            "right": null,
            "top": null,
            "visibility": null,
            "width": null
          }
        },
        "4923c67a6dbb410d850be61b11ee0af9": {
          "model_module": "@jupyter-widgets/base",
          "model_name": "LayoutModel",
          "model_module_version": "1.2.0",
          "state": {
            "_model_module": "@jupyter-widgets/base",
            "_model_module_version": "1.2.0",
            "_model_name": "LayoutModel",
            "_view_count": null,
            "_view_module": "@jupyter-widgets/base",
            "_view_module_version": "1.2.0",
            "_view_name": "LayoutView",
            "align_content": null,
            "align_items": null,
            "align_self": null,
            "border": null,
            "bottom": null,
            "display": null,
            "flex": null,
            "flex_flow": null,
            "grid_area": null,
            "grid_auto_columns": null,
            "grid_auto_flow": null,
            "grid_auto_rows": null,
            "grid_column": null,
            "grid_gap": null,
            "grid_row": null,
            "grid_template_areas": null,
            "grid_template_columns": null,
            "grid_template_rows": null,
            "height": null,
            "justify_content": null,
            "justify_items": null,
            "left": null,
            "margin": null,
            "max_height": null,
            "max_width": null,
            "min_height": null,
            "min_width": null,
            "object_fit": null,
            "object_position": null,
            "order": null,
            "overflow": null,
            "overflow_x": null,
            "overflow_y": null,
            "padding": null,
            "right": null,
            "top": null,
            "visibility": null,
            "width": null
          }
        },
        "45669ceae8ca41c0ae15e78e3e3c0d37": {
          "model_module": "@jupyter-widgets/controls",
          "model_name": "DescriptionStyleModel",
          "model_module_version": "1.5.0",
          "state": {
            "_model_module": "@jupyter-widgets/controls",
            "_model_module_version": "1.5.0",
            "_model_name": "DescriptionStyleModel",
            "_view_count": null,
            "_view_module": "@jupyter-widgets/base",
            "_view_module_version": "1.2.0",
            "_view_name": "StyleView",
            "description_width": ""
          }
        },
        "8d7f3b01228e461dbd81a349fadf9012": {
          "model_module": "@jupyter-widgets/base",
          "model_name": "LayoutModel",
          "model_module_version": "1.2.0",
          "state": {
            "_model_module": "@jupyter-widgets/base",
            "_model_module_version": "1.2.0",
            "_model_name": "LayoutModel",
            "_view_count": null,
            "_view_module": "@jupyter-widgets/base",
            "_view_module_version": "1.2.0",
            "_view_name": "LayoutView",
            "align_content": null,
            "align_items": null,
            "align_self": null,
            "border": null,
            "bottom": null,
            "display": null,
            "flex": null,
            "flex_flow": null,
            "grid_area": null,
            "grid_auto_columns": null,
            "grid_auto_flow": null,
            "grid_auto_rows": null,
            "grid_column": null,
            "grid_gap": null,
            "grid_row": null,
            "grid_template_areas": null,
            "grid_template_columns": null,
            "grid_template_rows": null,
            "height": null,
            "justify_content": null,
            "justify_items": null,
            "left": null,
            "margin": null,
            "max_height": null,
            "max_width": null,
            "min_height": null,
            "min_width": null,
            "object_fit": null,
            "object_position": null,
            "order": null,
            "overflow": null,
            "overflow_x": null,
            "overflow_y": null,
            "padding": null,
            "right": null,
            "top": null,
            "visibility": null,
            "width": null
          }
        },
        "c65f2eb0a3bf4a9ba7bd0bf5dbbd7199": {
          "model_module": "@jupyter-widgets/controls",
          "model_name": "ProgressStyleModel",
          "model_module_version": "1.5.0",
          "state": {
            "_model_module": "@jupyter-widgets/controls",
            "_model_module_version": "1.5.0",
            "_model_name": "ProgressStyleModel",
            "_view_count": null,
            "_view_module": "@jupyter-widgets/base",
            "_view_module_version": "1.2.0",
            "_view_name": "StyleView",
            "bar_color": null,
            "description_width": ""
          }
        },
        "c2534f117e5546ff9a259e9663856308": {
          "model_module": "@jupyter-widgets/base",
          "model_name": "LayoutModel",
          "model_module_version": "1.2.0",
          "state": {
            "_model_module": "@jupyter-widgets/base",
            "_model_module_version": "1.2.0",
            "_model_name": "LayoutModel",
            "_view_count": null,
            "_view_module": "@jupyter-widgets/base",
            "_view_module_version": "1.2.0",
            "_view_name": "LayoutView",
            "align_content": null,
            "align_items": null,
            "align_self": null,
            "border": null,
            "bottom": null,
            "display": null,
            "flex": null,
            "flex_flow": null,
            "grid_area": null,
            "grid_auto_columns": null,
            "grid_auto_flow": null,
            "grid_auto_rows": null,
            "grid_column": null,
            "grid_gap": null,
            "grid_row": null,
            "grid_template_areas": null,
            "grid_template_columns": null,
            "grid_template_rows": null,
            "height": null,
            "justify_content": null,
            "justify_items": null,
            "left": null,
            "margin": null,
            "max_height": null,
            "max_width": null,
            "min_height": null,
            "min_width": null,
            "object_fit": null,
            "object_position": null,
            "order": null,
            "overflow": null,
            "overflow_x": null,
            "overflow_y": null,
            "padding": null,
            "right": null,
            "top": null,
            "visibility": null,
            "width": null
          }
        },
        "39de1dd2ce0c439086d4fddebf827eb7": {
          "model_module": "@jupyter-widgets/controls",
          "model_name": "DescriptionStyleModel",
          "model_module_version": "1.5.0",
          "state": {
            "_model_module": "@jupyter-widgets/controls",
            "_model_module_version": "1.5.0",
            "_model_name": "DescriptionStyleModel",
            "_view_count": null,
            "_view_module": "@jupyter-widgets/base",
            "_view_module_version": "1.2.0",
            "_view_name": "StyleView",
            "description_width": ""
          }
        },
        "0e3cc325176a4a2c9de71603535e7508": {
          "model_module": "@jupyter-widgets/controls",
          "model_name": "HBoxModel",
          "model_module_version": "1.5.0",
          "state": {
            "_dom_classes": [],
            "_model_module": "@jupyter-widgets/controls",
            "_model_module_version": "1.5.0",
            "_model_name": "HBoxModel",
            "_view_count": null,
            "_view_module": "@jupyter-widgets/controls",
            "_view_module_version": "1.5.0",
            "_view_name": "HBoxView",
            "box_style": "",
            "children": [
              "IPY_MODEL_e5f7166534a547729549942fdb7c1529",
              "IPY_MODEL_dee2dad614824d56b116d8e703d6ad45",
              "IPY_MODEL_28c38cfb9da14a0d9afed635f3beda26"
            ],
            "layout": "IPY_MODEL_eff17b74c08a4f20a210516c9f3be9e5"
          }
        },
        "e5f7166534a547729549942fdb7c1529": {
          "model_module": "@jupyter-widgets/controls",
          "model_name": "HTMLModel",
          "model_module_version": "1.5.0",
          "state": {
            "_dom_classes": [],
            "_model_module": "@jupyter-widgets/controls",
            "_model_module_version": "1.5.0",
            "_model_name": "HTMLModel",
            "_view_count": null,
            "_view_module": "@jupyter-widgets/controls",
            "_view_module_version": "1.5.0",
            "_view_name": "HTMLView",
            "description": "",
            "description_tooltip": null,
            "layout": "IPY_MODEL_afc6268bf6a947efaa9320528d0ec682",
            "placeholder": "​",
            "style": "IPY_MODEL_65645aab847f45459b169f218b654775",
            "value": "model.safetensors: 100%"
          }
        },
        "dee2dad614824d56b116d8e703d6ad45": {
          "model_module": "@jupyter-widgets/controls",
          "model_name": "FloatProgressModel",
          "model_module_version": "1.5.0",
          "state": {
            "_dom_classes": [],
            "_model_module": "@jupyter-widgets/controls",
            "_model_module_version": "1.5.0",
            "_model_name": "FloatProgressModel",
            "_view_count": null,
            "_view_module": "@jupyter-widgets/controls",
            "_view_module_version": "1.5.0",
            "_view_name": "ProgressView",
            "bar_style": "success",
            "description": "",
            "description_tooltip": null,
            "layout": "IPY_MODEL_ec3b2fb87db74262b9f09802acad3e60",
            "max": 1262758680,
            "min": 0,
            "orientation": "horizontal",
            "style": "IPY_MODEL_926f2308b4284ad7a1008efe59d34742",
            "value": 1262758680
          }
        },
        "28c38cfb9da14a0d9afed635f3beda26": {
          "model_module": "@jupyter-widgets/controls",
          "model_name": "HTMLModel",
          "model_module_version": "1.5.0",
          "state": {
            "_dom_classes": [],
            "_model_module": "@jupyter-widgets/controls",
            "_model_module_version": "1.5.0",
            "_model_name": "HTMLModel",
            "_view_count": null,
            "_view_module": "@jupyter-widgets/controls",
            "_view_module_version": "1.5.0",
            "_view_name": "HTMLView",
            "description": "",
            "description_tooltip": null,
            "layout": "IPY_MODEL_c1130e2762b44487ab5b0f85b6410421",
            "placeholder": "​",
            "style": "IPY_MODEL_89a98facc6ff46e69a3c337de9f29a95",
            "value": " 1.26G/1.26G [00:06&lt;00:00, 227MB/s]"
          }
        },
        "eff17b74c08a4f20a210516c9f3be9e5": {
          "model_module": "@jupyter-widgets/base",
          "model_name": "LayoutModel",
          "model_module_version": "1.2.0",
          "state": {
            "_model_module": "@jupyter-widgets/base",
            "_model_module_version": "1.2.0",
            "_model_name": "LayoutModel",
            "_view_count": null,
            "_view_module": "@jupyter-widgets/base",
            "_view_module_version": "1.2.0",
            "_view_name": "LayoutView",
            "align_content": null,
            "align_items": null,
            "align_self": null,
            "border": null,
            "bottom": null,
            "display": null,
            "flex": null,
            "flex_flow": null,
            "grid_area": null,
            "grid_auto_columns": null,
            "grid_auto_flow": null,
            "grid_auto_rows": null,
            "grid_column": null,
            "grid_gap": null,
            "grid_row": null,
            "grid_template_areas": null,
            "grid_template_columns": null,
            "grid_template_rows": null,
            "height": null,
            "justify_content": null,
            "justify_items": null,
            "left": null,
            "margin": null,
            "max_height": null,
            "max_width": null,
            "min_height": null,
            "min_width": null,
            "object_fit": null,
            "object_position": null,
            "order": null,
            "overflow": null,
            "overflow_x": null,
            "overflow_y": null,
            "padding": null,
            "right": null,
            "top": null,
            "visibility": null,
            "width": null
          }
        },
        "afc6268bf6a947efaa9320528d0ec682": {
          "model_module": "@jupyter-widgets/base",
          "model_name": "LayoutModel",
          "model_module_version": "1.2.0",
          "state": {
            "_model_module": "@jupyter-widgets/base",
            "_model_module_version": "1.2.0",
            "_model_name": "LayoutModel",
            "_view_count": null,
            "_view_module": "@jupyter-widgets/base",
            "_view_module_version": "1.2.0",
            "_view_name": "LayoutView",
            "align_content": null,
            "align_items": null,
            "align_self": null,
            "border": null,
            "bottom": null,
            "display": null,
            "flex": null,
            "flex_flow": null,
            "grid_area": null,
            "grid_auto_columns": null,
            "grid_auto_flow": null,
            "grid_auto_rows": null,
            "grid_column": null,
            "grid_gap": null,
            "grid_row": null,
            "grid_template_areas": null,
            "grid_template_columns": null,
            "grid_template_rows": null,
            "height": null,
            "justify_content": null,
            "justify_items": null,
            "left": null,
            "margin": null,
            "max_height": null,
            "max_width": null,
            "min_height": null,
            "min_width": null,
            "object_fit": null,
            "object_position": null,
            "order": null,
            "overflow": null,
            "overflow_x": null,
            "overflow_y": null,
            "padding": null,
            "right": null,
            "top": null,
            "visibility": null,
            "width": null
          }
        },
        "65645aab847f45459b169f218b654775": {
          "model_module": "@jupyter-widgets/controls",
          "model_name": "DescriptionStyleModel",
          "model_module_version": "1.5.0",
          "state": {
            "_model_module": "@jupyter-widgets/controls",
            "_model_module_version": "1.5.0",
            "_model_name": "DescriptionStyleModel",
            "_view_count": null,
            "_view_module": "@jupyter-widgets/base",
            "_view_module_version": "1.2.0",
            "_view_name": "StyleView",
            "description_width": ""
          }
        },
        "ec3b2fb87db74262b9f09802acad3e60": {
          "model_module": "@jupyter-widgets/base",
          "model_name": "LayoutModel",
          "model_module_version": "1.2.0",
          "state": {
            "_model_module": "@jupyter-widgets/base",
            "_model_module_version": "1.2.0",
            "_model_name": "LayoutModel",
            "_view_count": null,
            "_view_module": "@jupyter-widgets/base",
            "_view_module_version": "1.2.0",
            "_view_name": "LayoutView",
            "align_content": null,
            "align_items": null,
            "align_self": null,
            "border": null,
            "bottom": null,
            "display": null,
            "flex": null,
            "flex_flow": null,
            "grid_area": null,
            "grid_auto_columns": null,
            "grid_auto_flow": null,
            "grid_auto_rows": null,
            "grid_column": null,
            "grid_gap": null,
            "grid_row": null,
            "grid_template_areas": null,
            "grid_template_columns": null,
            "grid_template_rows": null,
            "height": null,
            "justify_content": null,
            "justify_items": null,
            "left": null,
            "margin": null,
            "max_height": null,
            "max_width": null,
            "min_height": null,
            "min_width": null,
            "object_fit": null,
            "object_position": null,
            "order": null,
            "overflow": null,
            "overflow_x": null,
            "overflow_y": null,
            "padding": null,
            "right": null,
            "top": null,
            "visibility": null,
            "width": null
          }
        },
        "926f2308b4284ad7a1008efe59d34742": {
          "model_module": "@jupyter-widgets/controls",
          "model_name": "ProgressStyleModel",
          "model_module_version": "1.5.0",
          "state": {
            "_model_module": "@jupyter-widgets/controls",
            "_model_module_version": "1.5.0",
            "_model_name": "ProgressStyleModel",
            "_view_count": null,
            "_view_module": "@jupyter-widgets/base",
            "_view_module_version": "1.2.0",
            "_view_name": "StyleView",
            "bar_color": null,
            "description_width": ""
          }
        },
        "c1130e2762b44487ab5b0f85b6410421": {
          "model_module": "@jupyter-widgets/base",
          "model_name": "LayoutModel",
          "model_module_version": "1.2.0",
          "state": {
            "_model_module": "@jupyter-widgets/base",
            "_model_module_version": "1.2.0",
            "_model_name": "LayoutModel",
            "_view_count": null,
            "_view_module": "@jupyter-widgets/base",
            "_view_module_version": "1.2.0",
            "_view_name": "LayoutView",
            "align_content": null,
            "align_items": null,
            "align_self": null,
            "border": null,
            "bottom": null,
            "display": null,
            "flex": null,
            "flex_flow": null,
            "grid_area": null,
            "grid_auto_columns": null,
            "grid_auto_flow": null,
            "grid_auto_rows": null,
            "grid_column": null,
            "grid_gap": null,
            "grid_row": null,
            "grid_template_areas": null,
            "grid_template_columns": null,
            "grid_template_rows": null,
            "height": null,
            "justify_content": null,
            "justify_items": null,
            "left": null,
            "margin": null,
            "max_height": null,
            "max_width": null,
            "min_height": null,
            "min_width": null,
            "object_fit": null,
            "object_position": null,
            "order": null,
            "overflow": null,
            "overflow_x": null,
            "overflow_y": null,
            "padding": null,
            "right": null,
            "top": null,
            "visibility": null,
            "width": null
          }
        },
        "89a98facc6ff46e69a3c337de9f29a95": {
          "model_module": "@jupyter-widgets/controls",
          "model_name": "DescriptionStyleModel",
          "model_module_version": "1.5.0",
          "state": {
            "_model_module": "@jupyter-widgets/controls",
            "_model_module_version": "1.5.0",
            "_model_name": "DescriptionStyleModel",
            "_view_count": null,
            "_view_module": "@jupyter-widgets/base",
            "_view_module_version": "1.2.0",
            "_view_name": "StyleView",
            "description_width": ""
          }
        },
        "47e94b3ed5024addad572e207a9f9844": {
          "model_module": "@jupyter-widgets/controls",
          "model_name": "HBoxModel",
          "model_module_version": "1.5.0",
          "state": {
            "_dom_classes": [],
            "_model_module": "@jupyter-widgets/controls",
            "_model_module_version": "1.5.0",
            "_model_name": "HBoxModel",
            "_view_count": null,
            "_view_module": "@jupyter-widgets/controls",
            "_view_module_version": "1.5.0",
            "_view_name": "HBoxView",
            "box_style": "",
            "children": [
              "IPY_MODEL_1b7b21d95794400dacb6fc68a5e52ccc",
              "IPY_MODEL_177d290f7cf04673a484314b4abde4ad",
              "IPY_MODEL_0e834b00fa5641e8bd4d419fe5952fb8"
            ],
            "layout": "IPY_MODEL_d0285ed93d2c4502a0332a73d0c90d2b"
          }
        },
        "1b7b21d95794400dacb6fc68a5e52ccc": {
          "model_module": "@jupyter-widgets/controls",
          "model_name": "HTMLModel",
          "model_module_version": "1.5.0",
          "state": {
            "_dom_classes": [],
            "_model_module": "@jupyter-widgets/controls",
            "_model_module_version": "1.5.0",
            "_model_name": "HTMLModel",
            "_view_count": null,
            "_view_module": "@jupyter-widgets/controls",
            "_view_module_version": "1.5.0",
            "_view_name": "HTMLView",
            "description": "",
            "description_tooltip": null,
            "layout": "IPY_MODEL_1b276ed832a14d0fb8385379658ced3b",
            "placeholder": "​",
            "style": "IPY_MODEL_37d8116a973a437381c48d46a55e9f3c",
            "value": "preprocessor_config.json: 100%"
          }
        },
        "177d290f7cf04673a484314b4abde4ad": {
          "model_module": "@jupyter-widgets/controls",
          "model_name": "FloatProgressModel",
          "model_module_version": "1.5.0",
          "state": {
            "_dom_classes": [],
            "_model_module": "@jupyter-widgets/controls",
            "_model_module_version": "1.5.0",
            "_model_name": "FloatProgressModel",
            "_view_count": null,
            "_view_module": "@jupyter-widgets/controls",
            "_view_module_version": "1.5.0",
            "_view_name": "ProgressView",
            "bar_style": "success",
            "description": "",
            "description_tooltip": null,
            "layout": "IPY_MODEL_00eb70e01b2640d9ba4e349ad9778c10",
            "max": 214,
            "min": 0,
            "orientation": "horizontal",
            "style": "IPY_MODEL_9e400506a977403cb10c867caec4b030",
            "value": 214
          }
        },
        "0e834b00fa5641e8bd4d419fe5952fb8": {
          "model_module": "@jupyter-widgets/controls",
          "model_name": "HTMLModel",
          "model_module_version": "1.5.0",
          "state": {
            "_dom_classes": [],
            "_model_module": "@jupyter-widgets/controls",
            "_model_module_version": "1.5.0",
            "_model_name": "HTMLModel",
            "_view_count": null,
            "_view_module": "@jupyter-widgets/controls",
            "_view_module_version": "1.5.0",
            "_view_name": "HTMLView",
            "description": "",
            "description_tooltip": null,
            "layout": "IPY_MODEL_f70a2baf2c1d4eb8893602ca56a3e1c2",
            "placeholder": "​",
            "style": "IPY_MODEL_08e3f125e0f0451e8efe74942988e8fe",
            "value": " 214/214 [00:00&lt;00:00, 6.46kB/s]"
          }
        },
        "d0285ed93d2c4502a0332a73d0c90d2b": {
          "model_module": "@jupyter-widgets/base",
          "model_name": "LayoutModel",
          "model_module_version": "1.2.0",
          "state": {
            "_model_module": "@jupyter-widgets/base",
            "_model_module_version": "1.2.0",
            "_model_name": "LayoutModel",
            "_view_count": null,
            "_view_module": "@jupyter-widgets/base",
            "_view_module_version": "1.2.0",
            "_view_name": "LayoutView",
            "align_content": null,
            "align_items": null,
            "align_self": null,
            "border": null,
            "bottom": null,
            "display": null,
            "flex": null,
            "flex_flow": null,
            "grid_area": null,
            "grid_auto_columns": null,
            "grid_auto_flow": null,
            "grid_auto_rows": null,
            "grid_column": null,
            "grid_gap": null,
            "grid_row": null,
            "grid_template_areas": null,
            "grid_template_columns": null,
            "grid_template_rows": null,
            "height": null,
            "justify_content": null,
            "justify_items": null,
            "left": null,
            "margin": null,
            "max_height": null,
            "max_width": null,
            "min_height": null,
            "min_width": null,
            "object_fit": null,
            "object_position": null,
            "order": null,
            "overflow": null,
            "overflow_x": null,
            "overflow_y": null,
            "padding": null,
            "right": null,
            "top": null,
            "visibility": null,
            "width": null
          }
        },
        "1b276ed832a14d0fb8385379658ced3b": {
          "model_module": "@jupyter-widgets/base",
          "model_name": "LayoutModel",
          "model_module_version": "1.2.0",
          "state": {
            "_model_module": "@jupyter-widgets/base",
            "_model_module_version": "1.2.0",
            "_model_name": "LayoutModel",
            "_view_count": null,
            "_view_module": "@jupyter-widgets/base",
            "_view_module_version": "1.2.0",
            "_view_name": "LayoutView",
            "align_content": null,
            "align_items": null,
            "align_self": null,
            "border": null,
            "bottom": null,
            "display": null,
            "flex": null,
            "flex_flow": null,
            "grid_area": null,
            "grid_auto_columns": null,
            "grid_auto_flow": null,
            "grid_auto_rows": null,
            "grid_column": null,
            "grid_gap": null,
            "grid_row": null,
            "grid_template_areas": null,
            "grid_template_columns": null,
            "grid_template_rows": null,
            "height": null,
            "justify_content": null,
            "justify_items": null,
            "left": null,
            "margin": null,
            "max_height": null,
            "max_width": null,
            "min_height": null,
            "min_width": null,
            "object_fit": null,
            "object_position": null,
            "order": null,
            "overflow": null,
            "overflow_x": null,
            "overflow_y": null,
            "padding": null,
            "right": null,
            "top": null,
            "visibility": null,
            "width": null
          }
        },
        "37d8116a973a437381c48d46a55e9f3c": {
          "model_module": "@jupyter-widgets/controls",
          "model_name": "DescriptionStyleModel",
          "model_module_version": "1.5.0",
          "state": {
            "_model_module": "@jupyter-widgets/controls",
            "_model_module_version": "1.5.0",
            "_model_name": "DescriptionStyleModel",
            "_view_count": null,
            "_view_module": "@jupyter-widgets/base",
            "_view_module_version": "1.2.0",
            "_view_name": "StyleView",
            "description_width": ""
          }
        },
        "00eb70e01b2640d9ba4e349ad9778c10": {
          "model_module": "@jupyter-widgets/base",
          "model_name": "LayoutModel",
          "model_module_version": "1.2.0",
          "state": {
            "_model_module": "@jupyter-widgets/base",
            "_model_module_version": "1.2.0",
            "_model_name": "LayoutModel",
            "_view_count": null,
            "_view_module": "@jupyter-widgets/base",
            "_view_module_version": "1.2.0",
            "_view_name": "LayoutView",
            "align_content": null,
            "align_items": null,
            "align_self": null,
            "border": null,
            "bottom": null,
            "display": null,
            "flex": null,
            "flex_flow": null,
            "grid_area": null,
            "grid_auto_columns": null,
            "grid_auto_flow": null,
            "grid_auto_rows": null,
            "grid_column": null,
            "grid_gap": null,
            "grid_row": null,
            "grid_template_areas": null,
            "grid_template_columns": null,
            "grid_template_rows": null,
            "height": null,
            "justify_content": null,
            "justify_items": null,
            "left": null,
            "margin": null,
            "max_height": null,
            "max_width": null,
            "min_height": null,
            "min_width": null,
            "object_fit": null,
            "object_position": null,
            "order": null,
            "overflow": null,
            "overflow_x": null,
            "overflow_y": null,
            "padding": null,
            "right": null,
            "top": null,
            "visibility": null,
            "width": null
          }
        },
        "9e400506a977403cb10c867caec4b030": {
          "model_module": "@jupyter-widgets/controls",
          "model_name": "ProgressStyleModel",
          "model_module_version": "1.5.0",
          "state": {
            "_model_module": "@jupyter-widgets/controls",
            "_model_module_version": "1.5.0",
            "_model_name": "ProgressStyleModel",
            "_view_count": null,
            "_view_module": "@jupyter-widgets/base",
            "_view_module_version": "1.2.0",
            "_view_name": "StyleView",
            "bar_color": null,
            "description_width": ""
          }
        },
        "f70a2baf2c1d4eb8893602ca56a3e1c2": {
          "model_module": "@jupyter-widgets/base",
          "model_name": "LayoutModel",
          "model_module_version": "1.2.0",
          "state": {
            "_model_module": "@jupyter-widgets/base",
            "_model_module_version": "1.2.0",
            "_model_name": "LayoutModel",
            "_view_count": null,
            "_view_module": "@jupyter-widgets/base",
            "_view_module_version": "1.2.0",
            "_view_name": "LayoutView",
            "align_content": null,
            "align_items": null,
            "align_self": null,
            "border": null,
            "bottom": null,
            "display": null,
            "flex": null,
            "flex_flow": null,
            "grid_area": null,
            "grid_auto_columns": null,
            "grid_auto_flow": null,
            "grid_auto_rows": null,
            "grid_column": null,
            "grid_gap": null,
            "grid_row": null,
            "grid_template_areas": null,
            "grid_template_columns": null,
            "grid_template_rows": null,
            "height": null,
            "justify_content": null,
            "justify_items": null,
            "left": null,
            "margin": null,
            "max_height": null,
            "max_width": null,
            "min_height": null,
            "min_width": null,
            "object_fit": null,
            "object_position": null,
            "order": null,
            "overflow": null,
            "overflow_x": null,
            "overflow_y": null,
            "padding": null,
            "right": null,
            "top": null,
            "visibility": null,
            "width": null
          }
        },
        "08e3f125e0f0451e8efe74942988e8fe": {
          "model_module": "@jupyter-widgets/controls",
          "model_name": "DescriptionStyleModel",
          "model_module_version": "1.5.0",
          "state": {
            "_model_module": "@jupyter-widgets/controls",
            "_model_module_version": "1.5.0",
            "_model_name": "DescriptionStyleModel",
            "_view_count": null,
            "_view_module": "@jupyter-widgets/base",
            "_view_module_version": "1.2.0",
            "_view_name": "StyleView",
            "description_width": ""
          }
        },
        "c1f2b3fb734442a5b102f9edac8ea3ef": {
          "model_module": "@jupyter-widgets/controls",
          "model_name": "HBoxModel",
          "model_module_version": "1.5.0",
          "state": {
            "_dom_classes": [],
            "_model_module": "@jupyter-widgets/controls",
            "_model_module_version": "1.5.0",
            "_model_name": "HBoxModel",
            "_view_count": null,
            "_view_module": "@jupyter-widgets/controls",
            "_view_module_version": "1.5.0",
            "_view_name": "HBoxView",
            "box_style": "",
            "children": [
              "IPY_MODEL_382af4aa750743018c690f071622640a",
              "IPY_MODEL_99771f089a7a46889b9f79b9fc96078e",
              "IPY_MODEL_bb8474999ccc4eb980c60b1e3cbfb044"
            ],
            "layout": "IPY_MODEL_c43af00bd4c944b4af0962a53bea22db"
          }
        },
        "382af4aa750743018c690f071622640a": {
          "model_module": "@jupyter-widgets/controls",
          "model_name": "HTMLModel",
          "model_module_version": "1.5.0",
          "state": {
            "_dom_classes": [],
            "_model_module": "@jupyter-widgets/controls",
            "_model_module_version": "1.5.0",
            "_model_name": "HTMLModel",
            "_view_count": null,
            "_view_module": "@jupyter-widgets/controls",
            "_view_module_version": "1.5.0",
            "_view_name": "HTMLView",
            "description": "",
            "description_tooltip": null,
            "layout": "IPY_MODEL_d5bda97067f1414294423622d1eeac10",
            "placeholder": "​",
            "style": "IPY_MODEL_846b03994dee4c4e9c4597a7e39151bd",
            "value": "tokenizer_config.json: 100%"
          }
        },
        "99771f089a7a46889b9f79b9fc96078e": {
          "model_module": "@jupyter-widgets/controls",
          "model_name": "FloatProgressModel",
          "model_module_version": "1.5.0",
          "state": {
            "_dom_classes": [],
            "_model_module": "@jupyter-widgets/controls",
            "_model_module_version": "1.5.0",
            "_model_name": "FloatProgressModel",
            "_view_count": null,
            "_view_module": "@jupyter-widgets/controls",
            "_view_module_version": "1.5.0",
            "_view_name": "ProgressView",
            "bar_style": "success",
            "description": "",
            "description_tooltip": null,
            "layout": "IPY_MODEL_b4ccd9bfb84040d09fbcc4f20964bf2a",
            "max": 1057,
            "min": 0,
            "orientation": "horizontal",
            "style": "IPY_MODEL_d6d9113ccc8a4944a4df55d304774815",
            "value": 1057
          }
        },
        "bb8474999ccc4eb980c60b1e3cbfb044": {
          "model_module": "@jupyter-widgets/controls",
          "model_name": "HTMLModel",
          "model_module_version": "1.5.0",
          "state": {
            "_dom_classes": [],
            "_model_module": "@jupyter-widgets/controls",
            "_model_module_version": "1.5.0",
            "_model_name": "HTMLModel",
            "_view_count": null,
            "_view_module": "@jupyter-widgets/controls",
            "_view_module_version": "1.5.0",
            "_view_name": "HTMLView",
            "description": "",
            "description_tooltip": null,
            "layout": "IPY_MODEL_073083347096480f8825c20c3d1b9bbd",
            "placeholder": "​",
            "style": "IPY_MODEL_26faf95e6be94237866e240282fe874a",
            "value": " 1.06k/1.06k [00:00&lt;00:00, 59.7kB/s]"
          }
        },
        "c43af00bd4c944b4af0962a53bea22db": {
          "model_module": "@jupyter-widgets/base",
          "model_name": "LayoutModel",
          "model_module_version": "1.2.0",
          "state": {
            "_model_module": "@jupyter-widgets/base",
            "_model_module_version": "1.2.0",
            "_model_name": "LayoutModel",
            "_view_count": null,
            "_view_module": "@jupyter-widgets/base",
            "_view_module_version": "1.2.0",
            "_view_name": "LayoutView",
            "align_content": null,
            "align_items": null,
            "align_self": null,
            "border": null,
            "bottom": null,
            "display": null,
            "flex": null,
            "flex_flow": null,
            "grid_area": null,
            "grid_auto_columns": null,
            "grid_auto_flow": null,
            "grid_auto_rows": null,
            "grid_column": null,
            "grid_gap": null,
            "grid_row": null,
            "grid_template_areas": null,
            "grid_template_columns": null,
            "grid_template_rows": null,
            "height": null,
            "justify_content": null,
            "justify_items": null,
            "left": null,
            "margin": null,
            "max_height": null,
            "max_width": null,
            "min_height": null,
            "min_width": null,
            "object_fit": null,
            "object_position": null,
            "order": null,
            "overflow": null,
            "overflow_x": null,
            "overflow_y": null,
            "padding": null,
            "right": null,
            "top": null,
            "visibility": null,
            "width": null
          }
        },
        "d5bda97067f1414294423622d1eeac10": {
          "model_module": "@jupyter-widgets/base",
          "model_name": "LayoutModel",
          "model_module_version": "1.2.0",
          "state": {
            "_model_module": "@jupyter-widgets/base",
            "_model_module_version": "1.2.0",
            "_model_name": "LayoutModel",
            "_view_count": null,
            "_view_module": "@jupyter-widgets/base",
            "_view_module_version": "1.2.0",
            "_view_name": "LayoutView",
            "align_content": null,
            "align_items": null,
            "align_self": null,
            "border": null,
            "bottom": null,
            "display": null,
            "flex": null,
            "flex_flow": null,
            "grid_area": null,
            "grid_auto_columns": null,
            "grid_auto_flow": null,
            "grid_auto_rows": null,
            "grid_column": null,
            "grid_gap": null,
            "grid_row": null,
            "grid_template_areas": null,
            "grid_template_columns": null,
            "grid_template_rows": null,
            "height": null,
            "justify_content": null,
            "justify_items": null,
            "left": null,
            "margin": null,
            "max_height": null,
            "max_width": null,
            "min_height": null,
            "min_width": null,
            "object_fit": null,
            "object_position": null,
            "order": null,
            "overflow": null,
            "overflow_x": null,
            "overflow_y": null,
            "padding": null,
            "right": null,
            "top": null,
            "visibility": null,
            "width": null
          }
        },
        "846b03994dee4c4e9c4597a7e39151bd": {
          "model_module": "@jupyter-widgets/controls",
          "model_name": "DescriptionStyleModel",
          "model_module_version": "1.5.0",
          "state": {
            "_model_module": "@jupyter-widgets/controls",
            "_model_module_version": "1.5.0",
            "_model_name": "DescriptionStyleModel",
            "_view_count": null,
            "_view_module": "@jupyter-widgets/base",
            "_view_module_version": "1.2.0",
            "_view_name": "StyleView",
            "description_width": ""
          }
        },
        "b4ccd9bfb84040d09fbcc4f20964bf2a": {
          "model_module": "@jupyter-widgets/base",
          "model_name": "LayoutModel",
          "model_module_version": "1.2.0",
          "state": {
            "_model_module": "@jupyter-widgets/base",
            "_model_module_version": "1.2.0",
            "_model_name": "LayoutModel",
            "_view_count": null,
            "_view_module": "@jupyter-widgets/base",
            "_view_module_version": "1.2.0",
            "_view_name": "LayoutView",
            "align_content": null,
            "align_items": null,
            "align_self": null,
            "border": null,
            "bottom": null,
            "display": null,
            "flex": null,
            "flex_flow": null,
            "grid_area": null,
            "grid_auto_columns": null,
            "grid_auto_flow": null,
            "grid_auto_rows": null,
            "grid_column": null,
            "grid_gap": null,
            "grid_row": null,
            "grid_template_areas": null,
            "grid_template_columns": null,
            "grid_template_rows": null,
            "height": null,
            "justify_content": null,
            "justify_items": null,
            "left": null,
            "margin": null,
            "max_height": null,
            "max_width": null,
            "min_height": null,
            "min_width": null,
            "object_fit": null,
            "object_position": null,
            "order": null,
            "overflow": null,
            "overflow_x": null,
            "overflow_y": null,
            "padding": null,
            "right": null,
            "top": null,
            "visibility": null,
            "width": null
          }
        },
        "d6d9113ccc8a4944a4df55d304774815": {
          "model_module": "@jupyter-widgets/controls",
          "model_name": "ProgressStyleModel",
          "model_module_version": "1.5.0",
          "state": {
            "_model_module": "@jupyter-widgets/controls",
            "_model_module_version": "1.5.0",
            "_model_name": "ProgressStyleModel",
            "_view_count": null,
            "_view_module": "@jupyter-widgets/base",
            "_view_module_version": "1.2.0",
            "_view_name": "StyleView",
            "bar_color": null,
            "description_width": ""
          }
        },
        "073083347096480f8825c20c3d1b9bbd": {
          "model_module": "@jupyter-widgets/base",
          "model_name": "LayoutModel",
          "model_module_version": "1.2.0",
          "state": {
            "_model_module": "@jupyter-widgets/base",
            "_model_module_version": "1.2.0",
            "_model_name": "LayoutModel",
            "_view_count": null,
            "_view_module": "@jupyter-widgets/base",
            "_view_module_version": "1.2.0",
            "_view_name": "LayoutView",
            "align_content": null,
            "align_items": null,
            "align_self": null,
            "border": null,
            "bottom": null,
            "display": null,
            "flex": null,
            "flex_flow": null,
            "grid_area": null,
            "grid_auto_columns": null,
            "grid_auto_flow": null,
            "grid_auto_rows": null,
            "grid_column": null,
            "grid_gap": null,
            "grid_row": null,
            "grid_template_areas": null,
            "grid_template_columns": null,
            "grid_template_rows": null,
            "height": null,
            "justify_content": null,
            "justify_items": null,
            "left": null,
            "margin": null,
            "max_height": null,
            "max_width": null,
            "min_height": null,
            "min_width": null,
            "object_fit": null,
            "object_position": null,
            "order": null,
            "overflow": null,
            "overflow_x": null,
            "overflow_y": null,
            "padding": null,
            "right": null,
            "top": null,
            "visibility": null,
            "width": null
          }
        },
        "26faf95e6be94237866e240282fe874a": {
          "model_module": "@jupyter-widgets/controls",
          "model_name": "DescriptionStyleModel",
          "model_module_version": "1.5.0",
          "state": {
            "_model_module": "@jupyter-widgets/controls",
            "_model_module_version": "1.5.0",
            "_model_name": "DescriptionStyleModel",
            "_view_count": null,
            "_view_module": "@jupyter-widgets/base",
            "_view_module_version": "1.2.0",
            "_view_name": "StyleView",
            "description_width": ""
          }
        },
        "db49307807e34bb389c0e9c20c26dddf": {
          "model_module": "@jupyter-widgets/controls",
          "model_name": "HBoxModel",
          "model_module_version": "1.5.0",
          "state": {
            "_dom_classes": [],
            "_model_module": "@jupyter-widgets/controls",
            "_model_module_version": "1.5.0",
            "_model_name": "HBoxModel",
            "_view_count": null,
            "_view_module": "@jupyter-widgets/controls",
            "_view_module_version": "1.5.0",
            "_view_name": "HBoxView",
            "box_style": "",
            "children": [
              "IPY_MODEL_09a1174736124527ae57c6087c9fdee3",
              "IPY_MODEL_1520fac7ccee4d7f8d3a02de15576a98",
              "IPY_MODEL_254e3e3d027d487bbe8cac945f4f32e7"
            ],
            "layout": "IPY_MODEL_e45f59927dfd446d843c6663ae53e518"
          }
        },
        "09a1174736124527ae57c6087c9fdee3": {
          "model_module": "@jupyter-widgets/controls",
          "model_name": "HTMLModel",
          "model_module_version": "1.5.0",
          "state": {
            "_dom_classes": [],
            "_model_module": "@jupyter-widgets/controls",
            "_model_module_version": "1.5.0",
            "_model_name": "HTMLModel",
            "_view_count": null,
            "_view_module": "@jupyter-widgets/controls",
            "_view_module_version": "1.5.0",
            "_view_name": "HTMLView",
            "description": "",
            "description_tooltip": null,
            "layout": "IPY_MODEL_90f763175cdd4134b23b46f6579ff165",
            "placeholder": "​",
            "style": "IPY_MODEL_d1383012f3b14428ba51fc24a7a17c8b",
            "value": "vocab.json: 100%"
          }
        },
        "1520fac7ccee4d7f8d3a02de15576a98": {
          "model_module": "@jupyter-widgets/controls",
          "model_name": "FloatProgressModel",
          "model_module_version": "1.5.0",
          "state": {
            "_dom_classes": [],
            "_model_module": "@jupyter-widgets/controls",
            "_model_module_version": "1.5.0",
            "_model_name": "FloatProgressModel",
            "_view_count": null,
            "_view_module": "@jupyter-widgets/controls",
            "_view_module_version": "1.5.0",
            "_view_name": "ProgressView",
            "bar_style": "success",
            "description": "",
            "description_tooltip": null,
            "layout": "IPY_MODEL_6b5930f4b9bf42ca8cf3555ba5122fa1",
            "max": 3115,
            "min": 0,
            "orientation": "horizontal",
            "style": "IPY_MODEL_1e88580cc31247379b4ddd923256763f",
            "value": 3115
          }
        },
        "254e3e3d027d487bbe8cac945f4f32e7": {
          "model_module": "@jupyter-widgets/controls",
          "model_name": "HTMLModel",
          "model_module_version": "1.5.0",
          "state": {
            "_dom_classes": [],
            "_model_module": "@jupyter-widgets/controls",
            "_model_module_version": "1.5.0",
            "_model_name": "HTMLModel",
            "_view_count": null,
            "_view_module": "@jupyter-widgets/controls",
            "_view_module_version": "1.5.0",
            "_view_name": "HTMLView",
            "description": "",
            "description_tooltip": null,
            "layout": "IPY_MODEL_22de7a72e4fb42f39e6a32e956008497",
            "placeholder": "​",
            "style": "IPY_MODEL_bdc5ec24600347e98663899cf9450d71",
            "value": " 3.12k/3.12k [00:00&lt;00:00, 160kB/s]"
          }
        },
        "e45f59927dfd446d843c6663ae53e518": {
          "model_module": "@jupyter-widgets/base",
          "model_name": "LayoutModel",
          "model_module_version": "1.2.0",
          "state": {
            "_model_module": "@jupyter-widgets/base",
            "_model_module_version": "1.2.0",
            "_model_name": "LayoutModel",
            "_view_count": null,
            "_view_module": "@jupyter-widgets/base",
            "_view_module_version": "1.2.0",
            "_view_name": "LayoutView",
            "align_content": null,
            "align_items": null,
            "align_self": null,
            "border": null,
            "bottom": null,
            "display": null,
            "flex": null,
            "flex_flow": null,
            "grid_area": null,
            "grid_auto_columns": null,
            "grid_auto_flow": null,
            "grid_auto_rows": null,
            "grid_column": null,
            "grid_gap": null,
            "grid_row": null,
            "grid_template_areas": null,
            "grid_template_columns": null,
            "grid_template_rows": null,
            "height": null,
            "justify_content": null,
            "justify_items": null,
            "left": null,
            "margin": null,
            "max_height": null,
            "max_width": null,
            "min_height": null,
            "min_width": null,
            "object_fit": null,
            "object_position": null,
            "order": null,
            "overflow": null,
            "overflow_x": null,
            "overflow_y": null,
            "padding": null,
            "right": null,
            "top": null,
            "visibility": null,
            "width": null
          }
        },
        "90f763175cdd4134b23b46f6579ff165": {
          "model_module": "@jupyter-widgets/base",
          "model_name": "LayoutModel",
          "model_module_version": "1.2.0",
          "state": {
            "_model_module": "@jupyter-widgets/base",
            "_model_module_version": "1.2.0",
            "_model_name": "LayoutModel",
            "_view_count": null,
            "_view_module": "@jupyter-widgets/base",
            "_view_module_version": "1.2.0",
            "_view_name": "LayoutView",
            "align_content": null,
            "align_items": null,
            "align_self": null,
            "border": null,
            "bottom": null,
            "display": null,
            "flex": null,
            "flex_flow": null,
            "grid_area": null,
            "grid_auto_columns": null,
            "grid_auto_flow": null,
            "grid_auto_rows": null,
            "grid_column": null,
            "grid_gap": null,
            "grid_row": null,
            "grid_template_areas": null,
            "grid_template_columns": null,
            "grid_template_rows": null,
            "height": null,
            "justify_content": null,
            "justify_items": null,
            "left": null,
            "margin": null,
            "max_height": null,
            "max_width": null,
            "min_height": null,
            "min_width": null,
            "object_fit": null,
            "object_position": null,
            "order": null,
            "overflow": null,
            "overflow_x": null,
            "overflow_y": null,
            "padding": null,
            "right": null,
            "top": null,
            "visibility": null,
            "width": null
          }
        },
        "d1383012f3b14428ba51fc24a7a17c8b": {
          "model_module": "@jupyter-widgets/controls",
          "model_name": "DescriptionStyleModel",
          "model_module_version": "1.5.0",
          "state": {
            "_model_module": "@jupyter-widgets/controls",
            "_model_module_version": "1.5.0",
            "_model_name": "DescriptionStyleModel",
            "_view_count": null,
            "_view_module": "@jupyter-widgets/base",
            "_view_module_version": "1.2.0",
            "_view_name": "StyleView",
            "description_width": ""
          }
        },
        "6b5930f4b9bf42ca8cf3555ba5122fa1": {
          "model_module": "@jupyter-widgets/base",
          "model_name": "LayoutModel",
          "model_module_version": "1.2.0",
          "state": {
            "_model_module": "@jupyter-widgets/base",
            "_model_module_version": "1.2.0",
            "_model_name": "LayoutModel",
            "_view_count": null,
            "_view_module": "@jupyter-widgets/base",
            "_view_module_version": "1.2.0",
            "_view_name": "LayoutView",
            "align_content": null,
            "align_items": null,
            "align_self": null,
            "border": null,
            "bottom": null,
            "display": null,
            "flex": null,
            "flex_flow": null,
            "grid_area": null,
            "grid_auto_columns": null,
            "grid_auto_flow": null,
            "grid_auto_rows": null,
            "grid_column": null,
            "grid_gap": null,
            "grid_row": null,
            "grid_template_areas": null,
            "grid_template_columns": null,
            "grid_template_rows": null,
            "height": null,
            "justify_content": null,
            "justify_items": null,
            "left": null,
            "margin": null,
            "max_height": null,
            "max_width": null,
            "min_height": null,
            "min_width": null,
            "object_fit": null,
            "object_position": null,
            "order": null,
            "overflow": null,
            "overflow_x": null,
            "overflow_y": null,
            "padding": null,
            "right": null,
            "top": null,
            "visibility": null,
            "width": null
          }
        },
        "1e88580cc31247379b4ddd923256763f": {
          "model_module": "@jupyter-widgets/controls",
          "model_name": "ProgressStyleModel",
          "model_module_version": "1.5.0",
          "state": {
            "_model_module": "@jupyter-widgets/controls",
            "_model_module_version": "1.5.0",
            "_model_name": "ProgressStyleModel",
            "_view_count": null,
            "_view_module": "@jupyter-widgets/base",
            "_view_module_version": "1.2.0",
            "_view_name": "StyleView",
            "bar_color": null,
            "description_width": ""
          }
        },
        "22de7a72e4fb42f39e6a32e956008497": {
          "model_module": "@jupyter-widgets/base",
          "model_name": "LayoutModel",
          "model_module_version": "1.2.0",
          "state": {
            "_model_module": "@jupyter-widgets/base",
            "_model_module_version": "1.2.0",
            "_model_name": "LayoutModel",
            "_view_count": null,
            "_view_module": "@jupyter-widgets/base",
            "_view_module_version": "1.2.0",
            "_view_name": "LayoutView",
            "align_content": null,
            "align_items": null,
            "align_self": null,
            "border": null,
            "bottom": null,
            "display": null,
            "flex": null,
            "flex_flow": null,
            "grid_area": null,
            "grid_auto_columns": null,
            "grid_auto_flow": null,
            "grid_auto_rows": null,
            "grid_column": null,
            "grid_gap": null,
            "grid_row": null,
            "grid_template_areas": null,
            "grid_template_columns": null,
            "grid_template_rows": null,
            "height": null,
            "justify_content": null,
            "justify_items": null,
            "left": null,
            "margin": null,
            "max_height": null,
            "max_width": null,
            "min_height": null,
            "min_width": null,
            "object_fit": null,
            "object_position": null,
            "order": null,
            "overflow": null,
            "overflow_x": null,
            "overflow_y": null,
            "padding": null,
            "right": null,
            "top": null,
            "visibility": null,
            "width": null
          }
        },
        "bdc5ec24600347e98663899cf9450d71": {
          "model_module": "@jupyter-widgets/controls",
          "model_name": "DescriptionStyleModel",
          "model_module_version": "1.5.0",
          "state": {
            "_model_module": "@jupyter-widgets/controls",
            "_model_module_version": "1.5.0",
            "_model_name": "DescriptionStyleModel",
            "_view_count": null,
            "_view_module": "@jupyter-widgets/base",
            "_view_module_version": "1.2.0",
            "_view_name": "StyleView",
            "description_width": ""
          }
        },
        "8b3ddc35125e40479eedb352f97bd135": {
          "model_module": "@jupyter-widgets/controls",
          "model_name": "HBoxModel",
          "model_module_version": "1.5.0",
          "state": {
            "_dom_classes": [],
            "_model_module": "@jupyter-widgets/controls",
            "_model_module_version": "1.5.0",
            "_model_name": "HBoxModel",
            "_view_count": null,
            "_view_module": "@jupyter-widgets/controls",
            "_view_module_version": "1.5.0",
            "_view_name": "HBoxView",
            "box_style": "",
            "children": [
              "IPY_MODEL_fab8e18e61a641f7849afa0fae3985a1",
              "IPY_MODEL_99664e50276a48d78828868b16b03cbb",
              "IPY_MODEL_b8f873601b24414b9cd25192f5a2a087"
            ],
            "layout": "IPY_MODEL_a9b4413f03cf46d0b50c3c6dbf3ea1a6"
          }
        },
        "fab8e18e61a641f7849afa0fae3985a1": {
          "model_module": "@jupyter-widgets/controls",
          "model_name": "HTMLModel",
          "model_module_version": "1.5.0",
          "state": {
            "_dom_classes": [],
            "_model_module": "@jupyter-widgets/controls",
            "_model_module_version": "1.5.0",
            "_model_name": "HTMLModel",
            "_view_count": null,
            "_view_module": "@jupyter-widgets/controls",
            "_view_module_version": "1.5.0",
            "_view_name": "HTMLView",
            "description": "",
            "description_tooltip": null,
            "layout": "IPY_MODEL_f969a6fcf1b049fd9e325c9b422306c2",
            "placeholder": "​",
            "style": "IPY_MODEL_9938e87fa7694b3da3793499cf7fc262",
            "value": "added_tokens.json: 100%"
          }
        },
        "99664e50276a48d78828868b16b03cbb": {
          "model_module": "@jupyter-widgets/controls",
          "model_name": "FloatProgressModel",
          "model_module_version": "1.5.0",
          "state": {
            "_dom_classes": [],
            "_model_module": "@jupyter-widgets/controls",
            "_model_module_version": "1.5.0",
            "_model_name": "FloatProgressModel",
            "_view_count": null,
            "_view_module": "@jupyter-widgets/controls",
            "_view_module_version": "1.5.0",
            "_view_name": "ProgressView",
            "bar_style": "success",
            "description": "",
            "description_tooltip": null,
            "layout": "IPY_MODEL_06c70816399c4f85863b3c63221224e4",
            "max": 32,
            "min": 0,
            "orientation": "horizontal",
            "style": "IPY_MODEL_416feee89b7249829659923b91139595",
            "value": 32
          }
        },
        "b8f873601b24414b9cd25192f5a2a087": {
          "model_module": "@jupyter-widgets/controls",
          "model_name": "HTMLModel",
          "model_module_version": "1.5.0",
          "state": {
            "_dom_classes": [],
            "_model_module": "@jupyter-widgets/controls",
            "_model_module_version": "1.5.0",
            "_model_name": "HTMLModel",
            "_view_count": null,
            "_view_module": "@jupyter-widgets/controls",
            "_view_module_version": "1.5.0",
            "_view_name": "HTMLView",
            "description": "",
            "description_tooltip": null,
            "layout": "IPY_MODEL_615a0455aa064a43920e8da9ea26f0d5",
            "placeholder": "​",
            "style": "IPY_MODEL_97fbc6fd4a544a4f8bcd9a0417678452",
            "value": " 32.0/32.0 [00:00&lt;00:00, 2.63kB/s]"
          }
        },
        "a9b4413f03cf46d0b50c3c6dbf3ea1a6": {
          "model_module": "@jupyter-widgets/base",
          "model_name": "LayoutModel",
          "model_module_version": "1.2.0",
          "state": {
            "_model_module": "@jupyter-widgets/base",
            "_model_module_version": "1.2.0",
            "_model_name": "LayoutModel",
            "_view_count": null,
            "_view_module": "@jupyter-widgets/base",
            "_view_module_version": "1.2.0",
            "_view_name": "LayoutView",
            "align_content": null,
            "align_items": null,
            "align_self": null,
            "border": null,
            "bottom": null,
            "display": null,
            "flex": null,
            "flex_flow": null,
            "grid_area": null,
            "grid_auto_columns": null,
            "grid_auto_flow": null,
            "grid_auto_rows": null,
            "grid_column": null,
            "grid_gap": null,
            "grid_row": null,
            "grid_template_areas": null,
            "grid_template_columns": null,
            "grid_template_rows": null,
            "height": null,
            "justify_content": null,
            "justify_items": null,
            "left": null,
            "margin": null,
            "max_height": null,
            "max_width": null,
            "min_height": null,
            "min_width": null,
            "object_fit": null,
            "object_position": null,
            "order": null,
            "overflow": null,
            "overflow_x": null,
            "overflow_y": null,
            "padding": null,
            "right": null,
            "top": null,
            "visibility": null,
            "width": null
          }
        },
        "f969a6fcf1b049fd9e325c9b422306c2": {
          "model_module": "@jupyter-widgets/base",
          "model_name": "LayoutModel",
          "model_module_version": "1.2.0",
          "state": {
            "_model_module": "@jupyter-widgets/base",
            "_model_module_version": "1.2.0",
            "_model_name": "LayoutModel",
            "_view_count": null,
            "_view_module": "@jupyter-widgets/base",
            "_view_module_version": "1.2.0",
            "_view_name": "LayoutView",
            "align_content": null,
            "align_items": null,
            "align_self": null,
            "border": null,
            "bottom": null,
            "display": null,
            "flex": null,
            "flex_flow": null,
            "grid_area": null,
            "grid_auto_columns": null,
            "grid_auto_flow": null,
            "grid_auto_rows": null,
            "grid_column": null,
            "grid_gap": null,
            "grid_row": null,
            "grid_template_areas": null,
            "grid_template_columns": null,
            "grid_template_rows": null,
            "height": null,
            "justify_content": null,
            "justify_items": null,
            "left": null,
            "margin": null,
            "max_height": null,
            "max_width": null,
            "min_height": null,
            "min_width": null,
            "object_fit": null,
            "object_position": null,
            "order": null,
            "overflow": null,
            "overflow_x": null,
            "overflow_y": null,
            "padding": null,
            "right": null,
            "top": null,
            "visibility": null,
            "width": null
          }
        },
        "9938e87fa7694b3da3793499cf7fc262": {
          "model_module": "@jupyter-widgets/controls",
          "model_name": "DescriptionStyleModel",
          "model_module_version": "1.5.0",
          "state": {
            "_model_module": "@jupyter-widgets/controls",
            "_model_module_version": "1.5.0",
            "_model_name": "DescriptionStyleModel",
            "_view_count": null,
            "_view_module": "@jupyter-widgets/base",
            "_view_module_version": "1.2.0",
            "_view_name": "StyleView",
            "description_width": ""
          }
        },
        "06c70816399c4f85863b3c63221224e4": {
          "model_module": "@jupyter-widgets/base",
          "model_name": "LayoutModel",
          "model_module_version": "1.2.0",
          "state": {
            "_model_module": "@jupyter-widgets/base",
            "_model_module_version": "1.2.0",
            "_model_name": "LayoutModel",
            "_view_count": null,
            "_view_module": "@jupyter-widgets/base",
            "_view_module_version": "1.2.0",
            "_view_name": "LayoutView",
            "align_content": null,
            "align_items": null,
            "align_self": null,
            "border": null,
            "bottom": null,
            "display": null,
            "flex": null,
            "flex_flow": null,
            "grid_area": null,
            "grid_auto_columns": null,
            "grid_auto_flow": null,
            "grid_auto_rows": null,
            "grid_column": null,
            "grid_gap": null,
            "grid_row": null,
            "grid_template_areas": null,
            "grid_template_columns": null,
            "grid_template_rows": null,
            "height": null,
            "justify_content": null,
            "justify_items": null,
            "left": null,
            "margin": null,
            "max_height": null,
            "max_width": null,
            "min_height": null,
            "min_width": null,
            "object_fit": null,
            "object_position": null,
            "order": null,
            "overflow": null,
            "overflow_x": null,
            "overflow_y": null,
            "padding": null,
            "right": null,
            "top": null,
            "visibility": null,
            "width": null
          }
        },
        "416feee89b7249829659923b91139595": {
          "model_module": "@jupyter-widgets/controls",
          "model_name": "ProgressStyleModel",
          "model_module_version": "1.5.0",
          "state": {
            "_model_module": "@jupyter-widgets/controls",
            "_model_module_version": "1.5.0",
            "_model_name": "ProgressStyleModel",
            "_view_count": null,
            "_view_module": "@jupyter-widgets/base",
            "_view_module_version": "1.2.0",
            "_view_name": "StyleView",
            "bar_color": null,
            "description_width": ""
          }
        },
        "615a0455aa064a43920e8da9ea26f0d5": {
          "model_module": "@jupyter-widgets/base",
          "model_name": "LayoutModel",
          "model_module_version": "1.2.0",
          "state": {
            "_model_module": "@jupyter-widgets/base",
            "_model_module_version": "1.2.0",
            "_model_name": "LayoutModel",
            "_view_count": null,
            "_view_module": "@jupyter-widgets/base",
            "_view_module_version": "1.2.0",
            "_view_name": "LayoutView",
            "align_content": null,
            "align_items": null,
            "align_self": null,
            "border": null,
            "bottom": null,
            "display": null,
            "flex": null,
            "flex_flow": null,
            "grid_area": null,
            "grid_auto_columns": null,
            "grid_auto_flow": null,
            "grid_auto_rows": null,
            "grid_column": null,
            "grid_gap": null,
            "grid_row": null,
            "grid_template_areas": null,
            "grid_template_columns": null,
            "grid_template_rows": null,
            "height": null,
            "justify_content": null,
            "justify_items": null,
            "left": null,
            "margin": null,
            "max_height": null,
            "max_width": null,
            "min_height": null,
            "min_width": null,
            "object_fit": null,
            "object_position": null,
            "order": null,
            "overflow": null,
            "overflow_x": null,
            "overflow_y": null,
            "padding": null,
            "right": null,
            "top": null,
            "visibility": null,
            "width": null
          }
        },
        "97fbc6fd4a544a4f8bcd9a0417678452": {
          "model_module": "@jupyter-widgets/controls",
          "model_name": "DescriptionStyleModel",
          "model_module_version": "1.5.0",
          "state": {
            "_model_module": "@jupyter-widgets/controls",
            "_model_module_version": "1.5.0",
            "_model_name": "DescriptionStyleModel",
            "_view_count": null,
            "_view_module": "@jupyter-widgets/base",
            "_view_module_version": "1.2.0",
            "_view_name": "StyleView",
            "description_width": ""
          }
        },
        "138af5158db64d669c431f2b0253a8d8": {
          "model_module": "@jupyter-widgets/controls",
          "model_name": "HBoxModel",
          "model_module_version": "1.5.0",
          "state": {
            "_dom_classes": [],
            "_model_module": "@jupyter-widgets/controls",
            "_model_module_version": "1.5.0",
            "_model_name": "HBoxModel",
            "_view_count": null,
            "_view_module": "@jupyter-widgets/controls",
            "_view_module_version": "1.5.0",
            "_view_name": "HBoxView",
            "box_style": "",
            "children": [
              "IPY_MODEL_e58a997759b3458c9d13d4cc98888be3",
              "IPY_MODEL_588b7157ed804ca3998526c1fee666b4",
              "IPY_MODEL_b3fab0afd3094ab8ad93f7423348ec0b"
            ],
            "layout": "IPY_MODEL_0e2facdcc226488caa7d5ab130131890"
          }
        },
        "e58a997759b3458c9d13d4cc98888be3": {
          "model_module": "@jupyter-widgets/controls",
          "model_name": "HTMLModel",
          "model_module_version": "1.5.0",
          "state": {
            "_dom_classes": [],
            "_model_module": "@jupyter-widgets/controls",
            "_model_module_version": "1.5.0",
            "_model_name": "HTMLModel",
            "_view_count": null,
            "_view_module": "@jupyter-widgets/controls",
            "_view_module_version": "1.5.0",
            "_view_name": "HTMLView",
            "description": "",
            "description_tooltip": null,
            "layout": "IPY_MODEL_c0f678a3e10d483db3d351926dcb1b83",
            "placeholder": "​",
            "style": "IPY_MODEL_2e2f4a30dbcb493a9893dcbca3d6ef0c",
            "value": "special_tokens_map.json: 100%"
          }
        },
        "588b7157ed804ca3998526c1fee666b4": {
          "model_module": "@jupyter-widgets/controls",
          "model_name": "FloatProgressModel",
          "model_module_version": "1.5.0",
          "state": {
            "_dom_classes": [],
            "_model_module": "@jupyter-widgets/controls",
            "_model_module_version": "1.5.0",
            "_model_name": "FloatProgressModel",
            "_view_count": null,
            "_view_module": "@jupyter-widgets/controls",
            "_view_module_version": "1.5.0",
            "_view_name": "ProgressView",
            "bar_style": "success",
            "description": "",
            "description_tooltip": null,
            "layout": "IPY_MODEL_dc3c0d25bfea4df49cc556abdbdbf8b8",
            "max": 96,
            "min": 0,
            "orientation": "horizontal",
            "style": "IPY_MODEL_6993589b1a21499eab3f26618f9dc69e",
            "value": 96
          }
        },
        "b3fab0afd3094ab8ad93f7423348ec0b": {
          "model_module": "@jupyter-widgets/controls",
          "model_name": "HTMLModel",
          "model_module_version": "1.5.0",
          "state": {
            "_dom_classes": [],
            "_model_module": "@jupyter-widgets/controls",
            "_model_module_version": "1.5.0",
            "_model_name": "HTMLModel",
            "_view_count": null,
            "_view_module": "@jupyter-widgets/controls",
            "_view_module_version": "1.5.0",
            "_view_name": "HTMLView",
            "description": "",
            "description_tooltip": null,
            "layout": "IPY_MODEL_5799a1b1734447b0a33336048148cdb5",
            "placeholder": "​",
            "style": "IPY_MODEL_b806a588331b4db1909b3f5c320f1005",
            "value": " 96.0/96.0 [00:00&lt;00:00, 6.72kB/s]"
          }
        },
        "0e2facdcc226488caa7d5ab130131890": {
          "model_module": "@jupyter-widgets/base",
          "model_name": "LayoutModel",
          "model_module_version": "1.2.0",
          "state": {
            "_model_module": "@jupyter-widgets/base",
            "_model_module_version": "1.2.0",
            "_model_name": "LayoutModel",
            "_view_count": null,
            "_view_module": "@jupyter-widgets/base",
            "_view_module_version": "1.2.0",
            "_view_name": "LayoutView",
            "align_content": null,
            "align_items": null,
            "align_self": null,
            "border": null,
            "bottom": null,
            "display": null,
            "flex": null,
            "flex_flow": null,
            "grid_area": null,
            "grid_auto_columns": null,
            "grid_auto_flow": null,
            "grid_auto_rows": null,
            "grid_column": null,
            "grid_gap": null,
            "grid_row": null,
            "grid_template_areas": null,
            "grid_template_columns": null,
            "grid_template_rows": null,
            "height": null,
            "justify_content": null,
            "justify_items": null,
            "left": null,
            "margin": null,
            "max_height": null,
            "max_width": null,
            "min_height": null,
            "min_width": null,
            "object_fit": null,
            "object_position": null,
            "order": null,
            "overflow": null,
            "overflow_x": null,
            "overflow_y": null,
            "padding": null,
            "right": null,
            "top": null,
            "visibility": null,
            "width": null
          }
        },
        "c0f678a3e10d483db3d351926dcb1b83": {
          "model_module": "@jupyter-widgets/base",
          "model_name": "LayoutModel",
          "model_module_version": "1.2.0",
          "state": {
            "_model_module": "@jupyter-widgets/base",
            "_model_module_version": "1.2.0",
            "_model_name": "LayoutModel",
            "_view_count": null,
            "_view_module": "@jupyter-widgets/base",
            "_view_module_version": "1.2.0",
            "_view_name": "LayoutView",
            "align_content": null,
            "align_items": null,
            "align_self": null,
            "border": null,
            "bottom": null,
            "display": null,
            "flex": null,
            "flex_flow": null,
            "grid_area": null,
            "grid_auto_columns": null,
            "grid_auto_flow": null,
            "grid_auto_rows": null,
            "grid_column": null,
            "grid_gap": null,
            "grid_row": null,
            "grid_template_areas": null,
            "grid_template_columns": null,
            "grid_template_rows": null,
            "height": null,
            "justify_content": null,
            "justify_items": null,
            "left": null,
            "margin": null,
            "max_height": null,
            "max_width": null,
            "min_height": null,
            "min_width": null,
            "object_fit": null,
            "object_position": null,
            "order": null,
            "overflow": null,
            "overflow_x": null,
            "overflow_y": null,
            "padding": null,
            "right": null,
            "top": null,
            "visibility": null,
            "width": null
          }
        },
        "2e2f4a30dbcb493a9893dcbca3d6ef0c": {
          "model_module": "@jupyter-widgets/controls",
          "model_name": "DescriptionStyleModel",
          "model_module_version": "1.5.0",
          "state": {
            "_model_module": "@jupyter-widgets/controls",
            "_model_module_version": "1.5.0",
            "_model_name": "DescriptionStyleModel",
            "_view_count": null,
            "_view_module": "@jupyter-widgets/base",
            "_view_module_version": "1.2.0",
            "_view_name": "StyleView",
            "description_width": ""
          }
        },
        "dc3c0d25bfea4df49cc556abdbdbf8b8": {
          "model_module": "@jupyter-widgets/base",
          "model_name": "LayoutModel",
          "model_module_version": "1.2.0",
          "state": {
            "_model_module": "@jupyter-widgets/base",
            "_model_module_version": "1.2.0",
            "_model_name": "LayoutModel",
            "_view_count": null,
            "_view_module": "@jupyter-widgets/base",
            "_view_module_version": "1.2.0",
            "_view_name": "LayoutView",
            "align_content": null,
            "align_items": null,
            "align_self": null,
            "border": null,
            "bottom": null,
            "display": null,
            "flex": null,
            "flex_flow": null,
            "grid_area": null,
            "grid_auto_columns": null,
            "grid_auto_flow": null,
            "grid_auto_rows": null,
            "grid_column": null,
            "grid_gap": null,
            "grid_row": null,
            "grid_template_areas": null,
            "grid_template_columns": null,
            "grid_template_rows": null,
            "height": null,
            "justify_content": null,
            "justify_items": null,
            "left": null,
            "margin": null,
            "max_height": null,
            "max_width": null,
            "min_height": null,
            "min_width": null,
            "object_fit": null,
            "object_position": null,
            "order": null,
            "overflow": null,
            "overflow_x": null,
            "overflow_y": null,
            "padding": null,
            "right": null,
            "top": null,
            "visibility": null,
            "width": null
          }
        },
        "6993589b1a21499eab3f26618f9dc69e": {
          "model_module": "@jupyter-widgets/controls",
          "model_name": "ProgressStyleModel",
          "model_module_version": "1.5.0",
          "state": {
            "_model_module": "@jupyter-widgets/controls",
            "_model_module_version": "1.5.0",
            "_model_name": "ProgressStyleModel",
            "_view_count": null,
            "_view_module": "@jupyter-widgets/base",
            "_view_module_version": "1.2.0",
            "_view_name": "StyleView",
            "bar_color": null,
            "description_width": ""
          }
        },
        "5799a1b1734447b0a33336048148cdb5": {
          "model_module": "@jupyter-widgets/base",
          "model_name": "LayoutModel",
          "model_module_version": "1.2.0",
          "state": {
            "_model_module": "@jupyter-widgets/base",
            "_model_module_version": "1.2.0",
            "_model_name": "LayoutModel",
            "_view_count": null,
            "_view_module": "@jupyter-widgets/base",
            "_view_module_version": "1.2.0",
            "_view_name": "LayoutView",
            "align_content": null,
            "align_items": null,
            "align_self": null,
            "border": null,
            "bottom": null,
            "display": null,
            "flex": null,
            "flex_flow": null,
            "grid_area": null,
            "grid_auto_columns": null,
            "grid_auto_flow": null,
            "grid_auto_rows": null,
            "grid_column": null,
            "grid_gap": null,
            "grid_row": null,
            "grid_template_areas": null,
            "grid_template_columns": null,
            "grid_template_rows": null,
            "height": null,
            "justify_content": null,
            "justify_items": null,
            "left": null,
            "margin": null,
            "max_height": null,
            "max_width": null,
            "min_height": null,
            "min_width": null,
            "object_fit": null,
            "object_position": null,
            "order": null,
            "overflow": null,
            "overflow_x": null,
            "overflow_y": null,
            "padding": null,
            "right": null,
            "top": null,
            "visibility": null,
            "width": null
          }
        },
        "b806a588331b4db1909b3f5c320f1005": {
          "model_module": "@jupyter-widgets/controls",
          "model_name": "DescriptionStyleModel",
          "model_module_version": "1.5.0",
          "state": {
            "_model_module": "@jupyter-widgets/controls",
            "_model_module_version": "1.5.0",
            "_model_name": "DescriptionStyleModel",
            "_view_count": null,
            "_view_module": "@jupyter-widgets/base",
            "_view_module_version": "1.2.0",
            "_view_name": "StyleView",
            "description_width": ""
          }
        },
        "6fe8c9ce2c304a389f185f26430fb08d": {
          "model_module": "@jupyter-widgets/controls",
          "model_name": "HBoxModel",
          "model_module_version": "1.5.0",
          "state": {
            "_dom_classes": [],
            "_model_module": "@jupyter-widgets/controls",
            "_model_module_version": "1.5.0",
            "_model_name": "HBoxModel",
            "_view_count": null,
            "_view_module": "@jupyter-widgets/controls",
            "_view_module_version": "1.5.0",
            "_view_name": "HBoxView",
            "box_style": "",
            "children": [
              "IPY_MODEL_e4088c59e43e40f780b4da6edbd8cd20",
              "IPY_MODEL_1084fad400dc45099a9fa08b892c60c6",
              "IPY_MODEL_0f7f673339fd4807ac59dfb83295f8cf"
            ],
            "layout": "IPY_MODEL_580c66765e004c0aa12fe41422f015cf"
          }
        },
        "e4088c59e43e40f780b4da6edbd8cd20": {
          "model_module": "@jupyter-widgets/controls",
          "model_name": "HTMLModel",
          "model_module_version": "1.5.0",
          "state": {
            "_dom_classes": [],
            "_model_module": "@jupyter-widgets/controls",
            "_model_module_version": "1.5.0",
            "_model_name": "HTMLModel",
            "_view_count": null,
            "_view_module": "@jupyter-widgets/controls",
            "_view_module_version": "1.5.0",
            "_view_name": "HTMLView",
            "description": "",
            "description_tooltip": null,
            "layout": "IPY_MODEL_802a11f349074ff683438f935254e222",
            "placeholder": "​",
            "style": "IPY_MODEL_da64205b78744f81944871444ab53429",
            "value": "Map: 100%"
          }
        },
        "1084fad400dc45099a9fa08b892c60c6": {
          "model_module": "@jupyter-widgets/controls",
          "model_name": "FloatProgressModel",
          "model_module_version": "1.5.0",
          "state": {
            "_dom_classes": [],
            "_model_module": "@jupyter-widgets/controls",
            "_model_module_version": "1.5.0",
            "_model_name": "FloatProgressModel",
            "_view_count": null,
            "_view_module": "@jupyter-widgets/controls",
            "_view_module_version": "1.5.0",
            "_view_name": "ProgressView",
            "bar_style": "success",
            "description": "",
            "description_tooltip": null,
            "layout": "IPY_MODEL_e2cc327fb75241a9b9d0409374e4d929",
            "max": 162,
            "min": 0,
            "orientation": "horizontal",
            "style": "IPY_MODEL_b8c1488ac6f64c21a2e1d833be22b76c",
            "value": 162
          }
        },
        "0f7f673339fd4807ac59dfb83295f8cf": {
          "model_module": "@jupyter-widgets/controls",
          "model_name": "HTMLModel",
          "model_module_version": "1.5.0",
          "state": {
            "_dom_classes": [],
            "_model_module": "@jupyter-widgets/controls",
            "_model_module_version": "1.5.0",
            "_model_name": "HTMLModel",
            "_view_count": null,
            "_view_module": "@jupyter-widgets/controls",
            "_view_module_version": "1.5.0",
            "_view_name": "HTMLView",
            "description": "",
            "description_tooltip": null,
            "layout": "IPY_MODEL_657559d685874c0f87e913067b3b4740",
            "placeholder": "​",
            "style": "IPY_MODEL_7ef5d6804ddf461f83bdbbbc11313d6e",
            "value": " 162/162 [00:21&lt;00:00, 10.92 examples/s]"
          }
        },
        "580c66765e004c0aa12fe41422f015cf": {
          "model_module": "@jupyter-widgets/base",
          "model_name": "LayoutModel",
          "model_module_version": "1.2.0",
          "state": {
            "_model_module": "@jupyter-widgets/base",
            "_model_module_version": "1.2.0",
            "_model_name": "LayoutModel",
            "_view_count": null,
            "_view_module": "@jupyter-widgets/base",
            "_view_module_version": "1.2.0",
            "_view_name": "LayoutView",
            "align_content": null,
            "align_items": null,
            "align_self": null,
            "border": null,
            "bottom": null,
            "display": null,
            "flex": null,
            "flex_flow": null,
            "grid_area": null,
            "grid_auto_columns": null,
            "grid_auto_flow": null,
            "grid_auto_rows": null,
            "grid_column": null,
            "grid_gap": null,
            "grid_row": null,
            "grid_template_areas": null,
            "grid_template_columns": null,
            "grid_template_rows": null,
            "height": null,
            "justify_content": null,
            "justify_items": null,
            "left": null,
            "margin": null,
            "max_height": null,
            "max_width": null,
            "min_height": null,
            "min_width": null,
            "object_fit": null,
            "object_position": null,
            "order": null,
            "overflow": null,
            "overflow_x": null,
            "overflow_y": null,
            "padding": null,
            "right": null,
            "top": null,
            "visibility": null,
            "width": null
          }
        },
        "802a11f349074ff683438f935254e222": {
          "model_module": "@jupyter-widgets/base",
          "model_name": "LayoutModel",
          "model_module_version": "1.2.0",
          "state": {
            "_model_module": "@jupyter-widgets/base",
            "_model_module_version": "1.2.0",
            "_model_name": "LayoutModel",
            "_view_count": null,
            "_view_module": "@jupyter-widgets/base",
            "_view_module_version": "1.2.0",
            "_view_name": "LayoutView",
            "align_content": null,
            "align_items": null,
            "align_self": null,
            "border": null,
            "bottom": null,
            "display": null,
            "flex": null,
            "flex_flow": null,
            "grid_area": null,
            "grid_auto_columns": null,
            "grid_auto_flow": null,
            "grid_auto_rows": null,
            "grid_column": null,
            "grid_gap": null,
            "grid_row": null,
            "grid_template_areas": null,
            "grid_template_columns": null,
            "grid_template_rows": null,
            "height": null,
            "justify_content": null,
            "justify_items": null,
            "left": null,
            "margin": null,
            "max_height": null,
            "max_width": null,
            "min_height": null,
            "min_width": null,
            "object_fit": null,
            "object_position": null,
            "order": null,
            "overflow": null,
            "overflow_x": null,
            "overflow_y": null,
            "padding": null,
            "right": null,
            "top": null,
            "visibility": null,
            "width": null
          }
        },
        "da64205b78744f81944871444ab53429": {
          "model_module": "@jupyter-widgets/controls",
          "model_name": "DescriptionStyleModel",
          "model_module_version": "1.5.0",
          "state": {
            "_model_module": "@jupyter-widgets/controls",
            "_model_module_version": "1.5.0",
            "_model_name": "DescriptionStyleModel",
            "_view_count": null,
            "_view_module": "@jupyter-widgets/base",
            "_view_module_version": "1.2.0",
            "_view_name": "StyleView",
            "description_width": ""
          }
        },
        "e2cc327fb75241a9b9d0409374e4d929": {
          "model_module": "@jupyter-widgets/base",
          "model_name": "LayoutModel",
          "model_module_version": "1.2.0",
          "state": {
            "_model_module": "@jupyter-widgets/base",
            "_model_module_version": "1.2.0",
            "_model_name": "LayoutModel",
            "_view_count": null,
            "_view_module": "@jupyter-widgets/base",
            "_view_module_version": "1.2.0",
            "_view_name": "LayoutView",
            "align_content": null,
            "align_items": null,
            "align_self": null,
            "border": null,
            "bottom": null,
            "display": null,
            "flex": null,
            "flex_flow": null,
            "grid_area": null,
            "grid_auto_columns": null,
            "grid_auto_flow": null,
            "grid_auto_rows": null,
            "grid_column": null,
            "grid_gap": null,
            "grid_row": null,
            "grid_template_areas": null,
            "grid_template_columns": null,
            "grid_template_rows": null,
            "height": null,
            "justify_content": null,
            "justify_items": null,
            "left": null,
            "margin": null,
            "max_height": null,
            "max_width": null,
            "min_height": null,
            "min_width": null,
            "object_fit": null,
            "object_position": null,
            "order": null,
            "overflow": null,
            "overflow_x": null,
            "overflow_y": null,
            "padding": null,
            "right": null,
            "top": null,
            "visibility": null,
            "width": null
          }
        },
        "b8c1488ac6f64c21a2e1d833be22b76c": {
          "model_module": "@jupyter-widgets/controls",
          "model_name": "ProgressStyleModel",
          "model_module_version": "1.5.0",
          "state": {
            "_model_module": "@jupyter-widgets/controls",
            "_model_module_version": "1.5.0",
            "_model_name": "ProgressStyleModel",
            "_view_count": null,
            "_view_module": "@jupyter-widgets/base",
            "_view_module_version": "1.2.0",
            "_view_name": "StyleView",
            "bar_color": null,
            "description_width": ""
          }
        },
        "657559d685874c0f87e913067b3b4740": {
          "model_module": "@jupyter-widgets/base",
          "model_name": "LayoutModel",
          "model_module_version": "1.2.0",
          "state": {
            "_model_module": "@jupyter-widgets/base",
            "_model_module_version": "1.2.0",
            "_model_name": "LayoutModel",
            "_view_count": null,
            "_view_module": "@jupyter-widgets/base",
            "_view_module_version": "1.2.0",
            "_view_name": "LayoutView",
            "align_content": null,
            "align_items": null,
            "align_self": null,
            "border": null,
            "bottom": null,
            "display": null,
            "flex": null,
            "flex_flow": null,
            "grid_area": null,
            "grid_auto_columns": null,
            "grid_auto_flow": null,
            "grid_auto_rows": null,
            "grid_column": null,
            "grid_gap": null,
            "grid_row": null,
            "grid_template_areas": null,
            "grid_template_columns": null,
            "grid_template_rows": null,
            "height": null,
            "justify_content": null,
            "justify_items": null,
            "left": null,
            "margin": null,
            "max_height": null,
            "max_width": null,
            "min_height": null,
            "min_width": null,
            "object_fit": null,
            "object_position": null,
            "order": null,
            "overflow": null,
            "overflow_x": null,
            "overflow_y": null,
            "padding": null,
            "right": null,
            "top": null,
            "visibility": null,
            "width": null
          }
        },
        "7ef5d6804ddf461f83bdbbbc11313d6e": {
          "model_module": "@jupyter-widgets/controls",
          "model_name": "DescriptionStyleModel",
          "model_module_version": "1.5.0",
          "state": {
            "_model_module": "@jupyter-widgets/controls",
            "_model_module_version": "1.5.0",
            "_model_name": "DescriptionStyleModel",
            "_view_count": null,
            "_view_module": "@jupyter-widgets/base",
            "_view_module_version": "1.2.0",
            "_view_name": "StyleView",
            "description_width": ""
          }
        }
      }
    }
  },
  "nbformat": 4,
  "nbformat_minor": 0
}